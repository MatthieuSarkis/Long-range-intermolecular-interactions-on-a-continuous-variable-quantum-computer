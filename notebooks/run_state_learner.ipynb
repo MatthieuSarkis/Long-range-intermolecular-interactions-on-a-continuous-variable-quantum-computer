{
  "cells": [
    {
      "cell_type": "code",
      "execution_count": 212,
      "metadata": {
        "collapsed": false
      },
      "outputs": [],
      "source": [
        "import numpy as np\n",
        "\n",
        "import strawberryfields as sf\n",
        "from strawberryfields.ops import *\n",
        "from strawberryfields.utils import operation\n",
        "\n",
        "# Cutoff dimension\n",
        "cutoff = 9\n",
        "\n",
        "# Number of layers\n",
        "depth = 15\n",
        "\n",
        "# Number of steps in optimization routine performing gradient descent\n",
        "#reps = 200\n",
        "reps = 2\n",
        "\n",
        "# Learning rate\n",
        "lr = 0.05\n",
        "\n",
        "# Standard deviation of initial parameters\n",
        "passive_sd = 0.1\n",
        "active_sd = 0.001"
      ]
    },
    {
      "cell_type": "code",
      "execution_count": 213,
      "metadata": {
        "collapsed": false
      },
      "outputs": [],
      "source": [
        "# Matthieu's comment: in our case of two QDOs, we need a two-mode circuit\n",
        "# the shape of the parameter will therefore rather be (depth, 2)\n",
        "\n",
        "import tensorflow as tf\n",
        "\n",
        "# set the random seed\n",
        "tf.random.set_seed(42)\n",
        "\n",
        "# squeeze gate\n",
        "sq_r = tf.random.normal(shape=[depth], stddev=active_sd)\n",
        "sq_phi = tf.random.normal(shape=[depth], stddev=passive_sd)\n",
        "\n",
        "# displacement gate\n",
        "d_r = tf.random.normal(shape=[depth], stddev=active_sd)\n",
        "d_phi = tf.random.normal(shape=[depth], stddev=passive_sd)\n",
        "\n",
        "# rotation gates\n",
        "r1 = tf.random.normal(shape=[depth], stddev=passive_sd)\n",
        "r2 = tf.random.normal(shape=[depth], stddev=passive_sd)\n",
        "\n",
        "\n",
        "# Matthieu's comment: do we need this non-Gaussian gate in the case of a quadratic\n",
        "# dipole-dipole interaction? Probably not. It would become relevant for higher\n",
        "# multipolar interactions I think\n",
        "# kerr gate\n",
        "kappa = tf.random.normal(shape=[depth], stddev=active_sd)"
      ]
    },
    {
      "cell_type": "code",
      "execution_count": 214,
      "metadata": {
        "collapsed": false
      },
      "outputs": [],
      "source": [
        "weights = tf.convert_to_tensor([r1, sq_r, sq_phi, r2, d_r, d_phi, kappa])\n",
        "weights = tf.Variable(tf.transpose(weights))"
      ]
    },
    {
      "cell_type": "code",
      "execution_count": null,
      "metadata": {},
      "outputs": [],
      "source": [
        "weights"
      ]
    },
    {
      "cell_type": "markdown",
      "metadata": {},
      "source": [
        "Since we have a depth of 15 (so 15 layers), and each layer takes\n",
        "7 different types of parameters, the final shape of our weights\n",
        "array should be $\\text{depth}\\times 7$ or ``(15, 7)``:\n",
        "\n"
      ]
    },
    {
      "cell_type": "code",
      "execution_count": null,
      "metadata": {
        "collapsed": false
      },
      "outputs": [],
      "source": [
        "print(weights.shape)"
      ]
    },
    {
      "cell_type": "code",
      "execution_count": null,
      "metadata": {
        "collapsed": false
      },
      "outputs": [],
      "source": [
        "# Single-mode Strawberry Fields program\n",
        "prog = sf.Program(1)\n",
        "\n",
        "# Create the 7 Strawberry Fields free parameters for each layer\n",
        "sf_params = []\n",
        "names = [\"r1\", \"sq_r\", \"sq_phi\", \"r2\", \"d_r\", \"d_phi\", \"kappa\"]\n",
        "\n",
        "for i in range(depth):\n",
        "    # For the ith layer, generate parameter names \"r1_i\", \"sq_r_i\", etc.\n",
        "    sf_params_names = [\"{}_{}\".format(n, i) for n in names]\n",
        "    # Create the parameters, and append them to our list ``sf_params``.\n",
        "    sf_params.append(prog.params(*sf_params_names))"
      ]
    },
    {
      "cell_type": "markdown",
      "metadata": {},
      "source": [
        "``sf_params`` is now a nested list of shape ``(depth, 7)``, matching\n",
        "the shape of ``weights``.\n",
        "\n"
      ]
    },
    {
      "cell_type": "code",
      "execution_count": null,
      "metadata": {
        "collapsed": false
      },
      "outputs": [],
      "source": [
        "sf_params = np.array(sf_params)\n",
        "print(sf_params.shape)"
      ]
    },
    {
      "cell_type": "markdown",
      "metadata": {},
      "source": [
        "Now, we can create a function to define the $i$\\ th layer, acting on qumode ``q``. We add\n",
        "the :class:`~strawberryfields.utils.operation` decorator so that the layer can be used as a single\n",
        "operation when constructing our circuit within the usual Strawberry Fields Program context\n",
        "\n"
      ]
    },
    {
      "cell_type": "code",
      "execution_count": null,
      "metadata": {
        "collapsed": false
      },
      "outputs": [],
      "source": [
        "# layer architecture\n",
        "@operation(1)\n",
        "def layer(i, q):\n",
        "    Rgate(sf_params[i][0]) | q\n",
        "    Sgate(sf_params[i][1], sf_params[i][2]) | q\n",
        "    Rgate(sf_params[i][3]) | q\n",
        "    Dgate(sf_params[i][4], sf_params[i][5]) | q\n",
        "    Kgate(sf_params[i][6]) | q\n",
        "    return q"
      ]
    },
    {
      "cell_type": "markdown",
      "metadata": {},
      "source": [
        "Now that we have defined our gate parameters and our layer structure, we\n",
        "can construct our variational quantum circuit.\n",
        "\n"
      ]
    },
    {
      "cell_type": "code",
      "execution_count": null,
      "metadata": {
        "collapsed": false
      },
      "outputs": [],
      "source": [
        "# Apply circuit of layers with corresponding depth\n",
        "with prog.context as q:\n",
        "    for k in range(depth):\n",
        "        layer(k) | q[0]\n",
        "    #MeasureFock() | q[0]\n",
        "    #MeasureHomodyne(phi=0.0) | q[0]"
      ]
    },
    {
      "cell_type": "code",
      "execution_count": null,
      "metadata": {
        "collapsed": false
      },
      "outputs": [],
      "source": [
        "eng = sf.Engine(\"tf\", backend_options={\"cutoff_dim\": cutoff})"
      ]
    },
    {
      "cell_type": "code",
      "execution_count": null,
      "metadata": {},
      "outputs": [],
      "source": [
        "mapping = {p.name: w for p, w in zip(sf_params.flatten(), tf.reshape(weights, [-1]))}\n",
        "\n",
        "# Run engine\n",
        "results = eng.run(prog, args=mapping, shots=1)"
      ]
    },
    {
      "cell_type": "code",
      "execution_count": null,
      "metadata": {
        "collapsed": false
      },
      "outputs": [],
      "source": [
        "def cost(weights):\n",
        "    # Create a dictionary mapping from the names of the Strawberry Fields\n",
        "    # free parameters to the TensorFlow weight values.\n",
        "    mapping = {p.name: w for p, w in zip(sf_params.flatten(), tf.reshape(weights, [-1]))}\n",
        "\n",
        "    # Run engine\n",
        "    results = eng.run(prog, args=mapping)\n",
        "    #photon_number = tf.cast(results.samples[0][0], dtype=tf.float32)\n",
        "    state = results.state\n",
        "    x = state.quad_expectation(mode=0, phi=0.0)[0] # returns both the expectation value and variance of the position quadrature.\n",
        "    p = state.quad_expectation(mode=0, phi=0.5*np.pi)[0] # returns both the expectation value and variance of the position quadrature.\n",
        "\n",
        "    # Objective function to minimize\n",
        "    #cost = photon_number + 0.5\n",
        "    #cost = photon_number\n",
        "    return 0.5 * (x**2 + p**2)"
      ]
    },
    {
      "cell_type": "code",
      "execution_count": null,
      "metadata": {},
      "outputs": [],
      "source": [
        "cost(weights)"
      ]
    },
    {
      "cell_type": "markdown",
      "metadata": {},
      "source": [
        "Now that the cost function is defined, we can define and run the\n",
        "optimization. Below, we choose the Adam\n",
        "optimizer that is built into TensorFlow:\n",
        "\n"
      ]
    },
    {
      "cell_type": "code",
      "execution_count": null,
      "metadata": {
        "collapsed": false
      },
      "outputs": [],
      "source": [
        "opt = tf.keras.optimizers.Adam(learning_rate=lr)"
      ]
    },
    {
      "cell_type": "markdown",
      "metadata": {},
      "source": [
        "We then loop over all repetitions, storing the best predicted fidelity\n",
        "value.\n",
        "\n"
      ]
    },
    {
      "cell_type": "code",
      "execution_count": 209,
      "metadata": {
        "collapsed": false
      },
      "outputs": [
        {
          "name": "stdout",
          "output_type": "stream",
          "text": [
            "Rep: 0 Cost: 0.00000000022092427887\n",
            "Rep: 1 Cost: 0.00000000002382671838\n",
            "Rep: 2 Cost: 0.00000000011886669427\n",
            "Rep: 3 Cost: 0.00000000010917711180\n",
            "Rep: 4 Cost: 0.00000000007684963776\n",
            "Rep: 5 Cost: 0.00000000003781919222\n",
            "Rep: 6 Cost: 0.00000000010662415395\n",
            "Rep: 7 Cost: 0.00000000006393163776\n",
            "Rep: 8 Cost: 0.00000000001240696434\n",
            "Rep: 9 Cost: 0.00000000010076661727\n",
            "Rep: 10 Cost: 0.00000000002494582318\n",
            "Rep: 11 Cost: 0.00000000003107214486\n",
            "Rep: 12 Cost: 0.00000000005508882239\n",
            "Rep: 13 Cost: 0.00000000002560973655\n",
            "Rep: 14 Cost: 0.00000000002131983479\n",
            "Rep: 15 Cost: 0.00000000002686073586\n",
            "Rep: 16 Cost: 0.00000000003082778477\n",
            "Rep: 17 Cost: 0.00000000000259137156\n",
            "Rep: 18 Cost: 0.00000000002731015414\n",
            "Rep: 19 Cost: 0.00000000002256683729\n",
            "Rep: 20 Cost: 0.00000000000089184216\n",
            "Rep: 21 Cost: 0.00000000002822464484\n",
            "Rep: 22 Cost: 0.00000000001302602470\n",
            "Rep: 23 Cost: 0.00000000000495425923\n",
            "Rep: 24 Cost: 0.00000000001818600825\n",
            "Rep: 25 Cost: 0.00000000000724842408\n",
            "Rep: 26 Cost: 0.00000000000866562377\n",
            "Rep: 27 Cost: 0.00000000000884015083\n",
            "Rep: 28 Cost: 0.00000000000773470177\n",
            "Rep: 29 Cost: 0.00000000000447342163\n",
            "Rep: 30 Cost: 0.00000000000348221452\n",
            "Rep: 31 Cost: 0.00000000000703614944\n",
            "Rep: 32 Cost: 0.00000000000075317530\n",
            "Rep: 33 Cost: 0.00000000000395872224\n",
            "Rep: 34 Cost: 0.00000000000542466072\n",
            "Rep: 35 Cost: 0.00000000000029887204\n",
            "Rep: 36 Cost: 0.00000000000294964053\n",
            "Rep: 37 Cost: 0.00000000000367528230\n",
            "Rep: 38 Cost: 0.00000000000033850700\n",
            "Rep: 39 Cost: 0.00000000000233812969\n",
            "Rep: 40 Cost: 0.00000000000258071342\n",
            "Rep: 41 Cost: 0.00000000000040689674\n",
            "Rep: 42 Cost: 0.00000000000131017419\n",
            "Rep: 43 Cost: 0.00000000000232402986\n",
            "Rep: 44 Cost: 0.00000000000008448797\n",
            "Rep: 45 Cost: 0.00000000000149003032\n",
            "Rep: 46 Cost: 0.00000000000092370556\n",
            "Rep: 47 Cost: 0.00000000000043076653\n",
            "Rep: 48 Cost: 0.00000000000139666056\n",
            "Rep: 49 Cost: 0.00000000000024158453\n",
            "Rep: 50 Cost: 0.00000000000145139456\n",
            "Rep: 51 Cost: 0.00000000000257271981\n",
            "Rep: 52 Cost: 0.00000000000028776981\n",
            "Rep: 53 Cost: 0.00000000000143973722\n",
            "Rep: 54 Cost: 0.00000000000213740137\n",
            "Rep: 55 Cost: 0.00000000000006039613\n",
            "Rep: 56 Cost: 0.00000000000126088029\n",
            "Rep: 57 Cost: 0.00000000000179956050\n",
            "Rep: 58 Cost: 0.00000000000013145041\n",
            "Rep: 59 Cost: 0.00000000000039890313\n",
            "Rep: 60 Cost: 0.00000000000062705396\n",
            "Rep: 61 Cost: 0.00000000000048760995\n",
            "Rep: 62 Cost: 0.00000000000095079500\n",
            "Rep: 63 Cost: 0.00000000000098276942\n",
            "Rep: 64 Cost: 0.00000000000066624484\n",
            "Rep: 65 Cost: 0.00000000000212685425\n",
            "Rep: 66 Cost: 0.00000000000149935619\n",
            "Rep: 67 Cost: 0.00000000000025934810\n",
            "Rep: 68 Cost: 0.00000000000115119025\n",
            "Rep: 69 Cost: 0.00000000000120625732\n",
            "Rep: 70 Cost: 0.00000000000001698641\n",
            "Rep: 71 Cost: 0.00000000000117106325\n",
            "Rep: 72 Cost: 0.00000000000080657703\n",
            "Rep: 73 Cost: 0.00000000000027222669\n",
            "Rep: 74 Cost: 0.00000000000071054274\n",
            "Rep: 75 Cost: 0.00000000000036415315\n",
            "Rep: 76 Cost: 0.00000000000022482016\n",
            "Rep: 77 Cost: 0.00000000000089317442\n",
            "Rep: 78 Cost: 0.00000000000002708944\n",
            "Rep: 79 Cost: 0.00000000000028421709\n",
            "Rep: 80 Cost: 0.00000000000023281377\n",
            "Rep: 81 Cost: 0.00000000000017774671\n",
            "Rep: 82 Cost: 0.00000000000002309264\n",
            "Rep: 83 Cost: 0.00000000000035882408\n",
            "Rep: 84 Cost: 0.00000000000034150460\n",
            "Rep: 85 Cost: 0.00000000000031974423\n",
            "Rep: 86 Cost: 0.00000000000122923893\n",
            "Rep: 87 Cost: 0.00000000000075639495\n",
            "Rep: 88 Cost: 0.00000000000025635050\n",
            "Rep: 89 Cost: 0.00000000000048716586\n",
            "Rep: 90 Cost: 0.00000000000095268238\n",
            "Rep: 91 Cost: 0.00000000000052680083\n",
            "Rep: 92 Cost: 0.00000000000011946000\n",
            "Rep: 93 Cost: 0.00000000000016742163\n",
            "Rep: 94 Cost: 0.00000000000005340173\n",
            "Rep: 95 Cost: 0.00000000000001509903\n",
            "Rep: 96 Cost: 0.00000000000042466031\n",
            "Rep: 97 Cost: 0.00000000000057243099\n",
            "Rep: 98 Cost: 0.00000000000056710192\n",
            "Rep: 99 Cost: 0.00000000000003774758\n",
            "Rep: 100 Cost: 0.00000000000010036416\n",
            "Rep: 101 Cost: 0.00000000000047650772\n",
            "Rep: 102 Cost: 0.00000000000052446936\n",
            "Rep: 103 Cost: 0.00000000000073419049\n",
            "Rep: 104 Cost: 0.00000000000012312373\n",
            "Rep: 105 Cost: 0.00000000000006483702\n",
            "Rep: 106 Cost: 0.00000000000017408297\n",
            "Rep: 107 Cost: 0.00000000000008848478\n",
            "Rep: 108 Cost: 0.00000000000004096723\n",
            "Rep: 109 Cost: 0.00000000000034250380\n",
            "Rep: 110 Cost: 0.00000000000039257486\n",
            "Rep: 111 Cost: 0.00000000000014488410\n",
            "Rep: 112 Cost: 0.00000000000032773784\n",
            "Rep: 113 Cost: 0.00000000000012301271\n",
            "Rep: 114 Cost: 0.00000000000055111471\n",
            "Rep: 115 Cost: 0.00000000000041078252\n",
            "Rep: 116 Cost: 0.00000000000006494805\n",
            "Rep: 117 Cost: 0.00000000000019595436\n",
            "Rep: 118 Cost: 0.00000000000118349774\n",
            "Rep: 119 Cost: 0.00000000000073818729\n",
            "Rep: 120 Cost: 0.00000000000033184566\n",
            "Rep: 121 Cost: 0.00000000000001110223\n",
            "Rep: 122 Cost: 0.00000000000016209256\n",
            "Rep: 123 Cost: 0.00000000000017985613\n",
            "Rep: 124 Cost: 0.00000000000000444089\n",
            "Rep: 125 Cost: 0.00000000000028077540\n",
            "Rep: 126 Cost: 0.00000000000017763568\n",
            "Rep: 127 Cost: 0.00000000000001920686\n",
            "Rep: 128 Cost: 0.00000000000013233858\n",
            "Rep: 129 Cost: 0.00000000000008570922\n",
            "Rep: 130 Cost: 0.00000000000010447199\n",
            "Rep: 131 Cost: 0.00000000000085442764\n",
            "Rep: 132 Cost: 0.00000000000324595906\n",
            "Rep: 133 Cost: 0.00000000000296473956\n",
            "Rep: 134 Cost: 0.00000000000067368333\n",
            "Rep: 135 Cost: 0.00000000000024391600\n",
            "Rep: 136 Cost: 0.00000000000200062189\n",
            "Rep: 137 Cost: 0.00000000000291677793\n",
            "Rep: 138 Cost: 0.00000000000180577775\n",
            "Rep: 139 Cost: 0.00000000000048505644\n",
            "Rep: 140 Cost: 0.00000000000051703086\n",
            "Rep: 141 Cost: 0.00000000000217037499\n",
            "Rep: 142 Cost: 0.00000000000222044605\n",
            "Rep: 143 Cost: 0.00000000000081046281\n",
            "Rep: 144 Cost: 0.00000000000021671553\n",
            "Rep: 145 Cost: 0.00000000000009814372\n",
            "Rep: 146 Cost: 0.00000000000024380498\n",
            "Rep: 147 Cost: 0.00000000000023991920\n",
            "Rep: 148 Cost: 0.00000000000012834178\n",
            "Rep: 149 Cost: 0.00000000000006084022\n",
            "Rep: 150 Cost: 0.00000000000008038015\n",
            "Rep: 151 Cost: 0.00000000000017763568\n",
            "Rep: 152 Cost: 0.00000000000025623947\n",
            "Rep: 153 Cost: 0.00000000000094824149\n",
            "Rep: 154 Cost: 0.00000000000157429625\n",
            "Rep: 155 Cost: 0.00000000000067368333\n",
            "Rep: 156 Cost: 0.00000000000001998401\n",
            "Rep: 157 Cost: 0.00000000000120758958\n",
            "Rep: 158 Cost: 0.00000000000208555395\n",
            "Rep: 159 Cost: 0.00000000000097566399\n",
            "Rep: 160 Cost: 0.00000000000006317169\n",
            "Rep: 161 Cost: 0.00000000000094368957\n",
            "Rep: 162 Cost: 0.00000000000151523238\n",
            "Rep: 163 Cost: 0.00000000000076216811\n",
            "Rep: 164 Cost: 0.00000000000013544721\n",
            "Rep: 165 Cost: 0.00000000000022037927\n",
            "Rep: 166 Cost: 0.00000000000149935619\n",
            "Rep: 167 Cost: 0.00000000000214273044\n",
            "Rep: 168 Cost: 0.00000000000066002759\n",
            "Rep: 169 Cost: 0.00000000000033584246\n",
            "Rep: 170 Cost: 0.00000000000371125353\n",
            "Rep: 171 Cost: 0.00000000000675903777\n",
            "Rep: 172 Cost: 0.00000000000528688204\n",
            "Rep: 173 Cost: 0.00000000000108713039\n",
            "Rep: 174 Cost: 0.00000000000050859317\n",
            "Rep: 175 Cost: 0.00000000000545574697\n",
            "Rep: 176 Cost: 0.00000000001111388759\n",
            "Rep: 177 Cost: 0.00000000000829747382\n",
            "Rep: 178 Cost: 0.00000000000107691633\n",
            "Rep: 179 Cost: 0.00000000000298605585\n",
            "Rep: 180 Cost: 0.00000000001419175888\n",
            "Rep: 181 Cost: 0.00000000001912514591\n",
            "Rep: 182 Cost: 0.00000000001297950636\n",
            "Rep: 183 Cost: 0.00000000000395505850\n",
            "Rep: 184 Cost: 0.00000000000000754952\n",
            "Rep: 185 Cost: 0.00000000000374145159\n",
            "Rep: 186 Cost: 0.00000000000904032404\n",
            "Rep: 187 Cost: 0.00000000000679456491\n",
            "Rep: 188 Cost: 0.00000000000147359902\n",
            "Rep: 189 Cost: 0.00000000000013944401\n",
            "Rep: 190 Cost: 0.00000000000272226686\n",
            "Rep: 191 Cost: 0.00000000000450528503\n",
            "Rep: 192 Cost: 0.00000000000392263999\n",
            "Rep: 193 Cost: 0.00000000000303268521\n",
            "Rep: 194 Cost: 0.00000000000176614279\n",
            "Rep: 195 Cost: 0.00000000000026689762\n",
            "Rep: 196 Cost: 0.00000000000058408833\n",
            "Rep: 197 Cost: 0.00000000000404698497\n",
            "Rep: 198 Cost: 0.00000000000829913915\n",
            "Rep: 199 Cost: 0.00000000000935251876\n"
          ]
        }
      ],
      "source": [
        "loss_progress = []\n",
        "best_loss = float('inf')\n",
        "\n",
        "for i in range(reps):\n",
        "    # reset the engine if it has already been executed\n",
        "    if eng.run_progs:\n",
        "        eng.reset()\n",
        "\n",
        "    with tf.GradientTape() as tape:\n",
        "        loss = cost(weights)\n",
        "\n",
        "    loss_progress.append(loss.numpy())\n",
        "\n",
        "    if loss < best_loss:\n",
        "        best_loss = loss.numpy()\n",
        "\n",
        "    gradients = tape.gradient(loss, weights)\n",
        "    opt.apply_gradients(zip([gradients], [weights]))\n",
        "\n",
        "    # Prints progress at every rep\n",
        "    if i % 1 == 0:\n",
        "        print(\"Rep: {} Cost: {:.20f}\".format(i, loss))"
      ]
    },
    {
      "cell_type": "markdown",
      "metadata": {},
      "source": [
        "Results and visualisation\n",
        "-------------------------\n",
        "\n",
        "Plotting the fidelity vs. optimization step:\n",
        "\n"
      ]
    },
    {
      "cell_type": "code",
      "execution_count": 210,
      "metadata": {
        "collapsed": false
      },
      "outputs": [
        {
          "data": {
            "text/plain": [
              "Text(0.5, 0, 'Step')"
            ]
          },
          "execution_count": 210,
          "metadata": {},
          "output_type": "execute_result"
        },
        {
          "data": {
            "image/png": "[encoded data removed]",
            "text/plain": [
              "<Figure size 640x480 with 1 Axes>"
            ]
          },
          "metadata": {},
          "output_type": "display_data"
        }
      ],
      "source": [
        "from matplotlib import pyplot as plt\n",
        "\n",
        "plt.rcParams[\"font.family\"] = \"serif\"\n",
        "plt.rcParams[\"font.sans-serif\"] = [\"Computer Modern Roman\"]\n",
        "plt.style.use(\"default\")\n",
        "\n",
        "plt.plot(loss_progress)\n",
        "plt.ylabel(\"Loss\")\n",
        "plt.xlabel(\"Step\")"
      ]
    },
    {
      "cell_type": "markdown",
      "metadata": {},
      "source": [
        "We can use the following function to plot the Wigner function of our\n",
        "target and learnt state:\n",
        "\n"
      ]
    },
    {
      "cell_type": "code",
      "execution_count": 211,
      "metadata": {
        "collapsed": false
      },
      "outputs": [],
      "source": [
        "import matplotlib.pyplot as plt\n",
        "from mpl_toolkits.mplot3d import Axes3D\n",
        "\n",
        "\n",
        "def wigner(rho):\n",
        "    \"\"\"This code is a modified version of the 'iterative' method\n",
        "    of the wigner function provided in QuTiP, which is released\n",
        "    under the BSD license, with the following copyright notice:\n",
        "\n",
        "    Copyright (C) 2011 and later, P.D. Nation, J.R. Johansson,\n",
        "    A.J.G. Pitchford, C. Granade, and A.L. Grimsmo.\n",
        "\n",
        "    All rights reserved.\"\"\"\n",
        "    import copy\n",
        "\n",
        "    # Domain parameter for Wigner function plots\n",
        "    l = 5.0\n",
        "    cutoff = rho.shape[0]\n",
        "\n",
        "    # Creates 2D grid for Wigner function plots\n",
        "    x = np.linspace(-l, l, 100)\n",
        "    p = np.linspace(-l, l, 100)\n",
        "\n",
        "    Q, P = np.meshgrid(x, p)\n",
        "    A = (Q + P * 1.0j) / (2 * np.sqrt(2 / 2))\n",
        "\n",
        "    Wlist = np.array([np.zeros(np.shape(A), dtype=complex) for k in range(cutoff)])\n",
        "\n",
        "    # Wigner function for |0><0|\n",
        "    Wlist[0] = np.exp(-2.0 * np.abs(A) ** 2) / np.pi\n",
        "\n",
        "    # W = rho(0,0)W(|0><0|)\n",
        "    W = np.real(rho[0, 0]) * np.real(Wlist[0])\n",
        "\n",
        "    for n in range(1, cutoff):\n",
        "        Wlist[n] = (2.0 * A * Wlist[n - 1]) / np.sqrt(n)\n",
        "        W += 2 * np.real(rho[0, n] * Wlist[n])\n",
        "\n",
        "    for m in range(1, cutoff):\n",
        "        temp = copy.copy(Wlist[m])\n",
        "        # Wlist[m] = Wigner function for |m><m|\n",
        "        Wlist[m] = (2 * np.conj(A) * temp - np.sqrt(m) * Wlist[m - 1]) / np.sqrt(m)\n",
        "\n",
        "        # W += rho(m,m)W(|m><m|)\n",
        "        W += np.real(rho[m, m] * Wlist[m])\n",
        "\n",
        "        for n in range(m + 1, cutoff):\n",
        "            temp2 = (2 * A * Wlist[n - 1] - np.sqrt(m) * temp) / np.sqrt(n)\n",
        "            temp = copy.copy(Wlist[n])\n",
        "            # Wlist[n] = Wigner function for |m><n|\n",
        "            Wlist[n] = temp2\n",
        "\n",
        "            # W += rho(m,n)W(|m><n|) + rho(n,m)W(|n><m|)\n",
        "            W += 2 * np.real(rho[m, n] * Wlist[n])\n",
        "\n",
        "    return Q, P, W / 2"
      ]
    },
    {
      "cell_type": "markdown",
      "metadata": {},
      "source": [
        "Computing the density matrices\n",
        "$\\rho = \\left|\\psi\\right\\rangle \\left\\langle\\psi\\right|$ of the\n",
        "target and learnt state,\n",
        "\n"
      ]
    },
    {
      "cell_type": "code",
      "execution_count": null,
      "metadata": {
        "collapsed": false
      },
      "outputs": [],
      "source": [
        "rho_target = np.outer(target_state, target_state.conj())\n",
        "rho_learnt = np.outer(learnt_state, learnt_state.conj())"
      ]
    },
    {
      "cell_type": "markdown",
      "metadata": {},
      "source": [
        "Plotting the Wigner function of the target state:\n",
        "\n"
      ]
    },
    {
      "cell_type": "code",
      "execution_count": null,
      "metadata": {
        "collapsed": false
      },
      "outputs": [],
      "source": [
        "fig = plt.figure()\n",
        "ax = fig.add_subplot(111, projection=\"3d\")\n",
        "X, P, W = wigner(rho_target)\n",
        "ax.plot_surface(X, P, W, cmap=\"RdYlGn\", lw=0.5, rstride=1, cstride=1)\n",
        "ax.contour(X, P, W, 10, cmap=\"RdYlGn\", linestyles=\"solid\", offset=-0.17)\n",
        "ax.set_axis_off()\n",
        "fig.show()"
      ]
    },
    {
      "cell_type": "markdown",
      "metadata": {},
      "source": [
        "Plotting the Wigner function of the learnt state:\n",
        "\n"
      ]
    },
    {
      "cell_type": "code",
      "execution_count": null,
      "metadata": {
        "collapsed": false
      },
      "outputs": [],
      "source": [
        "fig = plt.figure()\n",
        "ax = fig.add_subplot(111, projection=\"3d\")\n",
        "X, P, W = wigner(rho_learnt)\n",
        "ax.plot_surface(X, P, W, cmap=\"RdYlGn\", lw=0.5, rstride=1, cstride=1)\n",
        "ax.contour(X, P, W, 10, cmap=\"RdYlGn\", linestyles=\"solid\", offset=-0.17)\n",
        "ax.set_axis_off()\n",
        "fig.show()"
      ]
    },
    {
      "cell_type": "markdown",
      "metadata": {},
      "source": [
        "References\n",
        "----------\n",
        "\n",
        "1. Juan Miguel Arrazola, Thomas R. Bromley, Josh Izaac, Casey R. Myers,\n",
        "   Kamil Brádler, and Nathan Killoran. Machine learning method for state\n",
        "   preparation and gate synthesis on photonic quantum computers. `Quantum\n",
        "   Science and Technology, 4\n",
        "   024004 <https://iopscience.iop.org/article/10.1088/2058-9565/aaf59e>`__,\n",
        "   (2019).\n",
        "\n",
        "2. Nathan Killoran, Thomas R. Bromley, Juan Miguel Arrazola, Maria Schuld,\n",
        "   Nicolas Quesada, and Seth Lloyd. Continuous-variable quantum neural networks.\n",
        "   `Physical Review Research, 1(3), 033063.\n",
        "   <https://journals.aps.org/prresearch/abstract/10.1103/PhysRevResearch.1.033063>`__,\n",
        "   (2019).\n",
        "\n"
      ]
    }
  ],
  "metadata": {
    "kernelspec": {
      "display_name": "Python 3.8.10 ('.env': venv)",
      "language": "python",
      "name": "python3"
    },
    "language_info": {
      "codemirror_mode": {
        "name": "ipython",
        "version": 3
      },
      "file_extension": ".py",
      "mimetype": "text/x-python",
      "name": "python",
      "nbconvert_exporter": "python",
      "pygments_lexer": "ipython3",
      "version": "3.8.10"
    },
    "vscode": {
      "interpreter": {
        "hash": "b795769ab38a7238d443f9adcb0e95eb86b5a13513126d83a1d22aa0a3cdd47a"
      }
    }
  },
  "nbformat": 4,
  "nbformat_minor": 0
}
