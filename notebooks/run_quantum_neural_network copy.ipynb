{
  "cells": [
    {
      "cell_type": "code",
      "execution_count": 1,
      "metadata": {
        "collapsed": false
      },
      "outputs": [],
      "source": [
        "# This cell is added by sphinx-gallery\n",
        "# It can be customized to whatever you like\n",
        "%matplotlib inline"
      ]
    },
    {
      "cell_type": "code",
      "execution_count": 2,
      "metadata": {
        "collapsed": false
      },
      "outputs": [
        {
          "name": "stderr",
          "output_type": "stream",
          "text": [
            "2022-12-13 17:23:23.553516: I tensorflow/core/platform/cpu_feature_guard.cc:193] This TensorFlow binary is optimized with oneAPI Deep Neural Network Library (oneDNN) to use the following CPU instructions in performance-critical operations:  AVX2 FMA\n",
            "To enable them in other operations, rebuild TensorFlow with the appropriate compiler flags.\n",
            "2022-12-13 17:23:23.648788: W tensorflow/compiler/xla/stream_executor/platform/default/dso_loader.cc:64] Could not load dynamic library 'libcudart.so.11.0'; dlerror: libcudart.so.11.0: cannot open shared object file: No such file or directory\n",
            "2022-12-13 17:23:23.648801: I tensorflow/compiler/xla/stream_executor/cuda/cudart_stub.cc:29] Ignore above cudart dlerror if you do not have a GPU set up on your machine.\n",
            "2022-12-13 17:23:24.143054: W tensorflow/compiler/xla/stream_executor/platform/default/dso_loader.cc:64] Could not load dynamic library 'libnvinfer.so.7'; dlerror: libnvinfer.so.7: cannot open shared object file: No such file or directory\n",
            "2022-12-13 17:23:24.143112: W tensorflow/compiler/xla/stream_executor/platform/default/dso_loader.cc:64] Could not load dynamic library 'libnvinfer_plugin.so.7'; dlerror: libnvinfer_plugin.so.7: cannot open shared object file: No such file or directory\n",
            "2022-12-13 17:23:24.143117: W tensorflow/compiler/tf2tensorrt/utils/py_utils.cc:38] TF-TRT Warning: Cannot dlopen some TensorRT libraries. If you would like to use Nvidia GPU with TensorRT, please make sure the missing libraries mentioned above are installed properly.\n"
          ]
        }
      ],
      "source": [
        "import numpy as np\n",
        "import tensorflow as tf\n",
        "import strawberryfields as sf\n",
        "from strawberryfields import ops"
      ]
    },
    {
      "cell_type": "code",
      "execution_count": 3,
      "metadata": {
        "collapsed": false
      },
      "outputs": [],
      "source": [
        "def interferometer(params, q):\n",
        "    \"\"\"Parameterised interferometer acting on ``N`` modes.\n",
        "\n",
        "    Args:\n",
        "        params (list[float]): list of length ``max(1, N-1) + (N-1)*N`` parameters.\n",
        "\n",
        "            * The first ``N(N-1)/2`` parameters correspond to the beamsplitter angles\n",
        "            * The second ``N(N-1)/2`` parameters correspond to the beamsplitter phases\n",
        "            * The final ``N-1`` parameters correspond to local rotation on the first N-1 modes\n",
        "\n",
        "        q (list[RegRef]): list of Strawberry Fields quantum registers the interferometer\n",
        "            is to be applied to\n",
        "    \"\"\"\n",
        "    N = len(q)\n",
        "    theta = params[:N*(N-1)//2]\n",
        "    phi = params[N*(N-1)//2:N*(N-1)]\n",
        "    rphi = params[-N+1:]\n",
        "\n",
        "    if N == 1:\n",
        "        # the interferometer is a single rotation\n",
        "        ops.Rgate(rphi[0]) | q[0]\n",
        "        return\n",
        "\n",
        "    n = 0  # keep track of free parameters\n",
        "\n",
        "    # Apply the rectangular beamsplitter array\n",
        "    # The array depth is N\n",
        "    for l in range(N):\n",
        "        for k, (q1, q2) in enumerate(zip(q[:-1], q[1:])):\n",
        "            # skip even or odd pairs depending on layer\n",
        "            if (l + k) % 2 != 1:\n",
        "                ops.BSgate(theta[n], phi[n]) | (q1, q2)\n",
        "                n += 1\n",
        "\n",
        "    # apply the final local phase shifts to all modes except the last one\n",
        "    for i in range(max(1, N - 1)):\n",
        "        ops.Rgate(rphi[i]) | q[i]"
      ]
    },
    {
      "cell_type": "code",
      "execution_count": 4,
      "metadata": {
        "collapsed": false
      },
      "outputs": [],
      "source": [
        "def layer(params, q):\n",
        "    \"\"\"CV quantum neural network layer acting on ``N`` modes.\n",
        "\n",
        "    Args:\n",
        "        params (list[float]): list of length ``2*(max(1, N-1) + N**2 + n)`` containing\n",
        "            the number of parameters for the layer\n",
        "        q (list[RegRef]): list of Strawberry Fields quantum registers the layer\n",
        "            is to be applied to\n",
        "    \"\"\"\n",
        "    N = len(q)\n",
        "    M = int(N * (N - 1)) + max(1, N - 1)\n",
        "\n",
        "    int1 = params[:M]\n",
        "    s = params[M:M+N]\n",
        "    int2 = params[M+N:2*M+N]\n",
        "    dr = params[2*M+N:2*M+2*N]\n",
        "    dp = params[2*M+2*N:2*M+3*N]\n",
        "    k = params[2*M+3*N:2*M+4*N]\n",
        "\n",
        "    # begin layer\n",
        "    interferometer(int1, q)\n",
        "\n",
        "    for i in range(N):\n",
        "        ops.Sgate(s[i]) | q[i]\n",
        "\n",
        "    interferometer(int2, q)\n",
        "\n",
        "    for i in range(N):\n",
        "        ops.Dgate(dr[i], dp[i]) | q[i]\n",
        "        ops.Kgate(k[i]) | q[i]"
      ]
    },
    {
      "cell_type": "code",
      "execution_count": 5,
      "metadata": {
        "collapsed": false
      },
      "outputs": [],
      "source": [
        "def init_weights(modes, layers, active_sd=0.0001, passive_sd=0.1):\n",
        "    \"\"\"Initialize a 2D TensorFlow Variable containing normally-distributed\n",
        "    random weights for an ``N`` mode quantum neural network with ``L`` layers.\n",
        "\n",
        "    Args:\n",
        "        modes (int): the number of modes in the quantum neural network\n",
        "        layers (int): the number of layers in the quantum neural network\n",
        "        active_sd (float): the standard deviation used when initializing\n",
        "            the normally-distributed weights for the active parameters\n",
        "            (displacement, squeezing, and Kerr magnitude)\n",
        "        passive_sd (float): the standard deviation used when initializing\n",
        "            the normally-distributed weights for the passive parameters\n",
        "            (beamsplitter angles and all gate phases)\n",
        "\n",
        "    Returns:\n",
        "        tf.Variable[tf.float32]: A TensorFlow Variable of shape\n",
        "        ``[layers, 2*(max(1, modes-1) + modes**2 + modes)]``, where the Lth\n",
        "        row represents the layer parameters for the Lth layer.\n",
        "    \"\"\"\n",
        "    # Number of interferometer parameters:\n",
        "    M = int(modes * (modes - 1)) + max(1, modes - 1)\n",
        "\n",
        "    # Create the TensorFlow variables\n",
        "    int1_weights = tf.random.normal(shape=[layers, M], stddev=passive_sd)\n",
        "    s_weights = tf.random.normal(shape=[layers, modes], stddev=active_sd)\n",
        "    int2_weights = tf.random.normal(shape=[layers, M], stddev=passive_sd)\n",
        "    dr_weights = tf.random.normal(shape=[layers, modes], stddev=active_sd)\n",
        "    dp_weights = tf.random.normal(shape=[layers, modes], stddev=passive_sd)\n",
        "    k_weights = tf.random.normal(shape=[layers, modes], stddev=active_sd)\n",
        "\n",
        "    weights = tf.concat(\n",
        "        [int1_weights, s_weights, int2_weights, dr_weights, dp_weights, k_weights], axis=1\n",
        "    )\n",
        "\n",
        "    weights = tf.Variable(weights)\n",
        "\n",
        "    return weights"
      ]
    },
    {
      "cell_type": "code",
      "execution_count": 11,
      "metadata": {
        "collapsed": false
      },
      "outputs": [],
      "source": [
        "# set the random seed\n",
        "tf.random.set_seed(137)\n",
        "np.random.seed(137)\n",
        "\n",
        "\n",
        "# define width and depth of CV quantum neural network\n",
        "#modes = 1\n",
        "modes = 2\n",
        "layers = 8\n",
        "cutoff_dim = 6\n",
        "\n",
        "\n",
        "# defining desired state (single photon state)\n",
        "target_state = np.zeros(modes * cutoff_dim)\n",
        "target_state[1] = 1\n",
        "target_state = tf.constant(target_state, dtype=tf.complex64)"
      ]
    },
    {
      "cell_type": "code",
      "execution_count": 12,
      "metadata": {
        "collapsed": false
      },
      "outputs": [],
      "source": [
        "# initialize engine and program\n",
        "eng = sf.Engine(backend=\"tf\", backend_options={\"cutoff_dim\": cutoff_dim})\n",
        "qnn = sf.Program(modes)\n",
        "\n",
        "# initialize QNN weights\n",
        "weights = init_weights(modes, layers) # our TensorFlow weights\n",
        "num_params = np.prod(weights.shape)   # total number of parameters in our model"
      ]
    },
    {
      "cell_type": "code",
      "execution_count": 13,
      "metadata": {
        "collapsed": false
      },
      "outputs": [
        {
          "name": "stderr",
          "output_type": "stream",
          "text": [
            "/tmp/ipykernel_15253/1819069251.py:3: DeprecationWarning: `np.str` is a deprecated alias for the builtin `str`. To silence this warning, use `str` by itself. Doing this will not modify any behavior and is safe. If you specifically wanted the numpy scalar type, use `np.str_` here.\n",
            "Deprecated in NumPy 1.20; for more details and guidance: https://numpy.org/devdocs/release/1.20.0-notes.html#deprecations\n"
          ]
        }
      ],
      "source": [
        "# Create array of Strawberry Fields symbolic gate arguments, matching\n",
        "# the size of the weights Variable.\n",
        "sf_params = np.arange(num_params).reshape(weights.shape).astype(np.str)\n",
        "sf_params = np.array([qnn.params(*i) for i in sf_params])\n",
        "\n",
        "\n",
        "# Construct the symbolic Strawberry Fields program by\n",
        "# looping and applying layers to the program.\n",
        "with qnn.context as q:\n",
        "    for k in range(layers):\n",
        "        layer(sf_params[k], q)"
      ]
    },
    {
      "cell_type": "code",
      "execution_count": 14,
      "metadata": {
        "collapsed": false
      },
      "outputs": [],
      "source": [
        "def cost(weights):\n",
        "    # Create a dictionary mapping from the names of the Strawberry Fields\n",
        "    # symbolic gate parameters to the TensorFlow weight values.\n",
        "    mapping = {p.name: w for p, w in zip(sf_params.flatten(), tf.reshape(weights, [-1]))}\n",
        "\n",
        "    # run the engine\n",
        "    state = eng.run(qnn, args=mapping).state\n",
        "    ket = state.ket()\n",
        "\n",
        "    difference = tf.reduce_sum(tf.abs(ket - target_state))\n",
        "    fidelity = tf.abs(tf.reduce_sum(tf.math.conj(ket) * target_state)) ** 2\n",
        "    return difference, fidelity, ket, tf.math.real(state.trace())"
      ]
    },
    {
      "cell_type": "code",
      "execution_count": 16,
      "metadata": {},
      "outputs": [
        {
          "ename": "InvalidArgumentError",
          "evalue": "{{function_node __wrapped__Sub_device_/job:localhost/replica:0/task:0/device:CPU:0}} Incompatible shapes: [6,6] vs. [12] [Op:Sub]",
          "output_type": "error",
          "traceback": [
            "\u001b[0;31m---------------------------------------------------------------------------\u001b[0m",
            "\u001b[0;31mInvalidArgumentError\u001b[0m                      Traceback (most recent call last)",
            "Cell \u001b[0;32mIn[16], line 1\u001b[0m\n",
            "Cell \u001b[0;32mIn[14], line 10\u001b[0m, in \u001b[0;36mcost\u001b[0;34m(weights)\u001b[0m\n",
            "File \u001b[0;32m~/git_repositories/qdo/.env/lib/python3.8/site-packages/tensorflow/python/util/traceback_utils.py:153\u001b[0m, in \u001b[0;36mfilter_traceback.<locals>.error_handler\u001b[0;34m(*args, **kwargs)\u001b[0m\n\u001b[1;32m    151\u001b[0m \u001b[39mexcept\u001b[39;00m \u001b[39mException\u001b[39;00m \u001b[39mas\u001b[39;00m e:\n\u001b[1;32m    152\u001b[0m   filtered_tb \u001b[39m=\u001b[39m _process_traceback_frames(e\u001b[39m.\u001b[39m__traceback__)\n\u001b[0;32m--> 153\u001b[0m   \u001b[39mraise\u001b[39;00m e\u001b[39m.\u001b[39mwith_traceback(filtered_tb) \u001b[39mfrom\u001b[39;00m \u001b[39mNone\u001b[39m\n\u001b[1;32m    154\u001b[0m \u001b[39mfinally\u001b[39;00m:\n\u001b[1;32m    155\u001b[0m   \u001b[39mdel\u001b[39;00m filtered_tb\n",
            "File \u001b[0;32m~/git_repositories/qdo/.env/lib/python3.8/site-packages/tensorflow/python/framework/ops.py:7215\u001b[0m, in \u001b[0;36mraise_from_not_ok_status\u001b[0;34m(e, name)\u001b[0m\n\u001b[1;32m   7213\u001b[0m \u001b[39mdef\u001b[39;00m \u001b[39mraise_from_not_ok_status\u001b[39m(e, name):\n\u001b[1;32m   7214\u001b[0m   e\u001b[39m.\u001b[39mmessage \u001b[39m+\u001b[39m\u001b[39m=\u001b[39m (\u001b[39m\"\u001b[39m\u001b[39m name: \u001b[39m\u001b[39m\"\u001b[39m \u001b[39m+\u001b[39m name \u001b[39mif\u001b[39;00m name \u001b[39mis\u001b[39;00m \u001b[39mnot\u001b[39;00m \u001b[39mNone\u001b[39;00m \u001b[39melse\u001b[39;00m \u001b[39m\"\u001b[39m\u001b[39m\"\u001b[39m)\n\u001b[0;32m-> 7215\u001b[0m   \u001b[39mraise\u001b[39;00m core\u001b[39m.\u001b[39m_status_to_exception(e) \u001b[39mfrom\u001b[39;00m \u001b[39mNone\u001b[39m\n",
            "\u001b[0;31mInvalidArgumentError\u001b[0m: {{function_node __wrapped__Sub_device_/job:localhost/replica:0/task:0/device:CPU:0}} Incompatible shapes: [6,6] vs. [12] [Op:Sub]"
          ]
        }
      ],
      "source": [
        "cost(weights)"
      ]
    },
    {
      "cell_type": "code",
      "execution_count": 15,
      "metadata": {
        "collapsed": false
      },
      "outputs": [
        {
          "ename": "InvalidArgumentError",
          "evalue": "{{function_node __wrapped__Sub_device_/job:localhost/replica:0/task:0/device:CPU:0}} Incompatible shapes: [6,6] vs. [12] [Op:Sub]",
          "output_type": "error",
          "traceback": [
            "\u001b[0;31m---------------------------------------------------------------------------\u001b[0m",
            "\u001b[0;31mInvalidArgumentError\u001b[0m                      Traceback (most recent call last)",
            "Cell \u001b[0;32mIn[15], line 3\u001b[0m\n",
            "Cell \u001b[0;32mIn[14], line 10\u001b[0m, in \u001b[0;36mcost\u001b[0;34m(weights)\u001b[0m\n",
            "File \u001b[0;32m~/git_repositories/qdo/.env/lib/python3.8/site-packages/tensorflow/python/util/traceback_utils.py:153\u001b[0m, in \u001b[0;36mfilter_traceback.<locals>.error_handler\u001b[0;34m(*args, **kwargs)\u001b[0m\n\u001b[1;32m    151\u001b[0m \u001b[39mexcept\u001b[39;00m \u001b[39mException\u001b[39;00m \u001b[39mas\u001b[39;00m e:\n\u001b[1;32m    152\u001b[0m   filtered_tb \u001b[39m=\u001b[39m _process_traceback_frames(e\u001b[39m.\u001b[39m__traceback__)\n\u001b[0;32m--> 153\u001b[0m   \u001b[39mraise\u001b[39;00m e\u001b[39m.\u001b[39mwith_traceback(filtered_tb) \u001b[39mfrom\u001b[39;00m \u001b[39mNone\u001b[39m\n\u001b[1;32m    154\u001b[0m \u001b[39mfinally\u001b[39;00m:\n\u001b[1;32m    155\u001b[0m   \u001b[39mdel\u001b[39;00m filtered_tb\n",
            "File \u001b[0;32m~/git_repositories/qdo/.env/lib/python3.8/site-packages/tensorflow/python/framework/ops.py:7215\u001b[0m, in \u001b[0;36mraise_from_not_ok_status\u001b[0;34m(e, name)\u001b[0m\n\u001b[1;32m   7213\u001b[0m \u001b[39mdef\u001b[39;00m \u001b[39mraise_from_not_ok_status\u001b[39m(e, name):\n\u001b[1;32m   7214\u001b[0m   e\u001b[39m.\u001b[39mmessage \u001b[39m+\u001b[39m\u001b[39m=\u001b[39m (\u001b[39m\"\u001b[39m\u001b[39m name: \u001b[39m\u001b[39m\"\u001b[39m \u001b[39m+\u001b[39m name \u001b[39mif\u001b[39;00m name \u001b[39mis\u001b[39;00m \u001b[39mnot\u001b[39;00m \u001b[39mNone\u001b[39;00m \u001b[39melse\u001b[39;00m \u001b[39m\"\u001b[39m\u001b[39m\"\u001b[39m)\n\u001b[0;32m-> 7215\u001b[0m   \u001b[39mraise\u001b[39;00m core\u001b[39m.\u001b[39m_status_to_exception(e) \u001b[39mfrom\u001b[39;00m \u001b[39mNone\u001b[39m\n",
            "\u001b[0;31mInvalidArgumentError\u001b[0m: {{function_node __wrapped__Sub_device_/job:localhost/replica:0/task:0/device:CPU:0}} Incompatible shapes: [6,6] vs. [12] [Op:Sub]"
          ]
        }
      ],
      "source": [
        "# set up the optimizer\n",
        "opt = tf.keras.optimizers.Adam()\n",
        "cost_before, fidelity_before, _, _ = cost(weights)\n",
        "\n",
        "# Perform the optimization\n",
        "#for i in range(1000):\n",
        "for i in range(1):\n",
        "    # reset the engine if it has already been executed\n",
        "    if eng.run_progs:\n",
        "        eng.reset()\n",
        "\n",
        "    with tf.GradientTape() as tape:\n",
        "        loss, fid, ket, trace = cost(weights)\n",
        "\n",
        "    # one repetition of the optimization\n",
        "    gradients = tape.gradient(loss, weights)\n",
        "    opt.apply_gradients(zip([gradients], [weights]))\n",
        "\n",
        "    # Prints progress at every rep\n",
        "    if i % 1 == 0:\n",
        "        print(\"Rep: {} Cost: {:.4f} Fidelity: {:.4f} Trace: {:.4f}\".format(i, loss, fid, trace))\n",
        "\n",
        "\n",
        "print(\"\\nFidelity before optimization: \", fidelity_before.numpy())\n",
        "print(\"Fidelity after optimization: \", fid.numpy())\n",
        "print(\"\\nTarget state: \", target_state.numpy())\n",
        "print(\"Output state: \", np.round(ket.numpy(), decimals=3))"
      ]
    },
    {
      "cell_type": "code",
      "execution_count": null,
      "metadata": {},
      "outputs": [],
      "source": []
    }
  ],
  "metadata": {
    "kernelspec": {
      "display_name": "Python 3.8.10 ('.env': venv)",
      "language": "python",
      "name": "python3"
    },
    "language_info": {
      "codemirror_mode": {
        "name": "ipython",
        "version": 3
      },
      "file_extension": ".py",
      "mimetype": "text/x-python",
      "name": "python",
      "nbconvert_exporter": "python",
      "pygments_lexer": "ipython3",
      "version": "3.8.10"
    },
    "vscode": {
      "interpreter": {
        "hash": "b795769ab38a7238d443f9adcb0e95eb86b5a13513126d83a1d22aa0a3cdd47a"
      }
    }
  },
  "nbformat": 4,
  "nbformat_minor": 0
}
