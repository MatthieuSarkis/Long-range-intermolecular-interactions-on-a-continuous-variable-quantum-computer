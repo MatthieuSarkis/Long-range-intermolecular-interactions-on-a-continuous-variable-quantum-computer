{
  "cells": [
    {
      "cell_type": "code",
      "execution_count": 16,
      "metadata": {
        "collapsed": false
      },
      "outputs": [],
      "source": [
        "# This cell is added by sphinx-gallery\n",
        "# It can be customized to whatever you like\n",
        "%matplotlib inline"
      ]
    },
    {
      "cell_type": "code",
      "execution_count": 17,
      "metadata": {
        "collapsed": false
      },
      "outputs": [],
      "source": [
        "import numpy as np\n",
        "import tensorflow as tf\n",
        "import strawberryfields as sf\n",
        "from strawberryfields import ops"
      ]
    },
    {
      "cell_type": "code",
      "execution_count": 18,
      "metadata": {
        "collapsed": false
      },
      "outputs": [],
      "source": [
        "def interferometer(params, q):\n",
        "    \"\"\"Parameterised interferometer acting on ``N`` modes.\n",
        "\n",
        "    Args:\n",
        "        params (list[float]): list of length ``max(1, N-1) + (N-1)*N`` parameters.\n",
        "\n",
        "            * The first ``N(N-1)/2`` parameters correspond to the beamsplitter angles\n",
        "            * The second ``N(N-1)/2`` parameters correspond to the beamsplitter phases\n",
        "            * The final ``N-1`` parameters correspond to local rotation on the first N-1 modes\n",
        "\n",
        "        q (list[RegRef]): list of Strawberry Fields quantum registers the interferometer\n",
        "            is to be applied to\n",
        "    \"\"\"\n",
        "    N = len(q)\n",
        "    theta = params[:N*(N-1)//2]\n",
        "    phi = params[N*(N-1)//2:N*(N-1)]\n",
        "    rphi = params[-N+1:]\n",
        "\n",
        "    if N == 1:\n",
        "        # the interferometer is a single rotation\n",
        "        ops.Rgate(rphi[0]) | q[0]\n",
        "        return\n",
        "\n",
        "    n = 0  # keep track of free parameters\n",
        "\n",
        "    # Apply the rectangular beamsplitter array\n",
        "    # The array depth is N\n",
        "    for l in range(N):\n",
        "        for k, (q1, q2) in enumerate(zip(q[:-1], q[1:])):\n",
        "            # skip even or odd pairs depending on layer\n",
        "            if (l + k) % 2 != 1:\n",
        "                ops.BSgate(theta[n], phi[n]) | (q1, q2)\n",
        "                n += 1\n",
        "\n",
        "    # apply the final local phase shifts to all modes except the last one\n",
        "    for i in range(max(1, N - 1)):\n",
        "        ops.Rgate(rphi[i]) | q[i]"
      ]
    },
    {
      "cell_type": "code",
      "execution_count": 19,
      "metadata": {
        "collapsed": false
      },
      "outputs": [],
      "source": [
        "def layer(params, q):\n",
        "    \"\"\"CV quantum neural network layer acting on ``N`` modes.\n",
        "\n",
        "    Args:\n",
        "        params (list[float]): list of length ``2*(max(1, N-1) + N**2 + n)`` containing\n",
        "            the number of parameters for the layer\n",
        "        q (list[RegRef]): list of Strawberry Fields quantum registers the layer\n",
        "            is to be applied to\n",
        "    \"\"\"\n",
        "    N = len(q)\n",
        "    M = int(N * (N - 1)) + max(1, N - 1)\n",
        "\n",
        "    int1 = params[:M]\n",
        "    s = params[M:M+N]\n",
        "    int2 = params[M+N:2*M+N]\n",
        "    dr = params[2*M+N:2*M+2*N]\n",
        "    dp = params[2*M+2*N:2*M+3*N]\n",
        "    k = params[2*M+3*N:2*M+4*N]\n",
        "\n",
        "    # begin layer\n",
        "    interferometer(int1, q)\n",
        "\n",
        "    for i in range(N):\n",
        "        ops.Sgate(s[i]) | q[i]\n",
        "\n",
        "    interferometer(int2, q)\n",
        "\n",
        "    for i in range(N):\n",
        "        ops.Dgate(dr[i], dp[i]) | q[i]\n",
        "        ops.Kgate(k[i]) | q[i]"
      ]
    },
    {
      "cell_type": "code",
      "execution_count": 20,
      "metadata": {
        "collapsed": false
      },
      "outputs": [],
      "source": [
        "def init_weights(modes, layers, active_sd=0.0001, passive_sd=0.1):\n",
        "    \"\"\"Initialize a 2D TensorFlow Variable containing normally-distributed\n",
        "    random weights for an ``N`` mode quantum neural network with ``L`` layers.\n",
        "\n",
        "    Args:\n",
        "        modes (int): the number of modes in the quantum neural network\n",
        "        layers (int): the number of layers in the quantum neural network\n",
        "        active_sd (float): the standard deviation used when initializing\n",
        "            the normally-distributed weights for the active parameters\n",
        "            (displacement, squeezing, and Kerr magnitude)\n",
        "        passive_sd (float): the standard deviation used when initializing\n",
        "            the normally-distributed weights for the passive parameters\n",
        "            (beamsplitter angles and all gate phases)\n",
        "\n",
        "    Returns:\n",
        "        tf.Variable[tf.float32]: A TensorFlow Variable of shape\n",
        "        ``[layers, 2*(max(1, modes-1) + modes**2 + modes)]``, where the Lth\n",
        "        row represents the layer parameters for the Lth layer.\n",
        "    \"\"\"\n",
        "    # Number of interferometer parameters:\n",
        "    M = int(modes * (modes - 1)) + max(1, modes - 1)\n",
        "\n",
        "    # Create the TensorFlow variables\n",
        "    int1_weights = tf.random.normal(shape=[layers, M], stddev=passive_sd)\n",
        "    s_weights = tf.random.normal(shape=[layers, modes], stddev=active_sd)\n",
        "    int2_weights = tf.random.normal(shape=[layers, M], stddev=passive_sd)\n",
        "    dr_weights = tf.random.normal(shape=[layers, modes], stddev=active_sd)\n",
        "    dp_weights = tf.random.normal(shape=[layers, modes], stddev=passive_sd)\n",
        "    k_weights = tf.random.normal(shape=[layers, modes], stddev=active_sd)\n",
        "\n",
        "    weights = tf.concat(\n",
        "        [int1_weights, s_weights, int2_weights, dr_weights, dp_weights, k_weights], axis=1\n",
        "    )\n",
        "\n",
        "    weights = tf.Variable(weights)\n",
        "\n",
        "    return weights"
      ]
    },
    {
      "cell_type": "code",
      "execution_count": 21,
      "metadata": {
        "collapsed": false
      },
      "outputs": [],
      "source": [
        "# set the random seed\n",
        "tf.random.set_seed(137)\n",
        "np.random.seed(137)\n",
        "\n",
        "\n",
        "# define width and depth of CV quantum neural network\n",
        "modes = 2\n",
        "layers = 8\n",
        "cutoff_dim = 6"
      ]
    },
    {
      "cell_type": "code",
      "execution_count": 22,
      "metadata": {},
      "outputs": [],
      "source": [
        "# defining desired state (single photon state in the first mode, vacuum in the remaining modes)\n",
        "# remark: it seems that in the convention of strawberryfield the tensor product of \n",
        "# two vector of size (d,) gives a matrix of size (d, d) instead of a vector of size (d*d,).\n",
        "target_state = np.zeros(shape=[cutoff_dim for _ in range(modes)])\n",
        "target_state[1, tuple(0 for _ in range(modes))] = 1\n",
        "target_state = tf.constant(target_state, dtype=tf.complex64)"
      ]
    },
    {
      "cell_type": "code",
      "execution_count": 23,
      "metadata": {
        "collapsed": false
      },
      "outputs": [],
      "source": [
        "# initialize engine and program\n",
        "eng = sf.Engine(backend=\"tf\", backend_options={\"cutoff_dim\": cutoff_dim})\n",
        "qnn = sf.Program(modes)\n",
        "\n",
        "# initialize QNN weights\n",
        "weights = init_weights(modes, layers) # our TensorFlow weights\n",
        "num_params = np.prod(weights.shape)   # total number of parameters in our model"
      ]
    },
    {
      "cell_type": "code",
      "execution_count": 24,
      "metadata": {
        "collapsed": false
      },
      "outputs": [
        {
          "name": "stderr",
          "output_type": "stream",
          "text": [
            "/var/folders/7j/z471krp14yq8nlbjn0hnpmp4y7whw6/T/ipykernel_971/1819069251.py:3: DeprecationWarning: `np.str` is a deprecated alias for the builtin `str`. To silence this warning, use `str` by itself. Doing this will not modify any behavior and is safe. If you specifically wanted the numpy scalar type, use `np.str_` here.\n",
            "Deprecated in NumPy 1.20; for more details and guidance: https://numpy.org/devdocs/release/1.20.0-notes.html#deprecations\n"
          ]
        }
      ],
      "source": [
        "# Create array of Strawberry Fields symbolic gate arguments, matching\n",
        "# the size of the weights Variable.\n",
        "sf_params = np.arange(num_params).reshape(weights.shape).astype(np.str)\n",
        "sf_params = np.array([qnn.params(*i) for i in sf_params])\n",
        "\n",
        "\n",
        "# Construct the symbolic Strawberry Fields program by\n",
        "# looping and applying layers to the program.\n",
        "with qnn.context as q:\n",
        "    for k in range(layers):\n",
        "        layer(sf_params[k], q)"
      ]
    },
    {
      "cell_type": "code",
      "execution_count": 38,
      "metadata": {
        "collapsed": false
      },
      "outputs": [],
      "source": [
        "def cost(weights):\n",
        "    # Create a dictionary mapping from the names of the Strawberry Fields\n",
        "    # symbolic gate parameters to the TensorFlow weight values.\n",
        "    mapping = {p.name: w for p, w in zip(sf_params.flatten(), tf.reshape(weights, [-1]))}\n",
        "\n",
        "    state = eng.run(qnn, args=mapping).state\n",
        "\n",
        "    x = tf.Variable(np.zeros(shape=(modes,)))\n",
        "    p = tf.Variable(np.zeros(shape=(modes)))\n",
        "\n",
        "    x = tf.reshape(x.assign([state.quad_expectation(mode=i, phi=0.0)[0] for i in range(modes)]), (modes, 1))\n",
        "    p = tf.reshape(p.assign([state.quad_expectation(mode=i, phi=0.5*np.pi)[0] for i in range(modes)]), (modes, 1))\n",
        "\n",
        "    gamma = tf.Variable(np.ones(shape=(modes, modes)) - np.eye(modes))\n",
        "    H = 0.5 * tf.reduce_sum(x**2 + p**2) + 0.25 * tf.matmul(tf.transpose(x), tf.matmul(gamma, x))\n",
        "\n",
        "    return H"
      ]
    },
    {
      "cell_type": "code",
      "execution_count": 39,
      "metadata": {},
      "outputs": [
        {
          "data": {
            "text/plain": [
              "<tf.Tensor: shape=(1, 1), dtype=float64, numpy=array([[1.86444382e-06]])>"
            ]
          },
          "execution_count": 39,
          "metadata": {},
          "output_type": "execute_result"
        }
      ],
      "source": [
        "cost(weights)"
      ]
    },
    {
      "cell_type": "code",
      "execution_count": 4,
      "metadata": {
        "collapsed": false
      },
      "outputs": [
        {
          "ename": "NameError",
          "evalue": "name 'tf' is not defined",
          "output_type": "error",
          "traceback": [
            "\u001b[0;31m---------------------------------------------------------------------------\u001b[0m",
            "\u001b[0;31mNameError\u001b[0m                                 Traceback (most recent call last)",
            "Cell \u001b[0;32mIn [4], line 2\u001b[0m\n\u001b[1;32m      1\u001b[0m \u001b[39m# set up the optimizer\u001b[39;00m\n\u001b[0;32m----> 2\u001b[0m opt \u001b[39m=\u001b[39m tf\u001b[39m.\u001b[39mkeras\u001b[39m.\u001b[39moptimizers\u001b[39m.\u001b[39mAdam()\n\u001b[1;32m      3\u001b[0m cost_before \u001b[39m=\u001b[39m cost(weights)\n\u001b[1;32m      5\u001b[0m \u001b[39m# Perform the optimization\u001b[39;00m\n\u001b[1;32m      6\u001b[0m \u001b[39m#for i in range(1000):\u001b[39;00m\n",
            "\u001b[0;31mNameError\u001b[0m: name 'tf' is not defined"
          ]
        }
      ],
      "source": [
        "# set up the optimizer\n",
        "opt = tf.keras.optimizers.Adam()\n",
        "cost_before = cost(weights)\n",
        "\n",
        "# Perform the optimization\n",
        "#for i in range(1000):\n",
        "for i in range(1000):\n",
        "    # reset the engine if it has already been executed\n",
        "    if eng.run_progs:\n",
        "        eng.reset()\n",
        "\n",
        "    with tf.GradientTape() as tape:\n",
        "        loss = cost(weights)\n",
        "\n",
        "    # one repetition of the optimization\n",
        "    gradients = tape.gradient(loss, weights)\n",
        "    opt.apply_gradients(zip([gradients], [weights]))\n",
        "\n",
        "    # Prints progress at every rep\n",
        "    if i % 1 == 0:\n",
        "        print(\"Rep: {} Cost: {:.20f}\".format(i, loss))"
      ]
    },
    {
      "cell_type": "code",
      "execution_count": null,
      "metadata": {},
      "outputs": [],
      "source": []
    }
  ],
  "metadata": {
    "kernelspec": {
      "display_name": "Python 3.9.15 ('tensorflow')",
      "language": "python",
      "name": "python3"
    },
    "language_info": {
      "codemirror_mode": {
        "name": "ipython",
        "version": 3
      },
      "file_extension": ".py",
      "mimetype": "text/x-python",
      "name": "python",
      "nbconvert_exporter": "python",
      "pygments_lexer": "ipython3",
      "version": "3.9.15"
    },
    "vscode": {
      "interpreter": {
        "hash": "50c6427a38b0cb3ed412f8db39e55d49c1a6e7316c2a3a4f60e70d9812fff22d"
      }
    }
  },
  "nbformat": 4,
  "nbformat_minor": 0
}
