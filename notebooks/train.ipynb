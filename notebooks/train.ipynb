{
 "cells": [
  {
   "cell_type": "markdown",
   "metadata": {},
   "source": [
    "# Continuous Variable VQE for long-range molecular interactions"
   ]
  },
  {
   "cell_type": "markdown",
   "metadata": {},
   "source": [
    "In the following, we illustrate how our code can be used to study the system composed of a pair of QDO oscillators. We focus on a 1-dimensional model for efficiency, but the code generalized to the full-fledged 3d QDO model.\n",
    "\n",
    "We focus on the case of a diatomic system."
   ]
  },
  {
   "cell_type": "markdown",
   "metadata": {},
   "source": [
    "## Imports"
   ]
  },
  {
   "cell_type": "code",
   "execution_count": 1,
   "metadata": {},
   "outputs": [
    {
     "name": "stderr",
     "output_type": "stream",
     "text": [
      "2023-04-24 14:36:10.668098: I tensorflow/core/platform/cpu_feature_guard.cc:193] This TensorFlow binary is optimized with oneAPI Deep Neural Network Library (oneDNN) to use the following CPU instructions in performance-critical operations:  AVX2 FMA\n",
      "To enable them in other operations, rebuild TensorFlow with the appropriate compiler flags.\n",
      "2023-04-24 14:36:10.784261: W tensorflow/compiler/xla/stream_executor/platform/default/dso_loader.cc:64] Could not load dynamic library 'libcudart.so.11.0'; dlerror: libcudart.so.11.0: cannot open shared object file: No such file or directory\n",
      "2023-04-24 14:36:10.784281: I tensorflow/compiler/xla/stream_executor/cuda/cudart_stub.cc:29] Ignore above cudart dlerror if you do not have a GPU set up on your machine.\n",
      "2023-04-24 14:36:11.406654: W tensorflow/compiler/xla/stream_executor/platform/default/dso_loader.cc:64] Could not load dynamic library 'libnvinfer.so.7'; dlerror: libnvinfer.so.7: cannot open shared object file: No such file or directory\n",
      "2023-04-24 14:36:11.406696: W tensorflow/compiler/xla/stream_executor/platform/default/dso_loader.cc:64] Could not load dynamic library 'libnvinfer_plugin.so.7'; dlerror: libnvinfer_plugin.so.7: cannot open shared object file: No such file or directory\n",
      "2023-04-24 14:36:11.406701: W tensorflow/compiler/tf2tensorrt/utils/py_utils.cc:38] TF-TRT Warning: Cannot dlopen some TensorRT libraries. If you would like to use Nvidia GPU with TensorRT, please make sure the missing libraries mentioned above are installed properly.\n"
     ]
    }
   ],
   "source": [
    "from datetime import datetime\n",
    "from dataclasses import dataclass\n",
    "import json\n",
    "%matplotlib inline\n",
    "import numpy as np\n",
    "import os\n",
    "import strawberryfields as sf\n",
    "import tensorflow as tf\n",
    "\n",
    "from src.energy_surface import EnergySurface\n",
    "from src.utils import von_neumann_entropy, renyi_entropy, bell"
   ]
  },
  {
   "cell_type": "code",
   "execution_count": 3,
   "metadata": {},
   "outputs": [],
   "source": [
    "class objectview(object):\n",
    "    def __init__(self, d):\n",
    "        self.__dict__ = d"
   ]
  },
  {
   "cell_type": "markdown",
   "metadata": {},
   "source": [
    "Let us define the following `Atom` dataclass to store the QDO parameters later"
   ]
  },
  {
   "cell_type": "code",
   "execution_count": 4,
   "metadata": {},
   "outputs": [],
   "source": [
    "@dataclass\n",
    "class Atom:\n",
    "    m: float\n",
    "    omega: float\n",
    "    q: float"
   ]
  },
  {
   "cell_type": "markdown",
   "metadata": {},
   "source": [
    "You can choose among the following list of atoms. Note that the 'Un' atom corresponds to a fictitious atom with unit parameters."
   ]
  },
  {
   "cell_type": "code",
   "execution_count": 5,
   "metadata": {},
   "outputs": [],
   "source": [
    "ATOMIC_PARAMETERS = {\n",
    "    'Un': {'omega': 1.0000, 'm': 1.0000, 'q': 1.0000},\n",
    "    'H':  {'omega': 0.4280, 'm': 0.8348, 'q': 0.8295},\n",
    "    'Ne': {'omega': 1.1933, 'm': 0.3675, 'q': 1.1820},\n",
    "    'Ar': {'omega': 0.6958, 'm': 0.3562, 'q': 1.3835},\n",
    "    'Kr': {'omega': 0.6122, 'm': 0.3401, 'q': 1.4635},\n",
    "    'Xe': {'omega': 0.5115, 'm': 0.3298, 'q': 1.5348},\n",
    "}"
   ]
  },
  {
   "cell_type": "markdown",
   "metadata": {},
   "source": [
    "## Preliminaries: defining the inputs of the simulation"
   ]
  },
  {
   "cell_type": "markdown",
   "metadata": {},
   "source": [
    "Let us first define the various parameters relevant for the definition and the training of the model"
   ]
  },
  {
   "cell_type": "code",
   "execution_count": 6,
   "metadata": {},
   "outputs": [],
   "source": [
    "args = {\n",
    "    'layers': 8,\n",
    "    'cutoff_dim': 5,\n",
    "    'atom_list': ['Un', 'Un'],\n",
    "    'active_sd': 0.0001,\n",
    "    'passive_sd': 0.1,\n",
    "    'learning_rate': 0.01,\n",
    "    'epsilon': 1e-3,\n",
    "    'patience': 30,\n",
    "    'seed': 42,\n",
    "    'save_dir': './logs/'\n",
    "}\n",
    "\n",
    "args['dimension'] = 1\n",
    "args['modes'] = len(args['atom_list']) * args['dimension']\n",
    "\n",
    "distances = list(np.linspace(0.1, 3.5, 70))\n",
    "thetas = list(np.linspace(0.0, np.pi / 2, 20))\n",
    "\n",
    "args['distance_list'] = distances\n",
    "args['theta_list'] = thetas\n",
    "\n",
    "args = objectview(args)"
   ]
  },
  {
   "cell_type": "markdown",
   "metadata": {},
   "source": [
    "By default, Strawberry Fields sets $\\hbar=2$. Let us redefine it to fit atomic units conventions"
   ]
  },
  {
   "cell_type": "code",
   "execution_count": 7,
   "metadata": {},
   "outputs": [],
   "source": [
    "sf.hbar = 1.0"
   ]
  },
  {
   "cell_type": "markdown",
   "metadata": {},
   "source": [
    "Let us also set the random seeds for reproducibility of the results"
   ]
  },
  {
   "cell_type": "code",
   "execution_count": 8,
   "metadata": {},
   "outputs": [],
   "source": [
    "tf.random.set_seed(args.seed)\n",
    "np.random.seed(args.seed)"
   ]
  },
  {
   "cell_type": "markdown",
   "metadata": {},
   "source": [
    "Let us define a directory where to store the results of the simulation"
   ]
  },
  {
   "cell_type": "markdown",
   "metadata": {},
   "source": [
    "Let us store the QDO's data into dataclass"
   ]
  },
  {
   "cell_type": "code",
   "execution_count": 9,
   "metadata": {},
   "outputs": [],
   "source": [
    "atoms = []\n",
    "\n",
    "for atom in args.atom_list:\n",
    "\n",
    "    atoms.append(Atom(\n",
    "        m=ATOMIC_PARAMETERS[atom]['m'],\n",
    "        omega=ATOMIC_PARAMETERS[atom]['omega'],\n",
    "        q=ATOMIC_PARAMETERS[atom]['q']\n",
    "    ))"
   ]
  },
  {
   "cell_type": "markdown",
   "metadata": {},
   "source": [
    "We work with the quadratures of the electromagnetic field, which are real valued variables, hence need to be discretized"
   ]
  },
  {
   "cell_type": "code",
   "execution_count": 10,
   "metadata": {},
   "outputs": [],
   "source": [
    "x_quadrature_grid = np.linspace(-7.0, 7.0, 400)"
   ]
  },
  {
   "cell_type": "markdown",
   "metadata": {},
   "source": [
    "## Training"
   ]
  },
  {
   "cell_type": "markdown",
   "metadata": {},
   "source": [
    "We are finally ready to instanciate a `EnergySurface` object, whose ability is to run a VQE algorithm for each of the specified interatomic distances and angle/model, and store the results of the simulation in the directory defined previously."
   ]
  },
  {
   "cell_type": "code",
   "execution_count": null,
   "metadata": {},
   "outputs": [],
   "source": [
    "save_dir = os.path.join(\n",
    "    args.save_dir,\n",
    "    datetime.now().strftime(\"%Y.%m.%d.%H.%M.%S\")\n",
    ")\n",
    "\n",
    "os.makedirs(save_dir, exist_ok=True)\n",
    "\n",
    "# Save the parameters of the run to the log directory\n",
    "with open(os.path.join(save_dir, 'args.json'), 'w') as f:\n",
    "    json.dump(vars(args), f, indent=4)\n",
    "\n",
    "energy_surface = EnergySurface(\n",
    "    layers=args.layers,\n",
    "    distance_list=distances,\n",
    "    theta_list=thetas,\n",
    "    x_quadrature_grid=x_quadrature_grid,\n",
    "    atoms=atoms,\n",
    "    active_sd=args.active_sd,\n",
    "    passive_sd=args.passive_sd,\n",
    "    cutoff_dim=args.cutoff_dim,\n",
    "    learning_rate=args.learning_rate,\n",
    "    save_dir=save_dir,\n",
    "    verbose=False\n",
    ")\n",
    "\n",
    "res = energy_surface.construct_energy_surface_parallelized(\n",
    "    epsilon=args.epsilon,\n",
    "    patience=args.patience\n",
    ")"
   ]
  },
  {
   "attachments": {},
   "cell_type": "markdown",
   "metadata": {},
   "source": [
    "## Postprocessing"
   ]
  },
  {
   "attachments": {},
   "cell_type": "markdown",
   "metadata": {},
   "source": [
    "### Loading and exporting data to mathematica"
   ]
  },
  {
   "attachments": {},
   "cell_type": "markdown",
   "metadata": {},
   "source": [
    "Let us load the results of the simulation"
   ]
  },
  {
   "cell_type": "code",
   "execution_count": 11,
   "metadata": {},
   "outputs": [],
   "source": [
    "dir = 'logs/2023.02.21.13.19.23'\n",
    "res = np.load(os.path.join(dir, 'results.npy'))\n",
    "starting_distance = 0\n",
    "\n",
    "binding_energies = res[:, starting_distance:, -1, -1]\n",
    "states = res[:, starting_distance:, :-1, :-1]\n",
    "distances = np.load(os.path.join(dir, 'distance_array.npy'))[starting_distance:]\n",
    "thetas = np.load(os.path.join(dir, 'angle_array.npy'))\n",
    "quadrature_grid = np.load(os.path.join(dir, 'quadrature_array.npy'))\n",
    "\n",
    "entropy_array = von_neumann_entropy(states=states)\n",
    "renyi_entropy_array = renyi_entropy(states=states, n=2)\n",
    "\n",
    "bell_inequality = np.zeros(shape=(states.shape[0], states.shape[1]))\n",
    "for i in range(states.shape[0]):\n",
    "    for j in range(states.shape[1]):\n",
    "        bell_inequality[i, j] = bell(quadrature_grid, states[i, j], 5)\n",
    "\n",
    "np.save('./logs/2023.02.21.13.19.23/bell_array.npy', bell_inequality)\n",
    "\n",
    "correlation_array = np.load(os.path.join(dir, 'correlation_array.npy'))\n",
    "\n",
    "with open(os.path.join(dir, 'args.json')) as f:\n",
    "    args = json.load(f)\n",
    "\n",
    "startingDistance = [1, 2, 3, 5, 7, 8, 10, 12, 15, 18, 24, 22, 18, 17, 17, 16, 21, 25, 24] # starting at the first non-parallel angle"
   ]
  },
  {
   "cell_type": "code",
   "execution_count": 13,
   "metadata": {},
   "outputs": [],
   "source": [
    "mathematica_dir = os.path.join('mathematica', dir.split('/')[1])\n",
    "os.makedirs(mathematica_dir, exist_ok=True)\n",
    "\n",
    "distances.astype('float32').tofile(os.path.join(mathematica_dir, 'distances.dat'))\n",
    "thetas.astype('float32').tofile(os.path.join(mathematica_dir, 'angles.dat'))\n",
    "binding_energies.astype('float32').tofile(os.path.join(mathematica_dir, 'binding_energies.dat'))\n",
    "states.astype('complex').tofile(os.path.join(mathematica_dir, 'states.dat'))\n",
    "quadrature_grid.astype('float32').tofile(os.path.join(mathematica_dir, 'quadrature_grid.dat'))\n",
    "entropy_array.astype('float32').tofile(os.path.join(mathematica_dir, 'entropies.dat'))\n",
    "renyi_entropy_array.astype('float32').tofile(os.path.join(mathematica_dir, 'renyi_entropies.dat'))"
   ]
  }
 ],
 "metadata": {
  "kernelspec": {
   "display_name": ".env",
   "language": "python",
   "name": "python3"
  },
  "language_info": {
   "codemirror_mode": {
    "name": "ipython",
    "version": 3
   },
   "file_extension": ".py",
   "mimetype": "text/x-python",
   "name": "python",
   "nbconvert_exporter": "python",
   "pygments_lexer": "ipython3",
   "version": "3.8.10"
  },
  "vscode": {
   "interpreter": {
    "hash": "b795769ab38a7238d443f9adcb0e95eb86b5a13513126d83a1d22aa0a3cdd47a"
   }
  }
 },
 "nbformat": 4,
 "nbformat_minor": 4
}
