{
 "cells": [
  {
   "cell_type": "code",
   "execution_count": 1,
   "metadata": {},
   "outputs": [],
   "source": [
    "import string\n",
    "from scipy.special import hermite\n",
    "import numpy as np\n",
    "import tensorflow as tf\n",
    "from tensorflow.python.ops.special_math_ops import _einsum_v1 as einsum\n",
    "\n",
    "num_modes = 2\n",
    "cutoff = 4\n",
    "num_points = 1000 \n",
    "\n",
    "alpha = tf.Variable(\n",
    "    [\n",
    "        [ 1.0000000e+00-2.9771756e-09j, -2.2837524e-04-4.8372490e-06j, 2.2475776e-04-3.0911028e-06j, -8.8906148e-08-7.1808154e-10j],\n",
    "        [ 1.0598104e-04+2.2621527e-05j,  5.0736486e-05+1.8292945e-05j, 7.6297164e-09-1.5074212e-09j, -2.2241665e-08+2.6585192e-09j],\n",
    "        [ 2.5927270e-04+1.0559565e-07j, -5.2198594e-08+3.0939069e-09j, 3.7299468e-08+6.8964878e-10j, -1.7284450e-11-2.9644757e-13j],\n",
    "        [ 4.7610726e-08+1.0228970e-08j,  4.2539529e-08+3.9197228e-09j, -5.1839774e-12+9.6739988e-13j, -1.8434941e-12+5.1965905e-14j]\n",
    "    ]\n",
    ")\n",
    "\n",
    "x = tf.linspace(-100, 100, num_points)\n",
    "dx = x[1] - x[0]\n",
    "\n",
    "def amplitude(\n",
    "    x: tf.Tensor,\n",
    "    alpha: tf.Tensor,\n",
    "    num_modes: int,\n",
    "    cutoff: int\n",
    ") -> tf.Tensor:\n",
    "\n",
    "    num_points = x.shape[0]\n",
    "\n",
    "    einsum_rule = ''.join(\n",
    "        [string.ascii_lowercase[: num_modes]] \\\n",
    "        + [',' + string.ascii_lowercase[i] + string.ascii_lowercase[num_modes+i] for i in range(num_modes)] \\\n",
    "        + ['->'] + [string.ascii_lowercase[num_modes+i] for i in range(num_modes)]\n",
    "    )\n",
    "\n",
    "    hermite_tensor = tf.Variable(np.zeros(shape=(cutoff, num_points)), dtype=tf.complex128)\n",
    "\n",
    "    for n in range(cutoff):\n",
    "\n",
    "        h = hermite(n)\n",
    "        wave = tf.Variable(h(x)) * tf.exp(-x**2 / 2)/ (np.sqrt(np.sqrt(np.pi)*(2**n)*np.math.factorial(n)))\n",
    "        wave = tf.cast(wave, tf.complex128)\n",
    "        hermite_tensor[n].assign(wave)\n",
    "\n",
    "    amp = einsum(einsum_rule, alpha, *(hermite_tensor for _ in range(num_modes)))\n",
    "\n",
    "    return amp\n",
    "\n",
    "def quadratures_densities(\n",
    "    x: tf.Tensor,\n",
    "    alpha: tf.Tensor,\n",
    "    num_modes: int,\n",
    "    cutoff: int\n",
    ") -> tf.Tensor:\n",
    "\n",
    "    amp = amplitude(x, alpha, num_modes, cutoff)\n",
    "    density = tf.abs(amp)**2\n",
    "\n",
    "    return density  "
   ]
  },
  {
   "cell_type": "code",
   "execution_count": 2,
   "metadata": {},
   "outputs": [
    {
     "data": {
      "text/plain": [
       "<tf.Tensor: shape=(), dtype=float64, numpy=5.0746830160629806e-05>"
      ]
     },
     "execution_count": 2,
     "metadata": {},
     "output_type": "execute_result"
    }
   ],
   "source": [
    "rho = quadratures_densities(x, alpha, num_modes, cutoff)\n",
    "\n",
    "tf.einsum('ab,a,b->', dx**num_modes * rho, x, x)"
   ]
  },
  {
   "cell_type": "code",
   "execution_count": 13,
   "metadata": {},
   "outputs": [
    {
     "data": {
      "text/plain": [
       "array([[ 10000.        ,   9979.97997998,   9959.95995996, ...,\n",
       "         -9959.95995996,  -9979.97997998, -10000.        ],\n",
       "       [  9979.97997998,   9960.00004008,   9940.02010018, ...,\n",
       "         -9940.02010018,  -9960.00004008,  -9979.97997998],\n",
       "       [  9959.95995996,   9940.02010018,   9920.0802404 , ...,\n",
       "         -9920.0802404 ,  -9940.02010018,  -9959.95995996],\n",
       "       ...,\n",
       "       [ -9959.95995996,  -9940.02010018,  -9920.0802404 , ...,\n",
       "          9920.0802404 ,   9940.02010018,   9959.95995996],\n",
       "       [ -9979.97997998,  -9960.00004008,  -9940.02010018, ...,\n",
       "          9940.02010018,   9960.00004008,   9979.97997998],\n",
       "       [-10000.        ,  -9979.97997998,  -9959.95995996, ...,\n",
       "          9959.95995996,   9979.97997998,  10000.        ]])"
      ]
     },
     "execution_count": 13,
     "metadata": {},
     "output_type": "execute_result"
    }
   ],
   "source": [
    "np.einsum('m,n->mn', x, x)\n"
   ]
  },
  {
   "cell_type": "code",
   "execution_count": 10,
   "metadata": {},
   "outputs": [
    {
     "data": {
      "text/plain": [
       "array([[0., 1., 2.],\n",
       "       [0., 1., 2.],\n",
       "       [0., 1., 2.]])"
      ]
     },
     "execution_count": 10,
     "metadata": {},
     "output_type": "execute_result"
    }
   ],
   "source": [
    "np.fromfunction(lambda i, j: j, (3, 3), dtype=float) "
   ]
  },
  {
   "cell_type": "code",
   "execution_count": 18,
   "metadata": {},
   "outputs": [],
   "source": [
    "import numpy as np\n",
    "\n",
    "x = np.array([2, 3])\n"
   ]
  },
  {
   "cell_type": "code",
   "execution_count": 19,
   "metadata": {},
   "outputs": [],
   "source": [
    "L = x.shape[0]\n",
    "term01 = np.einsum('a,b->ab', x, x).reshape((L,1,1,L,1,1)).repeat(L,1).repeat(L,2).repeat(L,4).repeat(L,5)\n",
    "term02 = np.einsum('a,b->ab', x, x).reshape((1,L,1,1,L,1)).repeat(L,0).repeat(L,2).repeat(L,3).repeat(L,5)\n",
    "term03 = np.einsum('a,b->ab', x, x).reshape((1,1,L,1,1,L)).repeat(L,0).repeat(L,1).repeat(L,3).repeat(L,4)"
   ]
  },
  {
   "cell_type": "code",
   "execution_count": 24,
   "metadata": {},
   "outputs": [],
   "source": [
    "import tensorflow as tf\n",
    "x = tf.linspace(0, 1, 3)\n",
    "L = x.shape[0]"
   ]
  },
  {
   "cell_type": "code",
   "execution_count": null,
   "metadata": {},
   "outputs": [],
   "source": []
  },
  {
   "cell_type": "code",
   "execution_count": 25,
   "metadata": {},
   "outputs": [
    {
     "ename": "InvalidArgumentError",
     "evalue": "Input to reshape is a tensor with 3 values, but the requested shape has 9 [Op:Reshape]",
     "output_type": "error",
     "traceback": [
      "\u001b[0;31m---------------------------------------------------------------------------\u001b[0m",
      "\u001b[0;31mInvalidArgumentError\u001b[0m                      Traceback (most recent call last)",
      "\u001b[1;32m/Users/matthieu.sarkis/git_repositories/qdo/playground.ipynb Cell 8\u001b[0m in \u001b[0;36m<cell line: 1>\u001b[0;34m()\u001b[0m\n\u001b[0;32m----> <a href='vscode-notebook-cell:/Users/matthieu.sarkis/git_repositories/qdo/playground.ipynb#X13sZmlsZQ%3D%3D?line=0'>1</a>\u001b[0m tf\u001b[39m.\u001b[39;49mreshape(x, (L,\u001b[39m1\u001b[39;49m,\u001b[39m1\u001b[39;49m,L,\u001b[39m1\u001b[39;49m,\u001b[39m1\u001b[39;49m))\n",
      "File \u001b[0;32m/opt/homebrew/Caskroom/miniforge/base/envs/env/lib/python3.8/site-packages/tensorflow/python/util/traceback_utils.py:153\u001b[0m, in \u001b[0;36mfilter_traceback.<locals>.error_handler\u001b[0;34m(*args, **kwargs)\u001b[0m\n\u001b[1;32m    151\u001b[0m \u001b[39mexcept\u001b[39;00m \u001b[39mException\u001b[39;00m \u001b[39mas\u001b[39;00m e:\n\u001b[1;32m    152\u001b[0m   filtered_tb \u001b[39m=\u001b[39m _process_traceback_frames(e\u001b[39m.\u001b[39m__traceback__)\n\u001b[0;32m--> 153\u001b[0m   \u001b[39mraise\u001b[39;00m e\u001b[39m.\u001b[39mwith_traceback(filtered_tb) \u001b[39mfrom\u001b[39;00m \u001b[39mNone\u001b[39m\n\u001b[1;32m    154\u001b[0m \u001b[39mfinally\u001b[39;00m:\n\u001b[1;32m    155\u001b[0m   \u001b[39mdel\u001b[39;00m filtered_tb\n",
      "File \u001b[0;32m/opt/homebrew/Caskroom/miniforge/base/envs/env/lib/python3.8/site-packages/tensorflow/python/eager/execute.py:54\u001b[0m, in \u001b[0;36mquick_execute\u001b[0;34m(op_name, num_outputs, inputs, attrs, ctx, name)\u001b[0m\n\u001b[1;32m     52\u001b[0m \u001b[39mtry\u001b[39;00m:\n\u001b[1;32m     53\u001b[0m   ctx\u001b[39m.\u001b[39mensure_initialized()\n\u001b[0;32m---> 54\u001b[0m   tensors \u001b[39m=\u001b[39m pywrap_tfe\u001b[39m.\u001b[39mTFE_Py_Execute(ctx\u001b[39m.\u001b[39m_handle, device_name, op_name,\n\u001b[1;32m     55\u001b[0m                                       inputs, attrs, num_outputs)\n\u001b[1;32m     56\u001b[0m \u001b[39mexcept\u001b[39;00m core\u001b[39m.\u001b[39m_NotOkStatusException \u001b[39mas\u001b[39;00m e:\n\u001b[1;32m     57\u001b[0m   \u001b[39mif\u001b[39;00m name \u001b[39mis\u001b[39;00m \u001b[39mnot\u001b[39;00m \u001b[39mNone\u001b[39;00m:\n",
      "\u001b[0;31mInvalidArgumentError\u001b[0m: Input to reshape is a tensor with 3 values, but the requested shape has 9 [Op:Reshape]"
     ]
    }
   ],
   "source": [
    "tf.reshape(x, (L,1,1,L,1,1))"
   ]
  },
  {
   "cell_type": "code",
   "execution_count": 28,
   "metadata": {},
   "outputs": [],
   "source": [
    "term01 = tf.repeat(tf.repeat(tf.repeat(tf.repeat(tf.einsum('a,b->ab', x, x)[:,tf.newaxis,tf.newaxis,:,tf.newaxis,tf.newaxis], L, 1), L, 2), L, 4), L, 5)\n",
    "term02 = tf.repeat(tf.repeat(tf.repeat(tf.repeat(tf.einsum('a,b->ab', x, x)[tf.newaxis,:,tf.newaxis,tf.newaxis,:,tf.newaxis], L, 0), L, 2), L, 3), L, 5)\n",
    "term03 = tf.repeat(tf.repeat(tf.repeat(tf.repeat(tf.einsum('a,b->ab', x, x)[tf.newaxis,tf.newaxis,:,tf.newaxis,tf.newaxis,:], L, 0), L, 1), L, 3), L, 4)"
   ]
  },
  {
   "cell_type": "code",
   "execution_count": null,
   "metadata": {},
   "outputs": [],
   "source": []
  }
 ],
 "metadata": {
  "kernelspec": {
   "display_name": "Python 3",
   "language": "python",
   "name": "python3"
  },
  "language_info": {
   "codemirror_mode": {
    "name": "ipython",
    "version": 3
   },
   "file_extension": ".py",
   "mimetype": "text/x-python",
   "name": "python",
   "nbconvert_exporter": "python",
   "pygments_lexer": "ipython3",
   "version": "3.8.13"
  },
  "orig_nbformat": 4,
  "vscode": {
   "interpreter": {
    "hash": "09f3d8eecba84f2f4202d253b4adc6714ee8a6f39a500ddef9e175895c02c813"
   }
  }
 },
 "nbformat": 4,
 "nbformat_minor": 2
}
