{
 "cells": [
  {
   "cell_type": "code",
   "execution_count": 1,
   "metadata": {},
   "outputs": [
    {
     "name": "stdout",
     "output_type": "stream",
     "text": [
      "[0.0, 0.1, 0.2, 0.3, 0.4, 0.5, 0.6, 0.7, 0.8, 0.9, 1.0, 1.1, 1.2, 1.3, 1.4, 1.5, 1.6, 1.7, 1.8, 1.9, 2.0, 2.1, 2.2, 2.3, 2.4, 2.5, 2.6, 2.7, 2.8, 2.9, 3.0, 3.1, 3.2, 3.3, 3.4, 3.5, 3.6, 3.7, 3.8, 3.9, 4.0, 4.1, 4.2, 4.3, 4.4, 4.5, 4.6, 4.7, 4.8, 4.9, 5.0, 5.1, 5.2, 5.3, 5.4, 5.5, 5.6, 5.7, 5.8, 5.9, 6.0, 6.1, 6.2, 6.3, 6.4, 6.5, 6.6, 6.7, 6.8, 6.9, 7.0, 7.1, 7.2, 7.3, 7.4, 7.5, 7.6, 7.7, 7.8, 7.9, 8.0, 8.1, 8.2, 8.3, 8.4, 8.5, 8.6, 8.7, 8.8, 8.9, 9.0, 9.1, 9.2, 9.3, 9.4, 9.5, 9.6, 9.7, 9.8, 9.9]\n"
     ]
    }
   ],
   "source": [
    "print([i/10 for i in range(100)])"
   ]
  },
  {
   "cell_type": "code",
   "execution_count": null,
   "metadata": {},
   "outputs": [],
   "source": [
    "0.1 0.2 0.3 0.4 0.5 0.6 0.7 0.8 0.9 1.0 1.1 1.2 1.3 1.4 1.5 1.6 1.7 1.8 1.9 2.0 2.1 2.2 2.3 2.4 2.5 2.6 2.7 2.8 2.9 3.0 3.1 3.2 3.3 3.4 3.5 3.6 3.7 3.8 3.9 4.0 4.1 4.2 4.3 4.4 4.5 4.6 4.7 4.8 4.9 5.0 5.1 5.2 5.3 5.4 5.5 5.6 5.7 5.8 5.9 6.0"
   ]
  },
  {
   "cell_type": "code",
   "execution_count": 1,
   "metadata": {},
   "outputs": [],
   "source": []
  },
  {
   "cell_type": "code",
   "execution_count": 2,
   "metadata": {},
   "outputs": [],
   "source": [
    "p = special.hermite(3, monic=False)"
   ]
  },
  {
   "cell_type": "code",
   "execution_count": 5,
   "metadata": {},
   "outputs": [
    {
     "data": {
      "text/plain": [
       "301.00000000000006"
      ]
     },
     "execution_count": 5,
     "metadata": {},
     "output_type": "execute_result"
    }
   ],
   "source": [
    "p(3.5)"
   ]
  },
  {
   "cell_type": "code",
   "execution_count": null,
   "metadata": {},
   "outputs": [],
   "source": [
    "import numpy as np\n",
    "import tensorflow as tf\n",
    "from scipy import special\n",
    "\n",
    "import numpy as np\n",
    "from scipy.special import hermite\n",
    "\n",
    "def rho(X, alpha):\n",
    "    K = len(X)\n",
    "    rho = 0\n",
    "    for n in np.ndindex(*[range(K+1) for _ in range(2*K)]):\n",
    "        n_indices = n[:K]\n",
    "        m_indices = n[K:]\n",
    "        alpha_n = np.prod([alpha[i] for i in n_indices])\n",
    "        alpha_m = np.prod([alpha[i] for i in m_indices])\n",
    "        H_n = np.prod([hermite(i)(X[j]) for j, i in enumerate(n_indices)])\n",
    "        H_m = np.prod([hermite(i)(X[j]) for j, i in enumerate(m_indices)])\n",
    "        rho += alpha_n * np.conj(alpha_m) * H_n * H_m / np.prod([np.sqrt(np.pi*2**(i)*np.math.factorial(i)) for i in n_indices+m_indices])\n",
    "    return rho   "
   ]
  },
  {
   "cell_type": "code",
   "execution_count": 7,
   "metadata": {},
   "outputs": [],
   "source": [
    "import tensorflow as tf\n",
    "\n",
    "def wavefunction(X, alpha, C):\n",
    "    K = len(X)\n",
    "    n_indices = tf.range(0,C)\n",
    "    H_n = tf.stack([tf.math.hermite(i)(X[j]) for j, i in enumerate(n_indices)], axis=-1)\n",
    "    term1 = tf.exp(-tf.reduce_sum(tf.square(X))/2)\n",
    "    term2 = tf.math.sqrt(tf.math.pow(tf.constant(np.pi, dtype=tf.float32), 0.5))\n",
    "    term3 = tf.math.pow(tf.constant(2.0, dtype=tf.float32),n_indices)\n",
    "    term4 = tf.math.factorial(n_indices)\n",
    "    denominator = term2*term3*term4\n",
    "    numerator = term1*H_n\n",
    "    wave = tf.reduce_prod(numerator/denominator, axis=-1)\n",
    "    wave = tf.tensordot(wave, alpha, axes=[-1,0])\n",
    "    return tf.reduce_sum(wave)"
   ]
  },
  {
   "cell_type": "code",
   "execution_count": 25,
   "metadata": {},
   "outputs": [],
   "source": [
    "import string\n",
    "K = 2\n",
    "C = 3\n",
    "L = 5 \n",
    "\n",
    "source_idx = list(string.ascii_lowercase[1: K + 1])\n",
    "#for i in to_trace:\n",
    "#    source_idx[self.n_qubits + i] = source_idx[i]\n",
    "#for j in sorted(to_trace + [self.n_qubits + i for i in to_trace], reverse=True):\n",
    "#    del target_idx[j]\n",
    "#source_idx = ['a'] + source_idx\n",
    "#target_idx = ['a'] + target_idx\n",
    "#einsum_rule = ''.join(source_idx + ['-', '>'] + target_idx)\n",
    "#partial_traces = np.einsum(einsum_rule, density_matrices.reshape(tuple([density_matrices.shape[0]] + [2 for _ in range(2*self.n_qubits)])))\n",
    "#partial_traces = partial_traces.reshape((partial_traces.shape[0], 2**len(qubits_to_keep), 2**len(qubits_to_keep)))"
   ]
  },
  {
   "cell_type": "code",
   "execution_count": 44,
   "metadata": {},
   "outputs": [
    {
     "data": {
      "text/plain": [
       "<tf.Tensor: shape=(5,), dtype=float64, numpy=array([8.410e+02, 2.500e+01, 1.000e+00, 1.210e+02, 1.681e+03])>"
      ]
     },
     "execution_count": 44,
     "metadata": {},
     "output_type": "execute_result"
    }
   ],
   "source": [
    "import string\n",
    "from scipy.special import hermite\n",
    "import numpy as np\n",
    "\n",
    "K = 2\n",
    "C = 3\n",
    "L = 5 \n",
    "\n",
    "x = np.linspace(-3, 3, L)\n",
    "alpha = tf.Variable(np.ones(shape=tuple(C for _ in range(K))))\n",
    "\n",
    "einsum_rule = ''.join([string.ascii_lowercase[1: K + 1]] + [',' + string.ascii_lowercase[i] + 'a' for i in range(1, K+1)] + ['->a'])\n",
    "\n",
    "hermite_tensor = tf.Variable(np.zeros(shape=(C, L)))\n",
    "\n",
    "for n in range(C):\n",
    "    h = hermite(n)\n",
    "    hermite_tensor[n].assign(h(x))\n",
    "\n",
    "tf.einsum(einsum_rule, alpha, *(hermite_tensor for _ in range(K)))"
   ]
  },
  {
   "cell_type": "code",
   "execution_count": 42,
   "metadata": {},
   "outputs": [
    {
     "data": {
      "text/plain": [
       "(3, 3)"
      ]
     },
     "execution_count": 42,
     "metadata": {},
     "output_type": "execute_result"
    }
   ],
   "source": [
    "tuple(C for _ in range(K))"
   ]
  },
  {
   "cell_type": "code",
   "execution_count": null,
   "metadata": {},
   "outputs": [],
   "source": []
  }
 ],
 "metadata": {
  "kernelspec": {
   "display_name": "Python 3.8.10 ('.env': venv)",
   "language": "python",
   "name": "python3"
  },
  "language_info": {
   "codemirror_mode": {
    "name": "ipython",
    "version": 3
   },
   "file_extension": ".py",
   "mimetype": "text/x-python",
   "name": "python",
   "nbconvert_exporter": "python",
   "pygments_lexer": "ipython3",
   "version": "3.8.10"
  },
  "orig_nbformat": 4,
  "vscode": {
   "interpreter": {
    "hash": "b795769ab38a7238d443f9adcb0e95eb86b5a13513126d83a1d22aa0a3cdd47a"
   }
  }
 },
 "nbformat": 4,
 "nbformat_minor": 2
}
