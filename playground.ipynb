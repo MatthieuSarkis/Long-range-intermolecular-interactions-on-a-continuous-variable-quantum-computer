{
 "cells": [
  {
   "cell_type": "code",
   "execution_count": 12,
   "metadata": {},
   "outputs": [],
   "source": [
    "import numpy as np\n",
    "from scipy import linalg\n",
    "\n",
    "def von_neumann_entropy(alpha: np.ndarray) -> np.ndarray:\n",
    "    r\"\"\" Computes the von neumann entropy of a the partial density matrix\n",
    "    of the first subsystem of the total system described by state `alpha`.\n",
    "    Note that this function does not support more than a two-mode system for now.\n",
    "\n",
    "    Args:\n",
    "        alpha (np.ndarray): The coefficients of the state of the total system expressed in the Fock basis.\n",
    "    Returns:\n",
    "        (np.ndarray): The von neumann entropy of the first subsystem.\n",
    "    \"\"\"\n",
    "\n",
    "    # Let us compute the partial density matrix of the first\n",
    "    # subsystem, expressed in the Fock basis\n",
    "    rho = np.einsum('ml,nl->nm', alpha.conjugate(), alpha)\n",
    "\n",
    "    # We finally compute the von Neumann entropy\n",
    "    entropy = -np.trace(rho @ linalg.logm(rho))\n",
    "\n",
    "    return entropy"
   ]
  },
  {
   "cell_type": "code",
   "execution_count": 13,
   "metadata": {},
   "outputs": [],
   "source": [
    "alpha = np.array(\n",
    "    [\n",
    "        [1, 2, 3],\n",
    "        [4, 5, 6],\n",
    "        [7, 8, 9]\n",
    "    ]\n",
    ")\n"
   ]
  },
  {
   "cell_type": "code",
   "execution_count": 21,
   "metadata": {},
   "outputs": [
    {
     "data": {
      "text/plain": [
       "float"
      ]
     },
     "execution_count": 21,
     "metadata": {},
     "output_type": "execute_result"
    }
   ],
   "source": [
    "type(von_neumann_entropy(alpha=alpha).item())"
   ]
  },
  {
   "cell_type": "code",
   "execution_count": 9,
   "metadata": {},
   "outputs": [],
   "source": [
    "rho = np.einsum('ml,nl->nm', alpha.conjugate(), alpha)"
   ]
  },
  {
   "cell_type": "code",
   "execution_count": 10,
   "metadata": {},
   "outputs": [
    {
     "data": {
      "text/plain": [
       "array([[ 14,  32,  50],\n",
       "       [ 32,  77, 122],\n",
       "       [ 50, 122, 194]])"
      ]
     },
     "execution_count": 10,
     "metadata": {},
     "output_type": "execute_result"
    }
   ],
   "source": [
    "rho"
   ]
  },
  {
   "cell_type": "code",
   "execution_count": null,
   "metadata": {},
   "outputs": [],
   "source": []
  }
 ],
 "metadata": {
  "kernelspec": {
   "display_name": "Python 3",
   "language": "python",
   "name": "python3"
  },
  "language_info": {
   "codemirror_mode": {
    "name": "ipython",
    "version": 3
   },
   "file_extension": ".py",
   "mimetype": "text/x-python",
   "name": "python",
   "nbconvert_exporter": "python",
   "pygments_lexer": "ipython3",
   "version": "3.8.13"
  },
  "orig_nbformat": 4,
  "vscode": {
   "interpreter": {
    "hash": "09f3d8eecba84f2f4202d253b4adc6714ee8a6f39a500ddef9e175895c02c813"
   }
  }
 },
 "nbformat": 4,
 "nbformat_minor": 2
}
