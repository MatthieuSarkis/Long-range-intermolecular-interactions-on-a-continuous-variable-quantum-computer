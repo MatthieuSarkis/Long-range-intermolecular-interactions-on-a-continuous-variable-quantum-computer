{
 "cells": [
  {
   "cell_type": "code",
   "execution_count": 81,
   "metadata": {},
   "outputs": [],
   "source": [
    "import string\n",
    "from scipy.special import hermite\n",
    "import numpy as np\n",
    "import tensorflow as tf\n",
    "from tensorflow.python.ops.special_math_ops import _einsum_v1 as einsum\n",
    "\n",
    "num_modes = 2\n",
    "cutoff = 4\n",
    "num_points = 1000 \n",
    "\n",
    "alpha = tf.Variable(\n",
    "    [\n",
    "        [ 1.0000000e+00-2.9771756e-09j, -2.2837524e-04-4.8372490e-06j, 2.2475776e-04-3.0911028e-06j, -8.8906148e-08-7.1808154e-10j],\n",
    "        [ 1.0598104e-04+2.2621527e-05j,  5.0736486e-05+1.8292945e-05j, 7.6297164e-09-1.5074212e-09j, -2.2241665e-08+2.6585192e-09j],\n",
    "        [ 2.5927270e-04+1.0559565e-07j, -5.2198594e-08+3.0939069e-09j, 3.7299468e-08+6.8964878e-10j, -1.7284450e-11-2.9644757e-13j],\n",
    "        [ 4.7610726e-08+1.0228970e-08j,  4.2539529e-08+3.9197228e-09j, -5.1839774e-12+9.6739988e-13j, -1.8434941e-12+5.1965905e-14j]\n",
    "    ]\n",
    ")\n",
    "\n",
    "x = tf.linspace(-100, 100, num_points)\n",
    "dx = x[1] - x[0]\n",
    "\n",
    "def amplitude(\n",
    "    x: tf.Tensor,\n",
    "    alpha: tf.Tensor,\n",
    "    num_modes: int,\n",
    "    cutoff: int\n",
    ") -> tf.Tensor:\n",
    "\n",
    "    num_points = x.shape[0]\n",
    "\n",
    "    einsum_rule = ''.join(\n",
    "        [string.ascii_lowercase[: num_modes]] \\\n",
    "        + [',' + string.ascii_lowercase[i] + string.ascii_lowercase[num_modes+i] for i in range(num_modes)] \\\n",
    "        + ['->'] + [string.ascii_lowercase[num_modes+i] for i in range(num_modes)]\n",
    "    )\n",
    "\n",
    "    hermite_tensor = tf.Variable(np.zeros(shape=(cutoff, num_points)), dtype=tf.complex128)\n",
    "\n",
    "    for n in range(cutoff):\n",
    "\n",
    "        h = hermite(n)\n",
    "        wave = tf.Variable(h(x)) * tf.exp(-x**2 / 2)/ (np.sqrt(np.sqrt(np.pi)*(2**n)*np.math.factorial(n)))\n",
    "        wave = tf.cast(wave, tf.complex128)\n",
    "        hermite_tensor[n].assign(wave)\n",
    "\n",
    "    amp = einsum(einsum_rule, alpha, *(hermite_tensor for _ in range(num_modes)))\n",
    "\n",
    "    return amp\n",
    "\n",
    "def quadratures_densities(\n",
    "    x: tf.Tensor,\n",
    "    alpha: tf.Tensor,\n",
    "    num_modes: int,\n",
    "    cutoff: int\n",
    ") -> tf.Tensor:\n",
    "\n",
    "    amp = amplitude(x, alpha, num_modes, cutoff)\n",
    "    density = tf.abs(amp)**2\n",
    "\n",
    "    return density  "
   ]
  },
  {
   "cell_type": "code",
   "execution_count": 82,
   "metadata": {},
   "outputs": [
    {
     "data": {
      "text/plain": [
       "<tf.Tensor: shape=(), dtype=float64, numpy=5.0746830160635755e-05>"
      ]
     },
     "execution_count": 82,
     "metadata": {},
     "output_type": "execute_result"
    }
   ],
   "source": [
    "rho = quadratures_densities(x, alpha, num_modes, cutoff)\n",
    "\n",
    "tf.einsum('ab,a,b->', dx**num_modes * rho, x, x)"
   ]
  }
 ],
 "metadata": {
  "kernelspec": {
   "display_name": ".env",
   "language": "python",
   "name": "python3"
  },
  "language_info": {
   "codemirror_mode": {
    "name": "ipython",
    "version": 3
   },
   "file_extension": ".py",
   "mimetype": "text/x-python",
   "name": "python",
   "nbconvert_exporter": "python",
   "pygments_lexer": "ipython3",
   "version": "3.8.10"
  },
  "orig_nbformat": 4,
  "vscode": {
   "interpreter": {
    "hash": "b795769ab38a7238d443f9adcb0e95eb86b5a13513126d83a1d22aa0a3cdd47a"
   }
  }
 },
 "nbformat": 4,
 "nbformat_minor": 2
}
