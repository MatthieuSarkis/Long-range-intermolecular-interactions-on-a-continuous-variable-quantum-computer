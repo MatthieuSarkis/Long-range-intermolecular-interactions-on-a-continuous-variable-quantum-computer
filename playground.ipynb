{
 "cells": [
  {
   "cell_type": "code",
   "execution_count": 1,
   "metadata": {},
   "outputs": [
    {
     "name": "stdout",
     "output_type": "stream",
     "text": [
      "[0.0, 0.1, 0.2, 0.3, 0.4, 0.5, 0.6, 0.7, 0.8, 0.9, 1.0, 1.1, 1.2, 1.3, 1.4, 1.5, 1.6, 1.7, 1.8, 1.9, 2.0, 2.1, 2.2, 2.3, 2.4, 2.5, 2.6, 2.7, 2.8, 2.9, 3.0, 3.1, 3.2, 3.3, 3.4, 3.5, 3.6, 3.7, 3.8, 3.9, 4.0, 4.1, 4.2, 4.3, 4.4, 4.5, 4.6, 4.7, 4.8, 4.9, 5.0, 5.1, 5.2, 5.3, 5.4, 5.5, 5.6, 5.7, 5.8, 5.9, 6.0, 6.1, 6.2, 6.3, 6.4, 6.5, 6.6, 6.7, 6.8, 6.9, 7.0, 7.1, 7.2, 7.3, 7.4, 7.5, 7.6, 7.7, 7.8, 7.9, 8.0, 8.1, 8.2, 8.3, 8.4, 8.5, 8.6, 8.7, 8.8, 8.9, 9.0, 9.1, 9.2, 9.3, 9.4, 9.5, 9.6, 9.7, 9.8, 9.9]\n"
     ]
    }
   ],
   "source": [
    "print([i/10 for i in range(100)])"
   ]
  },
  {
   "cell_type": "code",
   "execution_count": 4,
   "metadata": {},
   "outputs": [],
   "source": [
    "import string\n",
    "from scipy.special import hermite\n",
    "import numpy as np\n",
    "import tensorflow as tf\n",
    "\n",
    "num_modes = 2\n",
    "cutoff = 3\n",
    "num_points = 5 \n",
    "\n",
    "x = tf.linspace(-5, 5, num_points)\n",
    "alpha = tf.Variable(np.ones(shape=tuple(cutoff for _ in range(num_modes))))\n",
    "\n",
    "def amplitude(\n",
    "    x: tf.Tensor,\n",
    "    alpha: tf.Tensor,\n",
    "    num_modes: int,\n",
    "    cutoff: int\n",
    ") -> tf.Tensor:\n",
    "\n",
    "    num_points = x.shape[0]\n",
    "    einsum_rule = ''.join([string.ascii_lowercase[1: num_modes + 1]] + [',' + string.ascii_lowercase[i] + 'a' for i in range(1, num_modes+1)] + ['->a'])\n",
    "    hermite_tensor = tf.Variable(np.zeros(shape=(cutoff, num_points)))\n",
    "\n",
    "    for n in range(cutoff):\n",
    "\n",
    "        h = hermite(n)\n",
    "        hermite_tensor[n].assign(h(x))\n",
    "\n",
    "    amp = tf.einsum(einsum_rule, alpha, *(hermite_tensor for _ in range(num_modes)))\n",
    "\n",
    "    return amp"
   ]
  },
  {
   "cell_type": "code",
   "execution_count": 5,
   "metadata": {},
   "outputs": [
    {
     "data": {
      "text/plain": [
       "<tf.Tensor: shape=(5,), dtype=float64, numpy=array([7.9210e+03, 3.6100e+02, 1.0000e+00, 8.4100e+02, 1.1881e+04])>"
      ]
     },
     "execution_count": 5,
     "metadata": {},
     "output_type": "execute_result"
    }
   ],
   "source": [
    "amplitude(x, alpha, num_modes)"
   ]
  },
  {
   "cell_type": "code",
   "execution_count": null,
   "metadata": {},
   "outputs": [],
   "source": []
  }
 ],
 "metadata": {
  "kernelspec": {
   "display_name": "Python 3",
   "language": "python",
   "name": "python3"
  },
  "language_info": {
   "codemirror_mode": {
    "name": "ipython",
    "version": 3
   },
   "file_extension": ".py",
   "mimetype": "text/x-python",
   "name": "python",
   "nbconvert_exporter": "python",
   "pygments_lexer": "ipython3",
   "version": "3.8.13"
  },
  "orig_nbformat": 4,
  "vscode": {
   "interpreter": {
    "hash": "09f3d8eecba84f2f4202d253b4adc6714ee8a6f39a500ddef9e175895c02c813"
   }
  }
 },
 "nbformat": 4,
 "nbformat_minor": 2
}
