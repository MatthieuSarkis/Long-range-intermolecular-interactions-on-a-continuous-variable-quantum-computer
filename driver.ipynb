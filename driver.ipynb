{
 "cells": [
  {
   "cell_type": "markdown",
   "metadata": {},
   "source": [
    "# Continuous Variable VQE for long-range molecular interactions"
   ]
  },
  {
   "cell_type": "markdown",
   "metadata": {},
   "source": [
    "In the following, we illustrate how our code can be used to study the system composed of a pair of QDO oscillators. We focus on a 1-dimensional model for efficiency, but the code generalized to the full-fledged 3d QDO model.\n",
    "\n",
    "We focus on the case of a diatomic system."
   ]
  },
  {
   "cell_type": "markdown",
   "metadata": {},
   "source": [
    "## Imports"
   ]
  },
  {
   "cell_type": "code",
   "execution_count": 2,
   "metadata": {},
   "outputs": [
    {
     "name": "stderr",
     "output_type": "stream",
     "text": [
      "2023-02-18 14:28:16.694740: I tensorflow/core/platform/cpu_feature_guard.cc:193] This TensorFlow binary is optimized with oneAPI Deep Neural Network Library (oneDNN) to use the following CPU instructions in performance-critical operations:  AVX2 FMA\n",
      "To enable them in other operations, rebuild TensorFlow with the appropriate compiler flags.\n",
      "2023-02-18 14:28:16.797994: W tensorflow/compiler/xla/stream_executor/platform/default/dso_loader.cc:64] Could not load dynamic library 'libcudart.so.11.0'; dlerror: libcudart.so.11.0: cannot open shared object file: No such file or directory\n",
      "2023-02-18 14:28:16.798008: I tensorflow/compiler/xla/stream_executor/cuda/cudart_stub.cc:29] Ignore above cudart dlerror if you do not have a GPU set up on your machine.\n",
      "2023-02-18 14:28:17.398629: W tensorflow/compiler/xla/stream_executor/platform/default/dso_loader.cc:64] Could not load dynamic library 'libnvinfer.so.7'; dlerror: libnvinfer.so.7: cannot open shared object file: No such file or directory\n",
      "2023-02-18 14:28:17.398688: W tensorflow/compiler/xla/stream_executor/platform/default/dso_loader.cc:64] Could not load dynamic library 'libnvinfer_plugin.so.7'; dlerror: libnvinfer_plugin.so.7: cannot open shared object file: No such file or directory\n",
      "2023-02-18 14:28:17.398693: W tensorflow/compiler/tf2tensorrt/utils/py_utils.cc:38] TF-TRT Warning: Cannot dlopen some TensorRT libraries. If you would like to use Nvidia GPU with TensorRT, please make sure the missing libraries mentioned above are installed properly.\n"
     ]
    }
   ],
   "source": [
    "from datetime import datetime\n",
    "from dataclasses import dataclass\n",
    "import json\n",
    "import matplotlib.pyplot as plt\n",
    "%matplotlib inline\n",
    "from matplotlib import cm\n",
    "import numpy as np\n",
    "import os\n",
    "import strawberryfields as sf\n",
    "from strawberryfields.backends.tfbackend.states import FockStateTF\n",
    "import tensorflow as tf\n",
    "\n",
    "from src.energy_surface import EnergySurface"
   ]
  },
  {
   "cell_type": "code",
   "execution_count": 25,
   "metadata": {},
   "outputs": [],
   "source": [
    "class objectview(object):\n",
    "    def __init__(self, d):\n",
    "        self.__dict__ = d"
   ]
  },
  {
   "cell_type": "markdown",
   "metadata": {},
   "source": [
    "Let us define the following `Atom` dataclass to store the QDO parameters later"
   ]
  },
  {
   "cell_type": "code",
   "execution_count": 26,
   "metadata": {},
   "outputs": [],
   "source": [
    "@dataclass\n",
    "class Atom:\n",
    "    m: float\n",
    "    omega: float\n",
    "    q: float"
   ]
  },
  {
   "cell_type": "markdown",
   "metadata": {},
   "source": [
    "You can choose among the following list of atoms. Note that the 'Un' atom corresponds to a fictitious atom with unit parameters."
   ]
  },
  {
   "cell_type": "code",
   "execution_count": 27,
   "metadata": {},
   "outputs": [],
   "source": [
    "ATOMIC_PARAMETERS = {\n",
    "    'Un': {'omega': 1.0000, 'm': 1.0000, 'q': 1.0000},\n",
    "    'H':  {'omega': 0.4280, 'm': 0.8348, 'q': 0.8295},\n",
    "    'Ne': {'omega': 1.1933, 'm': 0.3675, 'q': 1.1820},\n",
    "    'Ar': {'omega': 0.6958, 'm': 0.3562, 'q': 1.3835},\n",
    "    'Kr': {'omega': 0.6122, 'm': 0.3401, 'q': 1.4635},\n",
    "    'Xe': {'omega': 0.5115, 'm': 0.3298, 'q': 1.5348},\n",
    "}"
   ]
  },
  {
   "cell_type": "markdown",
   "metadata": {},
   "source": [
    "## Preliminaries: defining the inputs of the simulation"
   ]
  },
  {
   "cell_type": "markdown",
   "metadata": {},
   "source": [
    "Let us first define the various parameters relevant for the definition and the training of the model"
   ]
  },
  {
   "cell_type": "code",
   "execution_count": 28,
   "metadata": {},
   "outputs": [],
   "source": [
    "args = {\n",
    "    'layers': 8,\n",
    "    'cutoff_dim': 5,\n",
    "    'atom_list': ['Un', 'Un'],\n",
    "    'active_sd': 0.0001,\n",
    "    'passive_sd': 0.1,\n",
    "    'learning_rate': 0.01,\n",
    "    'epsilon': 1e-3,\n",
    "    'patience': 30,\n",
    "    'seed': 42,\n",
    "    'save_dir': './logs/'\n",
    "}\n",
    "\n",
    "args['dimension'] = 1\n",
    "args['modes'] = len(args['atom_list']) * args['dimension']\n",
    "\n",
    "distances = list(np.linspace(0.1, 3.5, 70))\n",
    "thetas = list(np.linspace(0.0, np.pi / 2, 20))\n",
    "\n",
    "#distances = list(np.linspace(0.3, 3.5, 3))\n",
    "#thetas = list(np.linspace(np.pi / 4, np.pi / 2, 2))\n",
    "\n",
    "args['distance_list'] = distances\n",
    "args['theta_list'] = thetas\n",
    "\n",
    "args = objectview(args)"
   ]
  },
  {
   "cell_type": "markdown",
   "metadata": {},
   "source": [
    "By default, Strawberry Fields sets $\\hbar=2$. Let us redefine it to fit atomic units conventions"
   ]
  },
  {
   "cell_type": "code",
   "execution_count": 29,
   "metadata": {},
   "outputs": [],
   "source": [
    "sf.hbar = 1.0"
   ]
  },
  {
   "cell_type": "markdown",
   "metadata": {},
   "source": [
    "Let us also set the random seeds for reproducibility of the results"
   ]
  },
  {
   "cell_type": "code",
   "execution_count": 30,
   "metadata": {},
   "outputs": [],
   "source": [
    "tf.random.set_seed(args.seed)\n",
    "np.random.seed(args.seed)"
   ]
  },
  {
   "cell_type": "markdown",
   "metadata": {},
   "source": [
    "Let us define a directory where to store the results of the simulation"
   ]
  },
  {
   "cell_type": "markdown",
   "metadata": {},
   "source": [
    "Let us store the QDO's data into dataclass"
   ]
  },
  {
   "cell_type": "code",
   "execution_count": 31,
   "metadata": {},
   "outputs": [],
   "source": [
    "atoms = []\n",
    "\n",
    "for atom in args.atom_list:\n",
    "\n",
    "    atoms.append(Atom(\n",
    "        m=ATOMIC_PARAMETERS[atom]['m'],\n",
    "        omega=ATOMIC_PARAMETERS[atom]['omega'],\n",
    "        q=ATOMIC_PARAMETERS[atom]['q']\n",
    "    ))"
   ]
  },
  {
   "cell_type": "markdown",
   "metadata": {},
   "source": [
    "We work with the quadratures of the electromagnetic field, which are real valued variables, hence need to be discretized"
   ]
  },
  {
   "cell_type": "code",
   "execution_count": 32,
   "metadata": {},
   "outputs": [],
   "source": [
    "x_quadrature_grid = np.linspace(-7.0, 7.0, 400)"
   ]
  },
  {
   "cell_type": "markdown",
   "metadata": {},
   "source": [
    "## Training"
   ]
  },
  {
   "cell_type": "markdown",
   "metadata": {},
   "source": [
    "We are finally ready to instanciate a `EnergySurface` object, whose ability is to run a VQE algorithm for each of the specified interatomic distances and angle/model, and store the results of the simulation in the directory defined previously."
   ]
  },
  {
   "cell_type": "code",
   "execution_count": null,
   "metadata": {},
   "outputs": [],
   "source": [
    "save_dir = os.path.join(\n",
    "    args.save_dir,\n",
    "    datetime.now().strftime(\"%Y.%m.%d.%H.%M.%S\")\n",
    ")\n",
    "\n",
    "os.makedirs(save_dir, exist_ok=True)\n",
    "\n",
    "# Save the parameters of the run to the log directory\n",
    "with open(os.path.join(save_dir, 'args.json'), 'w') as f:\n",
    "    json.dump(vars(args), f, indent=4)\n",
    "\n",
    "energy_surface = EnergySurface(\n",
    "    layers=args.layers,\n",
    "    distance_list=distances,\n",
    "    theta_list=thetas,\n",
    "    x_quadrature_grid=x_quadrature_grid,\n",
    "    atoms=atoms,\n",
    "    active_sd=args.active_sd,\n",
    "    passive_sd=args.passive_sd,\n",
    "    cutoff_dim=args.cutoff_dim,\n",
    "    learning_rate=args.learning_rate,\n",
    "    save_dir=save_dir,\n",
    "    verbose=False\n",
    ")\n",
    "\n",
    "res = energy_surface.construct_energy_surface_parallelized(\n",
    "    epsilon=args.epsilon,\n",
    "    patience=args.patience\n",
    ")"
   ]
  },
  {
   "attachments": {},
   "cell_type": "markdown",
   "metadata": {},
   "source": [
    "## Postprocessing"
   ]
  },
  {
   "attachments": {},
   "cell_type": "markdown",
   "metadata": {},
   "source": [
    "Let us load the results of the simulation"
   ]
  },
  {
   "cell_type": "code",
   "execution_count": 76,
   "metadata": {},
   "outputs": [],
   "source": [
    "dir = 'logs/2023.02.18.12.51.52/'\n",
    "res = np.load(os.path.join(dir, 'results.npy'))\n",
    "starting_distance = 0\n",
    "\n",
    "binding_energies = res[:, starting_distance:, -1, -1]\n",
    "states = res[:, starting_distance:, :-1, :-1]\n",
    "distances = np.load(os.path.join(dir, 'distance_array.npy'))[starting_distance:]\n",
    "thetas = np.load(os.path.join(dir, 'angle_array.npy'))\n",
    "quadrature_grid = np.load(os.path.join(dir, 'quadrature_array.npy'))"
   ]
  },
  {
   "attachments": {},
   "cell_type": "markdown",
   "metadata": {},
   "source": [
    "We export the data to Mathematica readable format in order to do interpolations and output beautiful plots"
   ]
  },
  {
   "cell_type": "code",
   "execution_count": 77,
   "metadata": {},
   "outputs": [],
   "source": [
    "mathematica_dir = os.path.join('mathematica', dir.split('/')[1])\n",
    "os.makedirs(mathematica_dir, exist_ok=True)"
   ]
  },
  {
   "cell_type": "code",
   "execution_count": 78,
   "metadata": {},
   "outputs": [
    {
     "name": "stderr",
     "output_type": "stream",
     "text": [
      "/tmp/ipykernel_626179/4188045011.py:3: ComplexWarning: Casting complex values to real discards the imaginary part\n"
     ]
    }
   ],
   "source": [
    "distances.astype('float32').tofile(os.path.join(mathematica_dir, 'distances.dat'))\n",
    "thetas.astype('float32').tofile(os.path.join(mathematica_dir, 'angles.dat'))\n",
    "binding_energies.astype('float32').tofile(os.path.join(mathematica_dir, 'binding_energies.dat'))\n",
    "states.astype('complex').tofile(os.path.join(mathematica_dir, 'states.dat'))\n",
    "quadrature_grid.astype('float32').tofile(os.path.join(mathematica_dir, 'quadrature_grid.dat'))"
   ]
  },
  {
   "attachments": {},
   "cell_type": "markdown",
   "metadata": {
    "tags": []
   },
   "source": [
    "### Plotting the binding curve"
   ]
  },
  {
   "cell_type": "code",
   "execution_count": 79,
   "metadata": {},
   "outputs": [],
   "source": [
    "def plot_binding_curve(\n",
    "    distance_array: np.ndarray,\n",
    "    binding_energy_array: np.ndarray\n",
    ") -> None:\n",
    "    \n",
    "    fig, axes = plt.subplots(nrows=1, ncols=1)\n",
    "    #axes.scatter(distance_array[4:], binding_energy_array[4:], s=10)\n",
    "    axes.plot(distance_array, binding_energy_array)\n",
    "    axes.set_xlabel('Interatomic distance')\n",
    "    axes.set_ylabel('Binding energy')\n",
    "    axes.grid(True)\n",
    "    axes.set_title('Potential energy surface')\n",
    "    plt.show()\n",
    "    #plt.savefig(save_path, dpi=300, transparent=False, bbox_inches='tight')"
   ]
  },
  {
   "cell_type": "code",
   "execution_count": 80,
   "metadata": {},
   "outputs": [
    {
     "data": {
      "image/png": "[encoded data removed]",
      "text/plain": [
       "<Figure size 640x480 with 1 Axes>"
      ]
     },
     "metadata": {},
     "output_type": "display_data"
    }
   ],
   "source": [
    "plot_binding_curve(\n",
    "    distance_array=distances,\n",
    "    binding_energy_array=binding_energies[2]\n",
    ")"
   ]
  },
  {
   "attachments": {},
   "cell_type": "markdown",
   "metadata": {},
   "source": [
    "### Entanglement entropy"
   ]
  },
  {
   "cell_type": "code",
   "execution_count": 81,
   "metadata": {},
   "outputs": [],
   "source": [
    "from math import log\n",
    "from scipy import linalg\n",
    "\n",
    "def von_neumann_entropy(states: np.ndarray) -> np.ndarray:\n",
    "    r\"\"\" Computes the von neumann entropy of a the partial density matrix\n",
    "    of the first subsystem of the total system described by state `alpha`.\n",
    "    Note that this function does not support more than a two-mode system for now.\n",
    "\n",
    "    Args:\n",
    "        alpha (np.ndarray): The coefficients of the state of the total system expressed in the Fock basis.\n",
    "    Returns:\n",
    "        (float): The von neumann entropy of the first subsystem.\n",
    "    \"\"\"\n",
    "\n",
    "    # Let us compute the partial density matrix of the first\n",
    "    # subsystem, expressed in the Fock basis\n",
    "    rho = np.einsum('abml,abnl->abnm', states.conjugate(), states)\n",
    "\n",
    "    entropy_array = np.zeros(shape=(states.shape[0], states.shape[1]))\n",
    "\n",
    "    # Unfortunately the log of a matrix is computed with `linalg.logm`,\n",
    "    # which doesn't have a vectorized implementation, so one should loop.\n",
    "    for i in range(entropy_array.shape[0]):\n",
    "        for j in range(entropy_array.shape[1]):\n",
    "\n",
    "            # We finally compute the von Neumann entropy (log base 2)\n",
    "            entropy = - (1 / log(2)) * np.trace(rho[i, j] @ linalg.logm(rho[i, j]))\n",
    "            entropy_array[i, j] = entropy\n",
    "\n",
    "    return entropy_array"
   ]
  },
  {
   "cell_type": "code",
   "execution_count": 82,
   "metadata": {},
   "outputs": [
    {
     "name": "stderr",
     "output_type": "stream",
     "text": [
      "/tmp/ipykernel_626179/1879173313.py:28: ComplexWarning: Casting complex values to real discards the imaginary part\n"
     ]
    }
   ],
   "source": [
    "entropy_array = von_neumann_entropy(states=states)"
   ]
  },
  {
   "cell_type": "code",
   "execution_count": 83,
   "metadata": {},
   "outputs": [
    {
     "data": {
      "text/plain": [
       "(15, 70)"
      ]
     },
     "execution_count": 83,
     "metadata": {},
     "output_type": "execute_result"
    }
   ],
   "source": [
    "entropy_array.shape"
   ]
  },
  {
   "cell_type": "code",
   "execution_count": 84,
   "metadata": {},
   "outputs": [],
   "source": [
    "entropy_array.astype('float32').tofile(os.path.join(mathematica_dir, 'entropies.dat'))"
   ]
  },
  {
   "cell_type": "code",
   "execution_count": 85,
   "metadata": {},
   "outputs": [],
   "source": [
    "def plot_entropy(\n",
    "    distance_array: np.ndarray,\n",
    "    entropy_array: np.ndarray\n",
    ") -> None:\n",
    "    \n",
    "    fig, axes = plt.subplots(nrows=1, ncols=1)\n",
    "    #axes.scatter(distance_array[4:], binding_energy_array[4:], s=10)\n",
    "    axes.plot(distance_array, entropy_array)\n",
    "    axes.set_xlabel('Interatomic distance')\n",
    "    axes.set_ylabel('Binding energy')\n",
    "    axes.grid(True)\n",
    "    axes.set_title('Entanglement entropy')\n",
    "    plt.show()\n",
    "    #plt.savefig(save_path, dpi=300, transparent=False, bbox_inches='tight')"
   ]
  },
  {
   "cell_type": "code",
   "execution_count": 89,
   "metadata": {},
   "outputs": [
    {
     "data": {
      "image/png": "[encoded data removed]",
      "text/plain": [
       "<Figure size 640x480 with 1 Axes>"
      ]
     },
     "metadata": {},
     "output_type": "display_data"
    }
   ],
   "source": [
    "plot_entropy(\n",
    "    distance_array=distances,\n",
    "    entropy_array=entropy_array[3]\n",
    ")"
   ]
  },
  {
   "attachments": {},
   "cell_type": "markdown",
   "metadata": {},
   "source": [
    "### Wigner functions vizualization"
   ]
  },
  {
   "cell_type": "code",
   "execution_count": null,
   "metadata": {},
   "outputs": [],
   "source": [
    "import glob\n",
    "\n",
    "directory = 'logs/2023.02.18.12.51.52/theta=0.5890'\n",
    "fig_dir = os.path.join(directory, 'figures')\n",
    "os.makedirs(fig_dir, exist_ok=True)\n",
    "\n",
    "X, P = np.meshgrid(x_quadrature_grid, x_quadrature_grid)\n",
    "\n",
    "states = glob.glob(os.path.join(directory, 'states', 'distance=*'))\n",
    "states.sort()\n",
    "states = states[0:]\n",
    "\n",
    "for file in states:\n",
    "    \n",
    "    distance = file.split('=')[2].split('.npy')[0]\n",
    "    state_data = np.load(file)\n",
    "    state = FockStateTF(state_data=state_data, num_modes=args.modes, pure=True, cutoff_dim=args.cutoff_dim)\n",
    "\n",
    "    w_qdo1 = state.wigner(mode=0, xvec=x_quadrature_grid, pvec=x_quadrature_grid)\n",
    "    w_qdo2 = state.wigner(mode=1, xvec=x_quadrature_grid, pvec=x_quadrature_grid)\n",
    "\n",
    "    fig = plt.figure(figsize=(11, 8))\n",
    "    ax1 = fig.add_subplot(1, 2, 1, projection='3d')\n",
    "    ax1.plot_surface(X, P, w_qdo1, cmap=cm.coolwarm, lw=0.5, rstride=1, cstride=1)\n",
    "    ax1.set_axis_off()\n",
    "    ax1.set_title(\"QDO 1\")\n",
    "    ax2 = fig.add_subplot(1, 2, 2, projection='3d')\n",
    "    ax2.plot_surface(X, P, w_qdo1, cmap=cm.coolwarm, lw=0.5, rstride=1, cstride=1)\n",
    "    ax2.set_axis_off()\n",
    "    ax2.set_title(\"QDO 2\")\n",
    "    plt.savefig(os.path.join(fig_dir, distance + '.png'))\n",
    "    plt.close()"
   ]
  },
  {
   "cell_type": "markdown",
   "metadata": {},
   "source": [
    "## Marginal densities vizualization"
   ]
  },
  {
   "cell_type": "code",
   "execution_count": null,
   "metadata": {},
   "outputs": [],
   "source": [
    "import glob\n",
    "\n",
    "directory = 'logs/2023.02.16.10.49.17/theta=0.5890'\n",
    "fig_dir = os.path.join(directory, 'figures')\n",
    "os.makedirs(fig_dir, exist_ok=True)\n",
    "\n",
    "states = glob.glob(os.path.join(directory, 'quad_marginals/distance=*'))\n",
    "states.sort()\n",
    "states = states[start:]\n",
    "\n",
    "for file in states:\n",
    "    \n",
    "    distance = file.split('=')[2].split('.npy')[0]\n",
    "    data = np.load(file)\n",
    "    state = FockStateTF(state_data=data, num_modes=args.modes, pure=True, cutoff_dim=args.cutoff_dim)\n",
    "\n",
    "    rho1 = data[0]\n",
    "    rho2 = data[1]\n",
    "\n",
    "    fig = plt.figure(figsize=(11, 8))\n",
    "    ax = fig.add_subplot(1, 1, 1)\n",
    "    ax.plot(x_quadrature_grid, rho1)\n",
    "    ax.plot(x_quadrature_grid, rho2)\n",
    "    ax.set_xlabel('Position relative to QDO center')\n",
    "    ax.set_title(\"Marginal position quadrature densities\")\n",
    "    plt.yticks([])\n",
    "    plt.savefig(os.path.join(fig_dir, distance + '.png'))\n",
    "    plt.close()"
   ]
  },
  {
   "cell_type": "markdown",
   "metadata": {},
   "source": [
    "## Joint density vizualization"
   ]
  },
  {
   "cell_type": "code",
   "execution_count": null,
   "metadata": {},
   "outputs": [],
   "source": [
    "import glob\n",
    "\n",
    "directory = 'logs/model=30/2023.02.08.16.41.09'\n",
    "fig_dir = os.path.join(directory, 'figures')\n",
    "os.makedirs(fig_dir, exist_ok=True)\n",
    "\n",
    "X1, X2 = np.meshgrid(x_quadrature_grid, x_quadrature_grid)\n",
    "\n",
    "states = glob.glob(os.path.join(directory, 'quad_density/density_d=*'))\n",
    "states.sort()\n",
    "states = states[start:]\n",
    "\n",
    "for file in states:\n",
    "    \n",
    "    distance = file.split('=')[2].split('.npy')[0]\n",
    "    joint_density = np.load(file)\n",
    "\n",
    "    fig = plt.figure(figsize=(11, 8))\n",
    "    ax1 = fig.add_subplot(1, 1, 1, projection='3d')\n",
    "    ax1.plot_surface(X1, X2, joint_density, cmap=cm.coolwarm, lw=0.5, rstride=1, cstride=1)\n",
    "    ax1.set_axis_off()\n",
    "    ax1.set_title(\"Position quadratures joint density\")\n",
    "    plt.savefig(os.path.join(fig_dir, distance + '.png'))\n",
    "    plt.close()"
   ]
  }
 ],
 "metadata": {
  "kernelspec": {
   "display_name": ".env",
   "language": "python",
   "name": "python3"
  },
  "language_info": {
   "codemirror_mode": {
    "name": "ipython",
    "version": 3
   },
   "file_extension": ".py",
   "mimetype": "text/x-python",
   "name": "python",
   "nbconvert_exporter": "python",
   "pygments_lexer": "ipython3",
   "version": "3.8.10"
  },
  "vscode": {
   "interpreter": {
    "hash": "b795769ab38a7238d443f9adcb0e95eb86b5a13513126d83a1d22aa0a3cdd47a"
   }
  }
 },
 "nbformat": 4,
 "nbformat_minor": 4
}
