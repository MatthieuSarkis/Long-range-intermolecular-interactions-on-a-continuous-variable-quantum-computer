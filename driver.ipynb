{
 "cells": [
  {
   "attachments": {},
   "cell_type": "markdown",
   "metadata": {},
   "source": [
    "# Continuous Variable VQE for long-range molecular interactions"
   ]
  },
  {
   "attachments": {},
   "cell_type": "markdown",
   "metadata": {},
   "source": [
    "In the following, we illustrate how our code can be used to study the system composed of a pair of QDO oscillators. We focus on a 1-dimensional model for efficiency, but the code generalized to the full-fledged 3d QDO model.\n",
    "\n",
    "We focus on the case of a diatomic system."
   ]
  },
  {
   "attachments": {},
   "cell_type": "markdown",
   "metadata": {},
   "source": [
    "## Imports"
   ]
  },
  {
   "cell_type": "code",
   "execution_count": 1,
   "metadata": {},
   "outputs": [
    {
     "name": "stderr",
     "output_type": "stream",
     "text": [
      "2023-02-16 16:49:42.628843: I tensorflow/core/platform/cpu_feature_guard.cc:193] This TensorFlow binary is optimized with oneAPI Deep Neural Network Library (oneDNN) to use the following CPU instructions in performance-critical operations:  AVX2 FMA\n",
      "To enable them in other operations, rebuild TensorFlow with the appropriate compiler flags.\n",
      "2023-02-16 16:49:42.884830: W tensorflow/compiler/xla/stream_executor/platform/default/dso_loader.cc:64] Could not load dynamic library 'libcudart.so.11.0'; dlerror: libcudart.so.11.0: cannot open shared object file: No such file or directory\n",
      "2023-02-16 16:49:42.884844: I tensorflow/compiler/xla/stream_executor/cuda/cudart_stub.cc:29] Ignore above cudart dlerror if you do not have a GPU set up on your machine.\n",
      "2023-02-16 16:49:43.761229: W tensorflow/compiler/xla/stream_executor/platform/default/dso_loader.cc:64] Could not load dynamic library 'libnvinfer.so.7'; dlerror: libnvinfer.so.7: cannot open shared object file: No such file or directory\n",
      "2023-02-16 16:49:43.761341: W tensorflow/compiler/xla/stream_executor/platform/default/dso_loader.cc:64] Could not load dynamic library 'libnvinfer_plugin.so.7'; dlerror: libnvinfer_plugin.so.7: cannot open shared object file: No such file or directory\n",
      "2023-02-16 16:49:43.761348: W tensorflow/compiler/tf2tensorrt/utils/py_utils.cc:38] TF-TRT Warning: Cannot dlopen some TensorRT libraries. If you would like to use Nvidia GPU with TensorRT, please make sure the missing libraries mentioned above are installed properly.\n"
     ]
    }
   ],
   "source": [
    "from datetime import datetime\n",
    "from dataclasses import dataclass\n",
    "import json\n",
    "import matplotlib.pyplot as plt\n",
    "%matplotlib inline\n",
    "from matplotlib import cm\n",
    "import numpy as np\n",
    "import os\n",
    "import strawberryfields as sf\n",
    "from strawberryfields.backends.tfbackend.states import FockStateTF\n",
    "import tensorflow as tf\n",
    "\n",
    "from src.energy_surface import EnergySurface"
   ]
  },
  {
   "cell_type": "code",
   "execution_count": 2,
   "metadata": {},
   "outputs": [],
   "source": [
    "class objectview(object):\n",
    "    def __init__(self, d):\n",
    "        self.__dict__ = d"
   ]
  },
  {
   "attachments": {},
   "cell_type": "markdown",
   "metadata": {},
   "source": [
    "Let us define the following `Atom` dataclass to store the QDO parameters later"
   ]
  },
  {
   "cell_type": "code",
   "execution_count": 3,
   "metadata": {},
   "outputs": [],
   "source": [
    "@dataclass\n",
    "class Atom:\n",
    "    m: float\n",
    "    omega: float\n",
    "    q: float"
   ]
  },
  {
   "attachments": {},
   "cell_type": "markdown",
   "metadata": {},
   "source": [
    "You can choose among the following list of atoms. Note that the 'Un' atom corresponds to a fictitious atom with unit parameters."
   ]
  },
  {
   "cell_type": "code",
   "execution_count": 4,
   "metadata": {},
   "outputs": [],
   "source": [
    "ATOMIC_PARAMETERS = {\n",
    "    'Un': {'omega': 1.0000, 'm': 1.0000, 'q': 1.0000},\n",
    "    'H':  {'omega': 0.4280, 'm': 0.8348, 'q': 0.8295},\n",
    "    'Ne': {'omega': 1.1933, 'm': 0.3675, 'q': 1.1820},\n",
    "    'Ar': {'omega': 0.6958, 'm': 0.3562, 'q': 1.3835},\n",
    "    'Kr': {'omega': 0.6122, 'm': 0.3401, 'q': 1.4635},\n",
    "    'Xe': {'omega': 0.5115, 'm': 0.3298, 'q': 1.5348},\n",
    "}"
   ]
  },
  {
   "attachments": {},
   "cell_type": "markdown",
   "metadata": {},
   "source": [
    "## Preliminaries: defining the inputs of the simulation"
   ]
  },
  {
   "attachments": {},
   "cell_type": "markdown",
   "metadata": {},
   "source": [
    "Let us first define the various parameters relevant for the definition and the training of the model"
   ]
  },
  {
   "cell_type": "code",
   "execution_count": 5,
   "metadata": {},
   "outputs": [],
   "source": [
    "args = {\n",
    "    'layers': 8,\n",
    "    'cutoff_dim': 5,\n",
    "    'atom_list': ['Un', 'Un'],\n",
    "    'active_sd': 0.0001,\n",
    "    'passive_sd': 0.1,\n",
    "    'learning_rate': 0.01,\n",
    "    'epsilon': 1e-3,\n",
    "    'patience': 30,\n",
    "    'seed': 42,\n",
    "    'save_dir': './logs/'\n",
    "}\n",
    "\n",
    "args['dimension'] = 1\n",
    "args['modes'] = len(args['atom_list']) * args['dimension']\n",
    "\n",
    "#distances = list(np.linspace(0.3, 3.5, 70))\n",
    "#thetas = list(np.linspace(0.0, np.pi / 2, 9))\n",
    "\n",
    "distances = list(np.linspace(0.3, 3.5, 3))\n",
    "thetas = list(np.linspace(np.pi / 4, np.pi / 2, 2))\n",
    "\n",
    "args['distance_list'] = distances\n",
    "args['theta_list'] = thetas\n",
    "\n",
    "args = objectview(args)"
   ]
  },
  {
   "attachments": {},
   "cell_type": "markdown",
   "metadata": {},
   "source": [
    "By default, Strawberry Fields sets $\\hbar=2$. Let us redefine it to fit atomic units conventions"
   ]
  },
  {
   "cell_type": "code",
   "execution_count": 6,
   "metadata": {},
   "outputs": [],
   "source": [
    "sf.hbar = 1.0"
   ]
  },
  {
   "attachments": {},
   "cell_type": "markdown",
   "metadata": {},
   "source": [
    "Let us also set the random seeds for reproducibility of the results"
   ]
  },
  {
   "cell_type": "code",
   "execution_count": 7,
   "metadata": {},
   "outputs": [],
   "source": [
    "tf.random.set_seed(args.seed)\n",
    "np.random.seed(args.seed)"
   ]
  },
  {
   "attachments": {},
   "cell_type": "markdown",
   "metadata": {},
   "source": [
    "Let us define a directory where to store the results of the simulation"
   ]
  },
  {
   "attachments": {},
   "cell_type": "markdown",
   "metadata": {},
   "source": [
    "Let us store the QDO's data into dataclass"
   ]
  },
  {
   "cell_type": "code",
   "execution_count": 8,
   "metadata": {},
   "outputs": [],
   "source": [
    "atoms = []\n",
    "\n",
    "for atom in args.atom_list:\n",
    "\n",
    "    atoms.append(Atom(\n",
    "        m=ATOMIC_PARAMETERS[atom]['m'],\n",
    "        omega=ATOMIC_PARAMETERS[atom]['omega'],\n",
    "        q=ATOMIC_PARAMETERS[atom]['q']\n",
    "    ))"
   ]
  },
  {
   "attachments": {},
   "cell_type": "markdown",
   "metadata": {},
   "source": [
    "We work with the quadratures of the electromagnetic field, which are real valued variables, hence need to be discretized"
   ]
  },
  {
   "cell_type": "code",
   "execution_count": 9,
   "metadata": {},
   "outputs": [],
   "source": [
    "x_quadrature_grid = np.linspace(-7.0, 7.0, 400)"
   ]
  },
  {
   "attachments": {},
   "cell_type": "markdown",
   "metadata": {},
   "source": [
    "## Training"
   ]
  },
  {
   "attachments": {},
   "cell_type": "markdown",
   "metadata": {},
   "source": [
    "We are finally ready to instanciate a `EnergySurface` object, whose ability is to run a VQE algorithm for each of the specified interatomic distances and angle/model, and store the results of the simulation in the directory defined previously."
   ]
  },
  {
   "cell_type": "code",
   "execution_count": 30,
   "metadata": {},
   "outputs": [
    {
     "name": "stderr",
     "output_type": "stream",
     "text": [
      "2023-02-16 14:04:33.229430: W tensorflow/compiler/xla/stream_executor/platform/default/dso_loader.cc:64] Could not load dynamic library 'libcuda.so.1'; dlerror: libcuda.so.1: cannot open shared object file: No such file or directory\n",
      "2023-02-16 14:04:33.229499: W tensorflow/compiler/xla/stream_executor/cuda/cuda_driver.cc:265] failed call to cuInit: UNKNOWN ERROR (303)\n",
      "2023-02-16 14:04:33.229536: I tensorflow/compiler/xla/stream_executor/cuda/cuda_diagnostics.cc:156] kernel driver does not appear to be running on this host (uni-OptiPlex-7480-AIO): /proc/driver/nvidia/version does not exist\n",
      "2023-02-16 14:04:33.230358: I tensorflow/core/platform/cpu_feature_guard.cc:193] This TensorFlow binary is optimized with oneAPI Deep Neural Network Library (oneDNN) to use the following CPU instructions in performance-critical operations:  AVX2 FMA\n",
      "To enable them in other operations, rebuild TensorFlow with the appropriate compiler flags.\n",
      "2023-02-16 14:04:33.234019: W tensorflow/compiler/xla/stream_executor/platform/default/dso_loader.cc:64] Could not load dynamic library 'libcuda.so.1'; dlerror: libcuda.so.1: cannot open shared object file: No such file or directory\n",
      "2023-02-16 14:04:33.234061: W tensorflow/compiler/xla/stream_executor/cuda/cuda_driver.cc:265] failed call to cuInit: UNKNOWN ERROR (303)\n",
      "2023-02-16 14:04:33.234121: I tensorflow/compiler/xla/stream_executor/cuda/cuda_diagnostics.cc:156] kernel driver does not appear to be running on this host (uni-OptiPlex-7480-AIO): /proc/driver/nvidia/version does not exist\n",
      "2023-02-16 14:04:33.234652: I tensorflow/core/platform/cpu_feature_guard.cc:193] This TensorFlow binary is optimized with oneAPI Deep Neural Network Library (oneDNN) to use the following CPU instructions in performance-critical operations:  AVX2 FMA\n",
      "To enable them in other operations, rebuild TensorFlow with the appropriate compiler flags.\n",
      "2023-02-16 14:04:33.236155: W tensorflow/compiler/xla/stream_executor/platform/default/dso_loader.cc:64] Could not load dynamic library 'libcuda.so.1'; dlerror: libcuda.so.1: cannot open shared object file: No such file or directory\n",
      "2023-02-16 14:04:33.236195: W tensorflow/compiler/xla/stream_executor/cuda/cuda_driver.cc:265] failed call to cuInit: UNKNOWN ERROR (303)\n",
      "2023-02-16 14:04:33.236216: I tensorflow/compiler/xla/stream_executor/cuda/cuda_diagnostics.cc:156] kernel driver does not appear to be running on this host (uni-OptiPlex-7480-AIO): /proc/driver/nvidia/version does not exist\n",
      "2023-02-16 14:04:33.236676: I tensorflow/core/platform/cpu_feature_guard.cc:193] This TensorFlow binary is optimized with oneAPI Deep Neural Network Library (oneDNN) to use the following CPU instructions in performance-critical operations:  AVX2 FMA\n",
      "To enable them in other operations, rebuild TensorFlow with the appropriate compiler flags.\n",
      "2023-02-16 14:04:33.240097: W tensorflow/compiler/xla/stream_executor/platform/default/dso_loader.cc:64] Could not load dynamic library 'libcuda.so.1'; dlerror: libcuda.so.1: cannot open shared object file: No such file or directory\n",
      "2023-02-16 14:04:33.240126: W tensorflow/compiler/xla/stream_executor/cuda/cuda_driver.cc:265] failed call to cuInit: UNKNOWN ERROR (303)\n",
      "2023-02-16 14:04:33.240144: I tensorflow/compiler/xla/stream_executor/cuda/cuda_diagnostics.cc:156] kernel driver does not appear to be running on this host (uni-OptiPlex-7480-AIO): /proc/driver/nvidia/version does not exist\n",
      "2023-02-16 14:04:33.240957: I tensorflow/core/platform/cpu_feature_guard.cc:193] This TensorFlow binary is optimized with oneAPI Deep Neural Network Library (oneDNN) to use the following CPU instructions in performance-critical operations:  AVX2 FMA\n",
      "To enable them in other operations, rebuild TensorFlow with the appropriate compiler flags.\n",
      "2023-02-16 14:04:33.245080: W tensorflow/compiler/xla/stream_executor/platform/default/dso_loader.cc:64] Could not load dynamic library 'libcuda.so.1'; dlerror: libcuda.so.1: cannot open shared object file: No such file or directory\n",
      "2023-02-16 14:04:33.245154: W tensorflow/compiler/xla/stream_executor/cuda/cuda_driver.cc:265] failed call to cuInit: UNKNOWN ERROR (303)\n",
      "2023-02-16 14:04:33.245184: I tensorflow/compiler/xla/stream_executor/cuda/cuda_diagnostics.cc:156] kernel driver does not appear to be running on this host (uni-OptiPlex-7480-AIO): /proc/driver/nvidia/version does not exist\n",
      "2023-02-16 14:04:33.246617: I tensorflow/core/platform/cpu_feature_guard.cc:193] This TensorFlow binary is optimized with oneAPI Deep Neural Network Library (oneDNN) to use the following CPU instructions in performance-critical operations:  AVX2 FMA\n",
      "To enable them in other operations, rebuild TensorFlow with the appropriate compiler flags.\n",
      "2023-02-16 14:04:33.252636: W tensorflow/compiler/xla/stream_executor/platform/default/dso_loader.cc:64] Could not load dynamic library 'libcuda.so.1'; dlerror: libcuda.so.1: cannot open shared object file: No such file or directory\n",
      "2023-02-16 14:04:33.252695: W tensorflow/compiler/xla/stream_executor/cuda/cuda_driver.cc:265] failed call to cuInit: UNKNOWN ERROR (303)\n",
      "2023-02-16 14:04:33.252725: I tensorflow/compiler/xla/stream_executor/cuda/cuda_diagnostics.cc:156] kernel driver does not appear to be running on this host (uni-OptiPlex-7480-AIO): /proc/driver/nvidia/version does not exist\n",
      "2023-02-16 14:04:33.253453: I tensorflow/core/platform/cpu_feature_guard.cc:193] This TensorFlow binary is optimized with oneAPI Deep Neural Network Library (oneDNN) to use the following CPU instructions in performance-critical operations:  AVX2 FMA\n",
      "To enable them in other operations, rebuild TensorFlow with the appropriate compiler flags.\n"
     ]
    },
    {
     "name": "stdout",
     "output_type": "stream",
     "text": [
      "Epoch 009 | Loss 0.989168 | Patience_cpt 0 | diff 0.001212 | Angle 0.7853981633974483 | Distance 1.9000000000000001\n",
      "Epoch 009 | Loss 1.010021 | Patience_cpt 0 | diff 0.001976 | Angle 1.5707963267948966 | Distance 1.9000000000000001\n",
      "Epoch 009 | Loss 1.002704 | Patience_cpt 0 | diff 0.001788 | Angle 1.5707963267948966 | Distance 3.5\n",
      "Epoch 009 | Loss 1.482006 | Patience_cpt 0 | diff 0.006189 | Angle 0.7853981633974483 | Distance 0.3\n",
      "Epoch 009 | Loss 1.000141 | Patience_cpt 0 | diff 0.001117 | Angle 0.7853981633974483 | Distance 3.5\n",
      "Epoch 009 | Loss 2.001302 | Patience_cpt 0 | diff 0.003475 | Angle 1.5707963267948966 | Distance 0.3\n",
      "logm result may be inaccurate, approximate err = 1.2084932240711236e-07\n"
     ]
    },
    {
     "name": "stderr",
     "output_type": "stream",
     "text": [
      "/home/sarkis/git_repositories/qdo/src/energy_surface.py:213: ComplexWarning: Casting complex values to real discards the imaginary part\n"
     ]
    },
    {
     "name": "stdout",
     "output_type": "stream",
     "text": [
      "logm result may be inaccurate, approximate err = 3.6242198064905804e-08\n"
     ]
    },
    {
     "name": "stderr",
     "output_type": "stream",
     "text": [
      "/home/sarkis/git_repositories/qdo/src/energy_surface.py:213: ComplexWarning: Casting complex values to real discards the imaginary part\n"
     ]
    },
    {
     "name": "stdout",
     "output_type": "stream",
     "text": [
      "logm result may be inaccurate, approximate err = 1.0407763279002586e-07\n"
     ]
    },
    {
     "name": "stderr",
     "output_type": "stream",
     "text": [
      "/home/sarkis/git_repositories/qdo/src/energy_surface.py:213: ComplexWarning: Casting complex values to real discards the imaginary part\n"
     ]
    },
    {
     "name": "stdout",
     "output_type": "stream",
     "text": [
      "logm result may be inaccurate, approximate err = 8.090935118509606e-08\n"
     ]
    },
    {
     "name": "stderr",
     "output_type": "stream",
     "text": [
      "/home/sarkis/git_repositories/qdo/src/energy_surface.py:213: ComplexWarning: Casting complex values to real discards the imaginary part\n"
     ]
    },
    {
     "name": "stdout",
     "output_type": "stream",
     "text": [
      "logm result may be inaccurate, approximate err = 1.1821170648520032e-07\n"
     ]
    },
    {
     "name": "stderr",
     "output_type": "stream",
     "text": [
      "/home/sarkis/git_repositories/qdo/src/energy_surface.py:213: ComplexWarning: Casting complex values to real discards the imaginary part\n"
     ]
    },
    {
     "name": "stdout",
     "output_type": "stream",
     "text": [
      "logm result may be inaccurate, approximate err = 1.1740730169503153e-07\n"
     ]
    },
    {
     "name": "stderr",
     "output_type": "stream",
     "text": [
      "/home/sarkis/git_repositories/qdo/src/energy_surface.py:213: ComplexWarning: Casting complex values to real discards the imaginary part\n"
     ]
    }
   ],
   "source": [
    "save_dir = os.path.join(\n",
    "    args.save_dir,\n",
    "    datetime.now().strftime(\"%Y.%m.%d.%H.%M.%S\")\n",
    ")\n",
    "\n",
    "os.makedirs(save_dir, exist_ok=True)\n",
    "\n",
    "# Save the parameters of the run to the log directory\n",
    "with open(os.path.join(save_dir, 'args.json'), 'w') as f:\n",
    "    json.dump(vars(args), f, indent=4)\n",
    "\n",
    "energy_surface = EnergySurface(\n",
    "    layers=args.layers,\n",
    "    distance_list=distances,\n",
    "    theta_list=thetas,\n",
    "    x_quadrature_grid=x_quadrature_grid,\n",
    "    atoms=atoms,\n",
    "    active_sd=args.active_sd,\n",
    "    passive_sd=args.passive_sd,\n",
    "    cutoff_dim=args.cutoff_dim,\n",
    "    learning_rate=args.learning_rate,\n",
    "    save_dir=save_dir,\n",
    "    verbose=True\n",
    ")\n",
    "\n",
    "res = energy_surface.construct_energy_surface_parallelized(\n",
    "    epsilon=args.epsilon,\n",
    "    patience=args.patience\n",
    ")"
   ]
  },
  {
   "cell_type": "code",
   "execution_count": 31,
   "metadata": {},
   "outputs": [],
   "source": [
    "res = np.load('logs/2023.02.16.14.04.33/results.npy')"
   ]
  },
  {
   "cell_type": "code",
   "execution_count": 32,
   "metadata": {},
   "outputs": [
    {
     "data": {
      "text/plain": [
       "(2, 3, 6, 6)"
      ]
     },
     "execution_count": 32,
     "metadata": {},
     "output_type": "execute_result"
    }
   ],
   "source": [
    "res.shape"
   ]
  },
  {
   "attachments": {},
   "cell_type": "markdown",
   "metadata": {},
   "source": [
    "## Plotting the binding curve"
   ]
  },
  {
   "cell_type": "code",
   "execution_count": 10,
   "metadata": {},
   "outputs": [],
   "source": [
    "distance_array = np.load('logs/2023.02.16.10.49.17/theta=0.5890/energy_surface/distance_list.npy')\n",
    "binding_energy_array = np.load('logs/2023.02.16.10.49.17/theta=0.5890/energy_surface/energy_surface.npy')\n",
    "start=0"
   ]
  },
  {
   "cell_type": "code",
   "execution_count": 11,
   "metadata": {},
   "outputs": [],
   "source": [
    "distance_array[start:].astype('float32').tofile('./mathematica/x4.dat')\n",
    "binding_energy_array[start:].astype('float32').tofile('./mathematica/y4.dat')"
   ]
  },
  {
   "cell_type": "code",
   "execution_count": 12,
   "metadata": {},
   "outputs": [
    {
     "data": {
      "image/png": "[encoded data removed]",
      "text/plain": [
       "<Figure size 640x480 with 1 Axes>"
      ]
     },
     "metadata": {},
     "output_type": "display_data"
    }
   ],
   "source": [
    "fig, axes = plt.subplots(nrows=1, ncols=1)\n",
    "#axes.scatter(distance_array[4:], binding_energy_array[4:], s=10)\n",
    "axes.plot(distance_array[start:], binding_energy_array[start:])\n",
    "axes.set_xlabel('Interatomic distance')\n",
    "axes.set_ylabel('Binding energy')\n",
    "axes.grid(True)\n",
    "axes.set_title('Potential energy surface')\n",
    "plt.show()\n",
    "#plt.savefig(save_path, dpi=300, transparent=False, bbox_inches='tight')"
   ]
  },
  {
   "attachments": {},
   "cell_type": "markdown",
   "metadata": {},
   "source": [
    "## Wigner functions vizualization"
   ]
  },
  {
   "cell_type": "code",
   "execution_count": 24,
   "metadata": {},
   "outputs": [
    {
     "name": "stderr",
     "output_type": "stream",
     "text": [
      "2023-02-16 16:47:11.067469: W tensorflow/compiler/xla/stream_executor/platform/default/dso_loader.cc:64] Could not load dynamic library 'libcuda.so.1'; dlerror: libcuda.so.1: cannot open shared object file: No such file or directory\n",
      "2023-02-16 16:47:11.067486: W tensorflow/compiler/xla/stream_executor/cuda/cuda_driver.cc:265] failed call to cuInit: UNKNOWN ERROR (303)\n",
      "2023-02-16 16:47:11.067513: I tensorflow/compiler/xla/stream_executor/cuda/cuda_diagnostics.cc:156] kernel driver does not appear to be running on this host (uni-OptiPlex-7480-AIO): /proc/driver/nvidia/version does not exist\n",
      "2023-02-16 16:47:11.068559: I tensorflow/core/platform/cpu_feature_guard.cc:193] This TensorFlow binary is optimized with oneAPI Deep Neural Network Library (oneDNN) to use the following CPU instructions in performance-critical operations:  AVX2 FMA\n",
      "To enable them in other operations, rebuild TensorFlow with the appropriate compiler flags.\n"
     ]
    }
   ],
   "source": [
    "import glob\n",
    "\n",
    "directory = 'logs/2023.02.16.10.49.17/theta=0.5890'\n",
    "fig_dir = os.path.join(directory, 'figures')\n",
    "os.makedirs(fig_dir, exist_ok=True)\n",
    "\n",
    "X, P = np.meshgrid(x_quadrature_grid, x_quadrature_grid)\n",
    "\n",
    "states = glob.glob(os.path.join(directory, 'states', 'distance=*'))\n",
    "states.sort()\n",
    "states = states[0:]\n",
    "\n",
    "for file in states:\n",
    "    \n",
    "    distance = file.split('=')[2].split('.npy')[0]\n",
    "    state_data = np.load(file)\n",
    "    state = FockStateTF(state_data=state_data, num_modes=args.modes, pure=True, cutoff_dim=args.cutoff_dim)\n",
    "\n",
    "    w_qdo1 = state.wigner(mode=0, xvec=x_quadrature_grid, pvec=x_quadrature_grid)\n",
    "    w_qdo2 = state.wigner(mode=1, xvec=x_quadrature_grid, pvec=x_quadrature_grid)\n",
    "\n",
    "    fig = plt.figure(figsize=(11, 8))\n",
    "    ax1 = fig.add_subplot(1, 2, 1, projection='3d')\n",
    "    ax1.plot_surface(X, P, w_qdo1, cmap=cm.coolwarm, lw=0.5, rstride=1, cstride=1)\n",
    "    ax1.set_axis_off()\n",
    "    ax1.set_title(\"QDO 1\")\n",
    "    ax2 = fig.add_subplot(1, 2, 2, projection='3d')\n",
    "    ax2.plot_surface(X, P, w_qdo1, cmap=cm.coolwarm, lw=0.5, rstride=1, cstride=1)\n",
    "    ax2.set_axis_off()\n",
    "    ax2.set_title(\"QDO 2\")\n",
    "    plt.savefig(os.path.join(fig_dir, distance + '.png'))\n",
    "    plt.close()"
   ]
  },
  {
   "attachments": {},
   "cell_type": "markdown",
   "metadata": {},
   "source": [
    "## Marginal densities vizualization"
   ]
  },
  {
   "cell_type": "code",
   "execution_count": 14,
   "metadata": {},
   "outputs": [
    {
     "name": "stderr",
     "output_type": "stream",
     "text": [
      "2023-02-16 16:51:06.199647: W tensorflow/compiler/xla/stream_executor/platform/default/dso_loader.cc:64] Could not load dynamic library 'libcuda.so.1'; dlerror: libcuda.so.1: cannot open shared object file: No such file or directory\n",
      "2023-02-16 16:51:06.199944: W tensorflow/compiler/xla/stream_executor/cuda/cuda_driver.cc:265] failed call to cuInit: UNKNOWN ERROR (303)\n",
      "2023-02-16 16:51:06.199976: I tensorflow/compiler/xla/stream_executor/cuda/cuda_diagnostics.cc:156] kernel driver does not appear to be running on this host (uni-OptiPlex-7480-AIO): /proc/driver/nvidia/version does not exist\n",
      "2023-02-16 16:51:06.200789: I tensorflow/core/platform/cpu_feature_guard.cc:193] This TensorFlow binary is optimized with oneAPI Deep Neural Network Library (oneDNN) to use the following CPU instructions in performance-critical operations:  AVX2 FMA\n",
      "To enable them in other operations, rebuild TensorFlow with the appropriate compiler flags.\n"
     ]
    }
   ],
   "source": [
    "import glob\n",
    "\n",
    "directory = 'logs/2023.02.16.10.49.17/theta=0.5890'\n",
    "fig_dir = os.path.join(directory, 'figures')\n",
    "os.makedirs(fig_dir, exist_ok=True)\n",
    "\n",
    "states = glob.glob(os.path.join(directory, 'quad_marginals/distance=*'))\n",
    "states.sort()\n",
    "states = states[start:]\n",
    "\n",
    "for file in states:\n",
    "    \n",
    "    distance = file.split('=')[2].split('.npy')[0]\n",
    "    data = np.load(file)\n",
    "    state = FockStateTF(state_data=data, num_modes=args.modes, pure=True, cutoff_dim=args.cutoff_dim)\n",
    "\n",
    "    rho1 = data[0]\n",
    "    rho2 = data[1]\n",
    "\n",
    "    fig = plt.figure(figsize=(11, 8))\n",
    "    ax = fig.add_subplot(1, 1, 1)\n",
    "    ax.plot(x_quadrature_grid, rho1)\n",
    "    ax.plot(x_quadrature_grid, rho2)\n",
    "    ax.set_xlabel('Position relative to QDO center')\n",
    "    ax.set_title(\"Marginal position quadrature densities\")\n",
    "    plt.yticks([])\n",
    "    plt.savefig(os.path.join(fig_dir, distance + '.png'))\n",
    "    plt.close()"
   ]
  },
  {
   "attachments": {},
   "cell_type": "markdown",
   "metadata": {},
   "source": [
    "## Joint density vizualization"
   ]
  },
  {
   "cell_type": "code",
   "execution_count": null,
   "metadata": {},
   "outputs": [],
   "source": [
    "import glob\n",
    "\n",
    "directory = 'logs/model=30/2023.02.08.16.41.09'\n",
    "fig_dir = os.path.join(directory, 'figures')\n",
    "os.makedirs(fig_dir, exist_ok=True)\n",
    "\n",
    "X1, X2 = np.meshgrid(x_quadrature_grid, x_quadrature_grid)\n",
    "\n",
    "states = glob.glob(os.path.join(directory, 'quad_density/density_d=*'))\n",
    "states.sort()\n",
    "states = states[start:]\n",
    "\n",
    "for file in states:\n",
    "    \n",
    "    distance = file.split('=')[2].split('.npy')[0]\n",
    "    joint_density = np.load(file)\n",
    "\n",
    "    fig = plt.figure(figsize=(11, 8))\n",
    "    ax1 = fig.add_subplot(1, 1, 1, projection='3d')\n",
    "    ax1.plot_surface(X1, X2, joint_density, cmap=cm.coolwarm, lw=0.5, rstride=1, cstride=1)\n",
    "    ax1.set_axis_off()\n",
    "    ax1.set_title(\"Position quadratures joint density\")\n",
    "    plt.savefig(os.path.join(fig_dir, distance + '.png'))\n",
    "    plt.close()"
   ]
  }
 ],
 "metadata": {
  "kernelspec": {
   "display_name": ".env",
   "language": "python",
   "name": "python3"
  },
  "language_info": {
   "codemirror_mode": {
    "name": "ipython",
    "version": 3
   },
   "file_extension": ".py",
   "mimetype": "text/x-python",
   "name": "python",
   "nbconvert_exporter": "python",
   "pygments_lexer": "ipython3",
   "version": "3.8.10"
  },
  "orig_nbformat": 4,
  "vscode": {
   "interpreter": {
    "hash": "b795769ab38a7238d443f9adcb0e95eb86b5a13513126d83a1d22aa0a3cdd47a"
   }
  }
 },
 "nbformat": 4,
 "nbformat_minor": 2
}
