{
 "cells": [
  {
   "attachments": {},
   "cell_type": "markdown",
   "metadata": {},
   "source": [
    "# Continuous Variable VQE for long-range molecular interactions"
   ]
  },
  {
   "attachments": {},
   "cell_type": "markdown",
   "metadata": {},
   "source": [
    "In the following, we illustrate how our code can be used to study the system composed of a pair of QDO oscillators. We focus on a 1-dimensional model for efficiency, but the code generalized to the full-fledged 3d QDO model.\n",
    "\n",
    "We focus on the case of a diatomic system."
   ]
  },
  {
   "attachments": {},
   "cell_type": "markdown",
   "metadata": {},
   "source": [
    "## Imports"
   ]
  },
  {
   "cell_type": "code",
   "execution_count": 1,
   "metadata": {},
   "outputs": [],
   "source": [
    "from argparse import ArgumentParser\n",
    "from datetime import datetime\n",
    "from dataclasses import dataclass\n",
    "import json\n",
    "import matplotlib.pyplot as plt\n",
    "%matplotlib inline\n",
    "#plt.style.use('./src/plots.mplstyle')\n",
    "from matplotlib import cm\n",
    "import numpy as np\n",
    "import os\n",
    "import strawberryfields as sf\n",
    "from strawberryfields.backends.tfbackend.states import FockStateTF\n",
    "import tensorflow as tf\n",
    "\n",
    "from src.energy_surface import EnergySurface\n",
    "from src.utils import Atom\n",
    "from src.constants import *"
   ]
  },
  {
   "cell_type": "code",
   "execution_count": 2,
   "metadata": {},
   "outputs": [],
   "source": [
    "class objectview(object):\n",
    "    def __init__(self, d):\n",
    "        self.__dict__ = d"
   ]
  },
  {
   "attachments": {},
   "cell_type": "markdown",
   "metadata": {},
   "source": [
    "Let us define the following `Atom` dataclass to store the QDO parameters later"
   ]
  },
  {
   "cell_type": "code",
   "execution_count": 3,
   "metadata": {},
   "outputs": [],
   "source": [
    "@dataclass\n",
    "class Atom:\n",
    "    m: float\n",
    "    omega: float\n",
    "    q: float"
   ]
  },
  {
   "attachments": {},
   "cell_type": "markdown",
   "metadata": {},
   "source": [
    "You can choose among the following list of atoms. Note that the 'Un' atom corresponds to a fictitious atom with unit parameters."
   ]
  },
  {
   "cell_type": "code",
   "execution_count": 4,
   "metadata": {},
   "outputs": [],
   "source": [
    "ATOMIC_PARAMETERS = {\n",
    "    'Un': {'omega': 1.0000, 'm': 1.0000, 'q': 1.0000},\n",
    "    'H':  {'omega': 0.4280, 'm': 0.8348, 'q': 0.8295},\n",
    "    'Ne': {'omega': 1.1933, 'm': 0.3675, 'q': 1.1820},\n",
    "    'Ar': {'omega': 0.6958, 'm': 0.3562, 'q': 1.3835},\n",
    "    'Kr': {'omega': 0.6122, 'm': 0.3401, 'q': 1.4635},\n",
    "    'Xe': {'omega': 0.5115, 'm': 0.3298, 'q': 1.5348},\n",
    "}"
   ]
  },
  {
   "attachments": {},
   "cell_type": "markdown",
   "metadata": {},
   "source": [
    "## Preliminaries: defining the inputs of the simulation"
   ]
  },
  {
   "attachments": {},
   "cell_type": "markdown",
   "metadata": {},
   "source": [
    "Let us first define the various parameters relevant for the definition and the training of the model"
   ]
  },
  {
   "cell_type": "code",
   "execution_count": 5,
   "metadata": {},
   "outputs": [],
   "source": [
    "args = {\n",
    "    'layers': 8,\n",
    "    'cutoff_dim': 5,\n",
    "    'model': '34',\n",
    "    'atom_list': ['Un', 'Un'],\n",
    "    'active_sd': 0.0001,\n",
    "    'passive_sd': 0.1,\n",
    "    'learning_rate': 0.01,\n",
    "    'epsilon': 1e-3,\n",
    "    'patience': 30,\n",
    "    'seed': 42,\n",
    "    'save_dir': './logs/'\n",
    "}\n",
    "\n",
    "args['dimension'] = 3 if args['model'][1]=='3' else 1\n",
    "args['modes'] = len(args['atom_list']) * args['dimension']\n",
    "\n",
    "args = objectview(args)"
   ]
  },
  {
   "attachments": {},
   "cell_type": "markdown",
   "metadata": {},
   "source": [
    "By default, Strawberry Fields sets $\\hbar=2$. Let us redefine it to fit atomic units conventions"
   ]
  },
  {
   "cell_type": "code",
   "execution_count": 6,
   "metadata": {},
   "outputs": [],
   "source": [
    "sf.hbar = 1.0"
   ]
  },
  {
   "attachments": {},
   "cell_type": "markdown",
   "metadata": {},
   "source": [
    "Let us also set the random seeds for reproducibility of the results"
   ]
  },
  {
   "cell_type": "code",
   "execution_count": 7,
   "metadata": {},
   "outputs": [],
   "source": [
    "tf.random.set_seed(args.seed)\n",
    "np.random.seed(args.seed)"
   ]
  },
  {
   "attachments": {},
   "cell_type": "markdown",
   "metadata": {},
   "source": [
    "Let us define a directory where to store the results of the simulation"
   ]
  },
  {
   "attachments": {},
   "cell_type": "markdown",
   "metadata": {},
   "source": [
    "Let us store the QDO's data into dataclass"
   ]
  },
  {
   "cell_type": "code",
   "execution_count": 8,
   "metadata": {},
   "outputs": [],
   "source": [
    "atoms = []\n",
    "\n",
    "for atom in args.atom_list:\n",
    "\n",
    "    atoms.append(Atom(\n",
    "        m=ATOMIC_PARAMETERS[atom]['m'],\n",
    "        omega=ATOMIC_PARAMETERS[atom]['omega'],\n",
    "        q=ATOMIC_PARAMETERS[atom]['q']\n",
    "    ))"
   ]
  },
  {
   "attachments": {},
   "cell_type": "markdown",
   "metadata": {},
   "source": [
    "We work with the quadratures of the electromagnetic field, which are real valued variables, hence need to be discretized"
   ]
  },
  {
   "cell_type": "code",
   "execution_count": 9,
   "metadata": {},
   "outputs": [],
   "source": [
    "x_quadrature_grid = np.linspace(-7.0, 7.0, 200)"
   ]
  },
  {
   "attachments": {},
   "cell_type": "markdown",
   "metadata": {},
   "source": [
    "Let us finally specify a list of interatomic distances, used to define the binding energy curve of the system of two QDOs"
   ]
  },
  {
   "cell_type": "code",
   "execution_count": 10,
   "metadata": {},
   "outputs": [],
   "source": [
    "#distances = list(np.linspace(0.1, 3.5, 70))\n",
    "distances = list(np.linspace(0.3, 3.5, 70))"
   ]
  },
  {
   "attachments": {},
   "cell_type": "markdown",
   "metadata": {},
   "source": [
    "## Training"
   ]
  },
  {
   "attachments": {},
   "cell_type": "markdown",
   "metadata": {},
   "source": [
    "We are finally ready to instanciate a `EnergySurface` object, whose ability is to run a VQE algorithm for each of the specified interatomic distances, and store the results in the simulation in the directory defined previously."
   ]
  },
  {
   "cell_type": "code",
   "execution_count": 11,
   "metadata": {},
   "outputs": [],
   "source": [
    "save_dir = os.path.join(\n",
    "    args.save_dir,\n",
    "    'model={}'.format(args.model),\n",
    "    datetime.now().strftime(\"%Y.%m.%d.%H.%M.%S\")\n",
    ")\n",
    "\n",
    "energy_surface = EnergySurface(\n",
    "    layers=args.layers,\n",
    "    distance_list=distances,\n",
    "    model=args.model,\n",
    "    x_quadrature_grid=x_quadrature_grid,\n",
    "    atoms=atoms,\n",
    "    active_sd=args.active_sd,\n",
    "    passive_sd=args.passive_sd,\n",
    "    cutoff_dim=args.cutoff_dim,\n",
    "    learning_rate=args.learning_rate,\n",
    "    save_dir=save_dir,\n",
    "    verbose=True\n",
    ")"
   ]
  },
  {
   "cell_type": "code",
   "execution_count": 12,
   "metadata": {},
   "outputs": [
    {
     "name": "stdout",
     "output_type": "stream",
     "text": [
      "Distance 1/70\n",
      "Epoch 009 | Loss 1.482006\n",
      "Epoch 019 | Loss 1.442548\n",
      "Epoch 029 | Loss 1.433358\n",
      "Epoch 039 | Loss 1.424720\n",
      "Epoch 049 | Loss 1.417898\n",
      "Epoch 059 | Loss 1.414850\n",
      "Epoch 069 | Loss 1.412125\n",
      "Distance 2/70\n",
      "Epoch 009 | Loss 1.302442\n",
      "Epoch 019 | Loss 1.250287\n",
      "Epoch 029 | Loss 1.239447\n",
      "Epoch 039 | Loss 1.236569\n",
      "Epoch 049 | Loss 1.234489\n",
      "Distance 3/70\n",
      "Epoch 009 | Loss 1.159846\n",
      "Epoch 019 | Loss 1.126807\n",
      "Epoch 029 | Loss 1.115327\n",
      "Epoch 039 | Loss 1.109194\n",
      "Epoch 049 | Loss 1.104811\n",
      "Epoch 059 | Loss 1.101535\n",
      "Epoch 069 | Loss 1.098648\n",
      "Distance 4/70\n",
      "Epoch 009 | Loss 1.070051\n",
      "Epoch 019 | Loss 1.041673\n",
      "Epoch 029 | Loss 1.031982\n",
      "Epoch 039 | Loss 1.028390\n",
      "Epoch 049 | Loss 1.025467\n",
      "Distance 5/70\n",
      "Epoch 009 | Loss 1.015908\n",
      "Epoch 019 | Loss 0.991785\n",
      "Epoch 029 | Loss 0.981701\n",
      "Epoch 039 | Loss 0.976636\n",
      "Epoch 049 | Loss 0.970328\n",
      "Epoch 059 | Loss 0.966540\n",
      "Distance 6/70\n",
      "Epoch 009 | Loss 0.974106\n",
      "Epoch 019 | Loss 0.954384\n",
      "Epoch 029 | Loss 0.947862\n",
      "Epoch 039 | Loss 0.945220\n",
      "Epoch 049 | Loss 0.943822\n",
      "Epoch 059 | Loss 0.942536\n",
      "Distance 7/70\n",
      "Epoch 009 | Loss 0.946332\n",
      "Epoch 019 | Loss 0.923010\n",
      "Epoch 029 | Loss 0.915777\n",
      "Epoch 039 | Loss 0.912242\n",
      "Epoch 049 | Loss 0.909623\n",
      "Distance 8/70\n",
      "Epoch 009 | Loss 0.929943\n",
      "Epoch 019 | Loss 0.917201\n",
      "Epoch 029 | Loss 0.911560\n",
      "Epoch 039 | Loss 0.909206\n",
      "Epoch 049 | Loss 0.907623\n",
      "Distance 9/70\n",
      "Epoch 009 | Loss 0.920914\n",
      "Epoch 019 | Loss 0.907414\n",
      "Epoch 029 | Loss 0.901465\n",
      "Epoch 039 | Loss 0.898793\n",
      "Epoch 049 | Loss 0.897495\n",
      "Distance 10/70\n",
      "Epoch 009 | Loss 0.918072\n",
      "Epoch 019 | Loss 0.905351\n",
      "Epoch 029 | Loss 0.898764\n",
      "Epoch 039 | Loss 0.895474\n",
      "Epoch 049 | Loss 0.892818\n",
      "Distance 11/70\n",
      "Epoch 009 | Loss 0.912266\n",
      "Epoch 019 | Loss 0.904142\n",
      "Epoch 029 | Loss 0.900386\n",
      "Epoch 039 | Loss 0.898235\n",
      "Epoch 049 | Loss 0.897325\n",
      "Distance 12/70\n",
      "Epoch 009 | Loss 0.917806\n",
      "Epoch 019 | Loss 0.910392\n",
      "Epoch 029 | Loss 0.908460\n",
      "Epoch 039 | Loss 0.906586\n",
      "Distance 13/70\n",
      "Epoch 009 | Loss 0.920530\n",
      "Epoch 019 | Loss 0.912917\n",
      "Epoch 029 | Loss 0.908739\n",
      "Epoch 039 | Loss 0.907734\n",
      "Epoch 049 | Loss 0.907092\n",
      "Distance 14/70\n",
      "Epoch 009 | Loss 0.920466\n",
      "Epoch 019 | Loss 0.918713\n",
      "Epoch 029 | Loss 0.917719\n",
      "Epoch 039 | Loss 0.916346\n",
      "Distance 15/70\n",
      "Epoch 009 | Loss 0.925932\n",
      "Epoch 019 | Loss 0.923028\n",
      "Epoch 029 | Loss 0.922564\n",
      "Epoch 039 | Loss 0.922166\n",
      "Distance 16/70\n",
      "Epoch 009 | Loss 0.930400\n",
      "Epoch 019 | Loss 0.929689\n",
      "Epoch 029 | Loss 0.927233\n",
      "Epoch 039 | Loss 0.926860\n",
      "Distance 17/70\n",
      "Epoch 009 | Loss 0.936616\n",
      "Epoch 019 | Loss 0.934682\n",
      "Epoch 029 | Loss 0.933475\n",
      "Distance 18/70\n",
      "Epoch 009 | Loss 0.941570\n",
      "Epoch 019 | Loss 0.939165\n",
      "Epoch 029 | Loss 0.938887\n",
      "Epoch 039 | Loss 0.938153\n",
      "Distance 19/70\n",
      "Epoch 009 | Loss 0.947921\n",
      "Epoch 019 | Loss 0.943969\n",
      "Epoch 029 | Loss 0.943649\n",
      "Epoch 039 | Loss 0.942963\n",
      "Distance 20/70\n",
      "Epoch 009 | Loss 0.952717\n",
      "Epoch 019 | Loss 0.949182\n",
      "Epoch 029 | Loss 0.948744\n",
      "Epoch 039 | Loss 0.948169\n",
      "Distance 21/70\n",
      "Epoch 009 | Loss 0.955347\n",
      "Epoch 019 | Loss 0.952818\n",
      "Epoch 029 | Loss 0.952377\n",
      "Epoch 039 | Loss 0.952019\n",
      "Distance 22/70\n",
      "Epoch 009 | Loss 0.958501\n",
      "Epoch 019 | Loss 0.957225\n",
      "Epoch 029 | Loss 0.956560\n",
      "Distance 23/70\n",
      "Epoch 009 | Loss 0.961915\n",
      "Epoch 019 | Loss 0.961065\n",
      "Epoch 029 | Loss 0.960481\n",
      "Epoch 039 | Loss 0.960228\n",
      "Distance 24/70\n",
      "Epoch 009 | Loss 0.965233\n",
      "Epoch 019 | Loss 0.964083\n",
      "Epoch 029 | Loss 0.963818\n",
      "Distance 25/70\n",
      "Epoch 009 | Loss 0.968791\n",
      "Epoch 019 | Loss 0.966994\n",
      "Epoch 029 | Loss 0.966722\n",
      "Epoch 039 | Loss 0.966610\n",
      "Distance 26/70\n",
      "Epoch 009 | Loss 0.970279\n",
      "Epoch 019 | Loss 0.969798\n",
      "Epoch 029 | Loss 0.969527\n",
      "Distance 27/70\n",
      "Epoch 009 | Loss 0.974027\n",
      "Epoch 019 | Loss 0.972706\n",
      "Epoch 029 | Loss 0.972260\n",
      "Epoch 039 | Loss 0.972033\n",
      "Distance 28/70\n",
      "Epoch 009 | Loss 0.975919\n",
      "Epoch 019 | Loss 0.974710\n",
      "Epoch 029 | Loss 0.974510\n",
      "Distance 29/70\n",
      "Epoch 009 | Loss 0.978163\n",
      "Epoch 019 | Loss 0.976998\n",
      "Epoch 029 | Loss 0.976652\n",
      "Epoch 039 | Loss 0.976577\n",
      "Distance 30/70\n",
      "Epoch 009 | Loss 0.979557\n",
      "Epoch 019 | Loss 0.978675\n",
      "Epoch 029 | Loss 0.978573\n",
      "Distance 31/70\n",
      "Epoch 009 | Loss 0.982313\n",
      "Epoch 019 | Loss 0.980684\n",
      "Epoch 029 | Loss 0.980434\n",
      "Epoch 039 | Loss 0.980241\n",
      "Distance 32/70\n",
      "Epoch 009 | Loss 0.983794\n",
      "Epoch 019 | Loss 0.982502\n",
      "Epoch 029 | Loss 0.982155\n",
      "Epoch 039 | Loss 0.981887\n",
      "Distance 33/70\n",
      "Epoch 009 | Loss 0.986305\n",
      "Epoch 019 | Loss 0.984090\n",
      "Epoch 029 | Loss 0.983430\n",
      "Epoch 039 | Loss 0.983382\n",
      "Distance 34/70\n",
      "Epoch 009 | Loss 0.986130\n",
      "Epoch 019 | Loss 0.984880\n",
      "Epoch 029 | Loss 0.984766\n",
      "Distance 35/70\n",
      "Epoch 009 | Loss 0.986958\n",
      "Epoch 019 | Loss 0.986503\n",
      "Epoch 029 | Loss 0.986043\n",
      "Distance 36/70\n",
      "Epoch 009 | Loss 0.989767\n",
      "Epoch 019 | Loss 0.987795\n",
      "Epoch 029 | Loss 0.987183\n",
      "Epoch 039 | Loss 0.987066\n",
      "Distance 37/70\n",
      "Epoch 009 | Loss 0.990356\n",
      "Epoch 019 | Loss 0.988807\n",
      "Epoch 029 | Loss 0.988176\n",
      "Epoch 039 | Loss 0.988128\n",
      "Distance 38/70\n",
      "Epoch 009 | Loss 0.991200\n",
      "Epoch 019 | Loss 0.989317\n",
      "Epoch 029 | Loss 0.989337\n",
      "Epoch 039 | Loss 0.989046\n",
      "Distance 39/70\n",
      "Epoch 009 | Loss 0.992036\n",
      "Epoch 019 | Loss 0.990523\n",
      "Epoch 029 | Loss 0.990008\n",
      "Epoch 039 | Loss 0.989902\n",
      "Distance 40/70\n",
      "Epoch 009 | Loss 0.992737\n",
      "Epoch 019 | Loss 0.991267\n",
      "Epoch 029 | Loss 0.990883\n",
      "Epoch 039 | Loss 0.990685\n",
      "Distance 41/70\n",
      "Epoch 009 | Loss 0.993146\n",
      "Epoch 019 | Loss 0.992074\n",
      "Epoch 029 | Loss 0.991570\n",
      "Epoch 039 | Loss 0.991394\n",
      "Distance 42/70\n",
      "Epoch 009 | Loss 0.993963\n",
      "Epoch 019 | Loss 0.992853\n",
      "Epoch 029 | Loss 0.992154\n",
      "Epoch 039 | Loss 0.992045\n",
      "Distance 43/70\n",
      "Epoch 009 | Loss 0.994881\n",
      "Epoch 019 | Loss 0.993051\n",
      "Epoch 029 | Loss 0.992903\n",
      "Epoch 039 | Loss 0.992709\n",
      "Distance 44/70\n",
      "Epoch 009 | Loss 0.994756\n",
      "Epoch 019 | Loss 0.994012\n",
      "Epoch 029 | Loss 0.993419\n",
      "Epoch 039 | Loss 0.993299\n",
      "Distance 45/70\n",
      "Epoch 009 | Loss 0.995654\n",
      "Epoch 019 | Loss 0.994307\n",
      "Epoch 029 | Loss 0.994009\n",
      "Epoch 039 | Loss 0.993680\n",
      "Distance 46/70\n",
      "Epoch 009 | Loss 0.996006\n",
      "Epoch 019 | Loss 0.994955\n",
      "Epoch 029 | Loss 0.994389\n",
      "Epoch 039 | Loss 0.994222\n",
      "Distance 47/70\n",
      "Epoch 009 | Loss 0.996091\n",
      "Epoch 019 | Loss 0.995335\n",
      "Epoch 029 | Loss 0.994976\n",
      "Epoch 039 | Loss 0.994616\n",
      "Distance 48/70\n",
      "Epoch 009 | Loss 0.996938\n",
      "Epoch 019 | Loss 0.995588\n",
      "Epoch 029 | Loss 0.995325\n",
      "Epoch 039 | Loss 0.995055\n",
      "Distance 49/70\n",
      "Epoch 009 | Loss 0.997235\n",
      "Epoch 019 | Loss 0.996313\n",
      "Epoch 029 | Loss 0.995548\n",
      "Epoch 039 | Loss 0.995417\n",
      "Distance 50/70\n",
      "Epoch 009 | Loss 0.997411\n",
      "Epoch 019 | Loss 0.996463\n",
      "Epoch 029 | Loss 0.995887\n",
      "Epoch 039 | Loss 0.995758\n",
      "Distance 51/70\n",
      "Epoch 009 | Loss 0.997265\n",
      "Epoch 019 | Loss 0.996949\n",
      "Epoch 029 | Loss 0.996246\n",
      "Epoch 039 | Loss 0.996086\n",
      "Distance 52/70\n",
      "Epoch 009 | Loss 0.997905\n",
      "Epoch 019 | Loss 0.997114\n",
      "Epoch 029 | Loss 0.996480\n",
      "Epoch 039 | Loss 0.996320\n",
      "Distance 53/70\n",
      "Epoch 009 | Loss 0.997901\n",
      "Epoch 019 | Loss 0.997490\n",
      "Epoch 029 | Loss 0.996788\n",
      "Epoch 039 | Loss 0.996635\n",
      "Distance 54/70\n",
      "Epoch 009 | Loss 0.998232\n",
      "Epoch 019 | Loss 0.997981\n",
      "Epoch 029 | Loss 0.996979\n",
      "Epoch 039 | Loss 0.996853\n",
      "Distance 55/70\n",
      "Epoch 009 | Loss 0.998587\n",
      "Epoch 019 | Loss 0.998167\n",
      "Epoch 029 | Loss 0.997212\n",
      "Epoch 039 | Loss 0.997071\n",
      "Distance 56/70\n",
      "Epoch 009 | Loss 0.998612\n",
      "Epoch 019 | Loss 0.998416\n",
      "Epoch 029 | Loss 0.997464\n",
      "Epoch 039 | Loss 0.997301\n",
      "Distance 57/70\n",
      "Epoch 009 | Loss 0.999098\n",
      "Epoch 019 | Loss 0.998368\n",
      "Epoch 029 | Loss 0.997608\n",
      "Epoch 039 | Loss 0.997439\n",
      "Distance 58/70\n",
      "Epoch 009 | Loss 0.998926\n",
      "Epoch 019 | Loss 0.998657\n",
      "Epoch 029 | Loss 0.997941\n",
      "Epoch 039 | Loss 0.997619\n",
      "Distance 59/70\n",
      "Epoch 009 | Loss 0.999230\n",
      "Epoch 019 | Loss 0.998781\n",
      "Epoch 029 | Loss 0.997997\n",
      "Epoch 039 | Loss 0.997722\n",
      "Distance 60/70\n",
      "Epoch 009 | Loss 0.999089\n",
      "Epoch 019 | Loss 0.999108\n",
      "Epoch 029 | Loss 0.998134\n",
      "Epoch 039 | Loss 0.997995\n",
      "Distance 61/70\n",
      "Epoch 009 | Loss 1.000097\n",
      "Epoch 019 | Loss 0.999037\n",
      "Epoch 029 | Loss 0.998179\n",
      "Epoch 039 | Loss 0.998138\n",
      "Distance 62/70\n",
      "Epoch 009 | Loss 0.999494\n",
      "Epoch 019 | Loss 0.999098\n",
      "Epoch 029 | Loss 0.998584\n",
      "Epoch 039 | Loss 0.998172\n",
      "Distance 63/70\n",
      "Epoch 009 | Loss 1.000053\n",
      "Epoch 019 | Loss 0.999453\n",
      "Epoch 029 | Loss 0.998565\n",
      "Epoch 039 | Loss 0.998312\n",
      "Distance 64/70\n",
      "Epoch 009 | Loss 0.999750\n",
      "Epoch 019 | Loss 0.999672\n",
      "Epoch 029 | Loss 0.998706\n",
      "Epoch 039 | Loss 0.998406\n",
      "Distance 65/70\n",
      "Epoch 009 | Loss 0.999730\n",
      "Epoch 019 | Loss 0.999750\n",
      "Epoch 029 | Loss 0.998829\n",
      "Epoch 039 | Loss 0.998560\n",
      "Distance 66/70\n",
      "Epoch 009 | Loss 1.000086\n",
      "Epoch 019 | Loss 0.999654\n",
      "Epoch 029 | Loss 0.998856\n",
      "Epoch 039 | Loss 0.998677\n",
      "Distance 67/70\n",
      "Epoch 009 | Loss 1.001159\n",
      "Epoch 019 | Loss 0.999365\n",
      "Epoch 029 | Loss 0.998805\n",
      "Epoch 039 | Loss 0.998804\n",
      "Distance 68/70\n",
      "Epoch 009 | Loss 0.999872\n",
      "Epoch 019 | Loss 1.000088\n",
      "Epoch 029 | Loss 0.999080\n",
      "Epoch 039 | Loss 0.998855\n",
      "Distance 69/70\n",
      "Epoch 009 | Loss 1.000132\n",
      "Epoch 019 | Loss 1.000280\n",
      "Epoch 029 | Loss 0.999096\n",
      "Epoch 039 | Loss 0.998943\n",
      "Distance 70/70\n",
      "Epoch 009 | Loss 1.000185\n",
      "Epoch 019 | Loss 1.000389\n",
      "Epoch 029 | Loss 0.999162\n",
      "Epoch 039 | Loss 0.998906\n"
     ]
    }
   ],
   "source": [
    "energy_surface.construct_energy_surface(\n",
    "    epsilon=args.epsilon,\n",
    "    patience=args.patience\n",
    ")"
   ]
  },
  {
   "attachments": {},
   "cell_type": "markdown",
   "metadata": {},
   "source": [
    "## Plotting the binding curve"
   ]
  },
  {
   "cell_type": "code",
   "execution_count": 13,
   "metadata": {},
   "outputs": [],
   "source": [
    "distance_array = np.load('logs/model=34/2023.02.09.14.48.56/energy_surface/distance_list.npy')\n",
    "binding_energy_array = np.load('logs/model=34/2023.02.09.14.48.56/energy_surface/energy_surface.npy')\n",
    "start=0"
   ]
  },
  {
   "cell_type": "code",
   "execution_count": 15,
   "metadata": {},
   "outputs": [],
   "source": [
    "distance_array[start:].astype('float32').tofile('./mathematica/x4.dat')\n",
    "binding_energy_array[start:].astype('float32').tofile('./mathematica/y4.dat')"
   ]
  },
  {
   "cell_type": "code",
   "execution_count": 14,
   "metadata": {},
   "outputs": [
    {
     "data": {
      "image/png": "[encoded data removed]",
      "text/plain": [
       "<Figure size 1980x1500 with 1 Axes>"
      ]
     },
     "metadata": {},
     "output_type": "display_data"
    }
   ],
   "source": [
    "fig, axes = plt.subplots(nrows=1, ncols=1)\n",
    "#axes.scatter(distance_array[4:], binding_energy_array[4:], s=10)\n",
    "axes.plot(distance_array[start:], binding_energy_array[start:])\n",
    "axes.set_xlabel('Interatomic distance')\n",
    "axes.set_ylabel('Binding energy')\n",
    "axes.grid(True)\n",
    "axes.set_title('Potential energy surface')\n",
    "plt.show()\n",
    "#plt.savefig(save_path, dpi=300, transparent=False, bbox_inches='tight')"
   ]
  },
  {
   "attachments": {},
   "cell_type": "markdown",
   "metadata": {},
   "source": [
    "## Wigner functions vizualization"
   ]
  },
  {
   "cell_type": "code",
   "execution_count": null,
   "metadata": {},
   "outputs": [],
   "source": [
    "import glob\n",
    "\n",
    "directory = 'logs/model=30/2023.02.08.16.41.09'\n",
    "fig_dir = os.path.join(directory, 'figures')\n",
    "os.makedirs(fig_dir, exist_ok=True)\n",
    "\n",
    "X, P = np.meshgrid(x_quadrature_grid, x_quadrature_grid)\n",
    "\n",
    "states = glob.glob(os.path.join(directory, 'states/state_d=*'))\n",
    "states.sort()\n",
    "states = states[0:]\n",
    "\n",
    "for file in states:\n",
    "    \n",
    "    distance = file.split('=')[2].split('.npy')[0]\n",
    "    state_data = np.load(file)\n",
    "    state = FockStateTF(state_data=state_data, num_modes=args.modes, pure=True, cutoff_dim=args.cutoff_dim)\n",
    "\n",
    "    w_qdo1 = state.wigner(mode=0, xvec=x_quadrature_grid, pvec=x_quadrature_grid)\n",
    "    w_qdo2 = state.wigner(mode=1, xvec=x_quadrature_grid, pvec=x_quadrature_grid)\n",
    "\n",
    "    fig = plt.figure(figsize=(11, 8))\n",
    "    ax1 = fig.add_subplot(1, 2, 1, projection='3d')\n",
    "    ax1.plot_surface(X, P, w_qdo1, cmap=cm.coolwarm, lw=0.5, rstride=1, cstride=1)\n",
    "    ax1.set_axis_off()\n",
    "    ax1.set_title(\"QDO 1\")\n",
    "    ax2 = fig.add_subplot(1, 2, 2, projection='3d')\n",
    "    ax2.plot_surface(X, P, w_qdo1, cmap=cm.coolwarm, lw=0.5, rstride=1, cstride=1)\n",
    "    ax2.set_axis_off()\n",
    "    ax2.set_title(\"QDO 2\")\n",
    "    plt.savefig(os.path.join(fig_dir, distance + '.png'))\n",
    "    plt.close()"
   ]
  },
  {
   "attachments": {},
   "cell_type": "markdown",
   "metadata": {},
   "source": [
    "## Marginal densities vizualization"
   ]
  },
  {
   "cell_type": "code",
   "execution_count": 57,
   "metadata": {},
   "outputs": [],
   "source": [
    "plt.style.use('src/plots.mplstyle')"
   ]
  },
  {
   "cell_type": "code",
   "execution_count": 58,
   "metadata": {},
   "outputs": [
    {
     "ename": "",
     "evalue": "",
     "output_type": "error",
     "traceback": [
      "\u001b[1;31mCanceled future for execute_request message before replies were done"
     ]
    },
    {
     "ename": "",
     "evalue": "",
     "output_type": "error",
     "traceback": [
      "\u001b[1;31mThe Kernel crashed while executing code in the the current cell or a previous cell. Please review the code in the cell(s) to identify a possible cause of the failure. Click <a href='https://aka.ms/vscodeJupyterKernelCrash'>here</a> for more info. View Jupyter <a href='command:jupyter.viewOutput'>log</a> for further details."
     ]
    }
   ],
   "source": [
    "import glob\n",
    "\n",
    "directory = 'logs/model=30/2023.02.08.16.41.09'\n",
    "fig_dir = os.path.join(directory, 'figures')\n",
    "os.makedirs(fig_dir, exist_ok=True)\n",
    "\n",
    "states = glob.glob(os.path.join(directory, 'quad_marginals/marginals_d=*'))\n",
    "states.sort()\n",
    "states = states[start:]\n",
    "\n",
    "for file in states:\n",
    "    \n",
    "    distance = file.split('=')[2].split('.npy')[0]\n",
    "    data = np.load(file)\n",
    "    state = FockStateTF(state_data=state_data, num_modes=args.modes, pure=True, cutoff_dim=args.cutoff_dim)\n",
    "\n",
    "    rho1 = data[0]\n",
    "    rho2 = data[1]\n",
    "\n",
    "    fig = plt.figure(figsize=(11, 8))\n",
    "    ax = fig.add_subplot(1, 1, 1)\n",
    "    ax.plot(x_quadrature_grid, rho1)\n",
    "    ax.plot(x_quadrature_grid, rho2)\n",
    "    ax.set_xlabel('Position relative to QDO center')\n",
    "    ax.set_title(\"Marginal position quadrature densities\")\n",
    "    plt.yticks([])\n",
    "    plt.savefig(os.path.join(fig_dir, distance + '.png'))\n",
    "    plt.close()"
   ]
  },
  {
   "attachments": {},
   "cell_type": "markdown",
   "metadata": {},
   "source": [
    "## Joint density vizualization"
   ]
  },
  {
   "cell_type": "code",
   "execution_count": null,
   "metadata": {},
   "outputs": [],
   "source": [
    "import glob\n",
    "\n",
    "directory = 'logs/model=30/2023.02.08.16.41.09'\n",
    "fig_dir = os.path.join(directory, 'figures')\n",
    "os.makedirs(fig_dir, exist_ok=True)\n",
    "\n",
    "X1, X2 = np.meshgrid(x_quadrature_grid, x_quadrature_grid)\n",
    "\n",
    "states = glob.glob(os.path.join(directory, 'quad_density/density_d=*'))\n",
    "states.sort()\n",
    "states = states[start:]\n",
    "\n",
    "for file in states:\n",
    "    \n",
    "    distance = file.split('=')[2].split('.npy')[0]\n",
    "    joint_density = np.load(file)\n",
    "\n",
    "    fig = plt.figure(figsize=(11, 8))\n",
    "    ax1 = fig.add_subplot(1, 1, 1, projection='3d')\n",
    "    ax1.plot_surface(X1, X2, joint_density, cmap=cm.coolwarm, lw=0.5, rstride=1, cstride=1)\n",
    "    ax1.set_axis_off()\n",
    "    ax1.set_title(\"Position quadratures joint density\")\n",
    "    plt.savefig(os.path.join(fig_dir, distance + '.png'))\n",
    "    plt.close()"
   ]
  },
  {
   "cell_type": "code",
   "execution_count": null,
   "metadata": {},
   "outputs": [],
   "source": []
  }
 ],
 "metadata": {
  "kernelspec": {
   "display_name": ".env",
   "language": "python",
   "name": "python3"
  },
  "language_info": {
   "codemirror_mode": {
    "name": "ipython",
    "version": 3
   },
   "file_extension": ".py",
   "mimetype": "text/x-python",
   "name": "python",
   "nbconvert_exporter": "python",
   "pygments_lexer": "ipython3",
   "version": "3.10.9"
  },
  "orig_nbformat": 4,
  "vscode": {
   "interpreter": {
    "hash": "cec319b22032dfda79d56da89f8fd272ead690954e455f535783cde39b9762e6"
   }
  }
 },
 "nbformat": 4,
 "nbformat_minor": 2
}
